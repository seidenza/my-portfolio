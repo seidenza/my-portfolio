{
 "cells": [
  {
   "cell_type": "markdown",
   "metadata": {},
   "source": [
    "Book Reading: \n",
    "- Any Classical Mechanics Book Section on Lagrangian Dynamics\n",
    "- [[Section 2.1 and 2.2 of Shapiro's Book is online]](https://www.physics.rutgers.edu/~shapiro/507/book.pdf)\n",
    "\n",
    "# 5 Sept 23 - Notes: Lagrangian Dynamics\n",
    "\n",
    "[Newtonian Mechanics](https://en.wikipedia.org/wiki/Newton%27s_laws_of_motion) is an incredibly useful model of the natural world. In fact, it wasn't until the mid 1970s that we were able to truly [test Einstein's gravity as a true replacement](https://en.wikipedia.org/wiki/Tests_of_general_relativity) for Newton. That being said, for most terrestrial situations (macroscopic objects moving at low speeds), Newton's mechanics is very good. However, the problem with Newton is that it requires a few things:\n",
    "\n",
    "1. We must be able identify each interaction on the object or model an average behavior from many littler interactions (e.g., models of friction vs. detailed E&M forces)\n",
    "2. We must be able to mathematically describe the size and direction of the interaction at all times we want to model\n",
    "3. We must be able to vectorially add the interactions to produce the net force $\\sum_i \\vec{F}_i = \\vec{F}_{net}$.\n",
    "\n",
    "In many cases, we can do this. But consider the picture below of a bead sliding inside a cone. How would you write down the contact force between the cone and the bead for all space and time?\n",
    "\n",
    "![Cone](../../assets/cylindrical_cone_mass.jpg)\n",
    "\n"
   ]
  },
  {
   "cell_type": "markdown",
   "metadata": {},
   "source": [
    "Enter the [Lagrangian Mechanics](https://en.wikipedia.org/wiki/Lagrangian_mechanics), an equivalent description of Newton's mechanics developed through several advances in physics and mathematics in the 17th and 18th centuries. Some of the major contributors included Newton, Gottfried Wilhelm Leibniz, Pierre Louis Moreau de Maupertuis, Guillaume de l'Hôpital, Jacques Bernoulli, Jean Bernoulli, and Jean D'Alembert. This period of the development of mechanics was foundational to the development of concepts like the [action](https://en.wikipedia.org/wiki/Action_(physics)) and [phase space](https://en.wikipedia.org/wiki/Phase_space) as well as approaches like [variational analysis](https://en.wikipedia.org/wiki/Calculus_of_variations), which formed the basis for [dynamical systems](https://en.wikipedia.org/wiki/Dynamical_system) (phase space describes real motion), [quantum mechanics](https://en.wikipedia.org/wiki/Quantum_mechanics) (quantize the action), and [perturbation theory](https://en.wikipedia.org/wiki/Perturbation_theory) (approximate answers can be iteratively sought)."
   ]
  },
  {
   "cell_type": "markdown",
   "metadata": {},
   "source": [
    "This analysis is grounded in optimization or rather extremization. The idea is as follows:\n",
    "\n",
    "1. Consider all potential paths a system can take through phase space\n",
    "2. Time each of them between the same two points in phase space\n",
    "3. The one that minimizes the action integral over that time/space is the one the system takes\n",
    "\n",
    "This might seem magical! But it's truly a deep connection to the energetics of the system, which limit the the relevant equations of motion by both the number of degrees of freedom (ways the system can move) and the constraints equation (things that influence the motion)."
   ]
  },
  {
   "cell_type": "markdown",
   "metadata": {},
   "source": [
    "\n",
    "## Variational Analysis\n",
    "\n",
    "The name of the game in calculus of variations is finding extrema (minima, maxima, or stationary points) of integrals that have the form:\n",
    "\n",
    "$$\n",
    "S = \\int_{x_1}^{x_2} f[y(x),\\dot{y}(x),x] dx\n",
    "$$\n",
    " \n",
    "While at first this might seem like a strange thing to do, it turns out that this is a very powerful way to solve problems. In fact, we are able to characterize the path of a system through phase space by finding the path that minimizes the [action integral](https://en.wikipedia.org/wiki/Action_(physics)) . This is called the [principle of least action](https://en.wikipedia.org/wiki/Stationary-action_principle). This kind of analysis also tells us that a [Great Circle](https://en.wikipedia.org/wiki/Great_circle) is the shortest path between two points on a sphere and that [Snell's Law](https://en.wikipedia.org/wiki/Snell%27s_law) is the shortest path (in time) light takes between two points in different media.\n",
    "\n",
    "While you are trying to find the minimize $S$, what you end up finding is the **function** $y(x)$ that satisfies this minimization. It turns out that for $S$ to have extrema, the Euler-Lagrange equation (below) must be satisfied. The handwritten notes below show how to derive this equation for a 1D system, but it can be generalized to $N$ dimensions.\n",
    "\n",
    "$$\n",
    "\\frac{\\partial f}{\\partial y} - \\frac{d}{dx}\\left(\\frac{\\partial f}{\\partial \\dot{y}} \\right) = 0\n",
    "$$\n",
    "\n",
    "### Applications to Classical Mechanics\n",
    "\n",
    "In practice, when approaching a variational problem, the typical workflow if something like this:\n",
    "\n",
    "1. Write your problem down in the form of an integral like $S$.\n",
    "2. Use the Euler-Lagrange equation to get a differential equation for the unknown function $y$.\n",
    "3. Solve the differential equation.\n",
    "\n",
    "We can extend this framework for use in classical mechanics by defining the lagrangian of a system with independent, generalized coordinates $(q_1,\\dot{q}_1... q_n,\\dot{q}_n)$ as the kinetic energy minus potential energy of a system:\n",
    "\n",
    "$$\n",
    "\\mathcal{L(q_1,\\dot{q}_1... q_n,\\dot{q}_n)} = T(q_1,\\dot{q}_1... q_n,\\dot{q}_n) - V(q_1,\\dot{q}_1... q_n,\\dot{q}_n)\n",
    "$$\n",
    "\n",
    "Here, the function $\\mathcal{L}$ is called the Lagrangian of the system and takes the place of $f$ in the Euler-Lagrange equation. The coordinates $q_i$ are called the generalized coordinates of the system and they take the place of $y$ in the 1D Euler-Lagrange equation.\n",
    "\n",
    "The [action](https://en.wikipedia.org/wiki/Action_(physics)) is a scalar quantity that \"tracks\" how the energy changes in a physical system over time. It is the integral of the Lagrangian over a time interval, which we write as the action integral:\n",
    "\n",
    "$$\n",
    "S = \\int_{t_1}^{t_2} \\mathcal{L(q_1,\\dot{q}_1... q_n,\\dot{q}_n)} dt\n",
    "$$\n",
    "\n",
    "Several mathematicians contributed to this work including Leibniz, BErnoulli, Maupertuis, and Euler. Through their collective work, it turns out we can think of the path that a system takes through an abstract space of all the measurements that uniquely characterize it (a phase space). That trajectory through phase space is just as useful as a real physical trajectory in $x$, $y$, $z$ space if we understand what it is doing. And we can abstract that concept to new systems that might not have mechanical analogs (e.g., quantum mechanics).\n",
    "\n",
    "\n",
    "Their work showed that the path a system takes between points $1$ and $2$ in these generalized coordinates is the path such that $S$ is stationary (you can think of this as minimizing the action integral). This is called the principle of least action. This lets us leverage the Euler-Lagrange equation for the generalized coordinates of our system $q_n$. We can derive that result, but it is not necessary for you to do so to see the connection between the equation below and the 1D Euler-Lagrange equation.\n",
    "\n",
    "$$\n",
    "\\frac{\\partial \\mathcal{L}}{\\partial q_i} - \\frac{d}{dt}\\left(\\frac{\\partial \\mathcal{L}}{\\partial \\dot{q}_i} \\right) = 0\n",
    "$$\n",
    "\n",
    "Once we perform these derivatives on this function, we will obtain $n$ equations of motion (EOM) for our system; one for each generalized coordinate ($q_i$). Note how we didn't have to know anything about the forces acting on our system to arrive at equations of motion, but rather the energy.\n",
    "\n",
    "## Video on Lagrangian Dynamics\n",
    "\n",
    "Parth G. has a lovely video below about the basics of Lagrangian Dynamics.\n",
    "\n",
    "[![](https://markdown-videos-api.jorgenkh.no/youtube/KpLno70oYHE?width=720&height=405)](https://inv.tux.pizza/watch?v=KpLno70oYHE)\n",
    "- Non-Commercial Link: [https://inv.tux.pizza/watch?v=KpLno70oYHE](https://inv.tux.pizza/watch?v=KpLno70oYHE)\n",
    "- Commercial Link: [https://youtube.com/watch?v=KpLno70oYHE](https://youtube.com/watch?v=KpLno70oYHE)"
   ]
  },
  {
   "cell_type": "markdown",
   "metadata": {},
   "source": [
    "## Additional Resources\n",
    "\n",
    "My notes go into detail on the development of the Lagrangian problem. But practice is the best approach.\n",
    "\n",
    "### Handwritten Notes\n",
    "\n",
    "Here are my handwritten notes on the Calculus of Variations and Lagrangian Mechanics.\n",
    "\n",
    "* [Calculus of Variations](../../assets/notes/Notes-Calculus_of_Variations.pdf)\n",
    "* [Lagrangian Dynamics](../../assets/notes/Notes-Lagrangian_Dynamics.pdf)\n",
    "* [Lagrangian Example](../../assets/notes/Notes-Lagrangian_Example.pdf)\n",
    "* [Lagrangian Example with Generalized Forces and Lagrange Multipliers](../../assets/notes/Notes-Lagrangian_Example_Gen_Force.pdf)\n",
    "\n",
    "\n",
    "### Book Readings\n",
    "\n",
    "This reading is useful preparation for reminding yourself of Lagrangian Dynamics.\n",
    "\n",
    "* Any classical mechanics book you like! Taylor is a good one.\n",
    "* [Section 2.1 and 2.2 of Shapiro's Book](https://www.physics.rutgers.edu/~shapiro/507/book.pdf)\n",
    "* [A Google Book you can review](https://www.google.com/books/edition/A_Student_s_Guide_to_Lagrangians_and_Ham/ebTCAQAAQBAJ?hl=en&gbpv=1&dq=lagrangian+dynamics+book&printsec=frontcover)\n",
    "\n",
    "### Video Resources\n",
    "\n",
    "If you are a feeling that you would like a little direct instruction on this, this lecture is great. Lots of examples!\n",
    "\n",
    "[![](https://markdown-videos-api.jorgenkh.no/youtube/zhk9xLjrmi4?width=720&height=405)](https://inv.tux.pizza/watch?v=zhk9xLjrmi4)\n",
    "- Non-Commercial Link: [https://inv.tux.pizza/watch?v=zhk9xLjrmi4](https://inv.tux.pizza/watch?v=zhk9xLjrmi4)\n",
    "- Commercial Link: [https://youtube.com/watch?v=zhk9xLjrmi4](https://youtube.com/watch?v=zhk9xLjrmi4)"
   ]
  },
  {
   "cell_type": "markdown",
   "metadata": {},
   "source": []
  }
 ],
 "metadata": {
  "kernelspec": {
   "display_name": "base",
   "language": "python",
   "name": "python3"
  },
  "language_info": {
   "codemirror_mode": {
    "name": "ipython",
    "version": 3
   },
   "file_extension": ".py",
   "mimetype": "text/x-python",
   "name": "python",
   "nbconvert_exporter": "python",
   "pygments_lexer": "ipython3",
   "version": "3.9.12"
  }
 },
 "nbformat": 4,
 "nbformat_minor": 4
}
