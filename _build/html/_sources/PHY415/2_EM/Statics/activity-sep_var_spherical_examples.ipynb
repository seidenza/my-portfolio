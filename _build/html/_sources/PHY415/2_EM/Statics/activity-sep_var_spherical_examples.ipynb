{
 "cells": [
  {
   "cell_type": "markdown",
   "metadata": {},
   "source": [
    "# 10 Oct 23 - Activity: Matching Boundary Conditions and Plotting the Potential\n",
    "## Azimuthally Symmetric Solutions\n",
    "\n",
    "As we saw, azimuthally symmetric solutions, the electric potential is independent of $\\phi$ and the solutions are of the form:\n",
    "\n",
    "$$V(r,\\theta) = \\sum_{n=0}^\\infty \\sum_{l=0}^\\infty \\left(A_{nl} r^n + \\frac{B_{nl}}{r^{n+1}}\\right) P_l(\\cos\\theta)$$\n",
    "\n",
    "where $P_l(\\cos\\theta)$ are the [Legendre polynomials](https://en.wikipedia.org/wiki/Legendre_polynomials). The coefficients $A_{nl}$ and $B_{nl}$ are determined by the boundary conditions. We will practice solving for these coefficients in this activity."
   ]
  },
  {
   "cell_type": "markdown",
   "metadata": {},
   "source": [
    "**&#9989; Do this** \n",
    "\n",
    "### Sphere of constant surface potential\n",
    "\n",
    "Consider a sphere of with a radius $a$. If the potential on the surface is $V_0$, what is the potential inside and outside the sphere?\n",
    "\n",
    "1. Consider the radial solutions (what doesn't blow up?)\n",
    "2. Consider the polar angle solutions, what has to be true? What does that say about terms with $l>0$?\n",
    "3. Write down the solution inside and outside the sphere.\n",
    "4. Make a heat map plot (in $x$ and $y$) of the potential inside and outside the sphere. You can set $a=1$ and $V_0=1$ if that helps."
   ]
  },
  {
   "cell_type": "code",
   "execution_count": 1,
   "metadata": {},
   "outputs": [],
   "source": [
    "## your code here"
   ]
  },
  {
   "cell_type": "markdown",
   "metadata": {},
   "source": [
    "**&#9989; Do this** \n",
    "\n",
    "### Sphere of variable potential\n",
    "\n",
    "Consider a sphere of with a radius $a$. If the potential on the surface is $V(\\theta)$, what is the potential inside and outside the sphere?\n",
    "\n",
    "1. Consider the radial solutions (what doesn't blow up?)\n",
    "2. Consider the polar angle solutions, what has to be true? Can you say anything about them?\n",
    "3. What if $V(\\theta) = V_0 \\cos(\\theta)$? What is the potential inside and outside the sphere?"
   ]
  },
  {
   "cell_type": "markdown",
   "metadata": {},
   "source": [
    "### A thick spherical shell\n",
    "\n",
    "Suppose you have a spherical shell of inner radius $a$ and outer radius $b$, and you know the electric potential on the inner ($V(a,\\theta) = V_a(\\theta)$) and outer ($V(b,\\theta) = V_b(\\theta)$) surfaces. You want to find the electric potential $V(r,\\theta)$ inside the hole ($r<a$) and outside the shell ($r>b$).\n",
    "\n",
    "Let's allow:\n",
    "\n",
    "$$V_a(\\theta) = V_{a0} + V_{a1} \\cos(\\theta)$$\n",
    "$$V_b(\\theta) = V_{b0} + V_{b1} \\cos(\\theta)$$\n",
    "\n",
    "1. What is the general solution? (all three regions)\n",
    "2. What are the boundary conditions for $r$?\n",
    "3. What terms are left in the general solutions?\n",
    "4. Find the unique solution for $V(r,\\theta)$ inside the hole ($r<a$) and outside the shell ($r>b$).\n",
    "\n",
    "What do you do in the case of $V_a(\\theta) = f(\\theta)$ and $V_b(\\theta) = g(\\theta)$ - generic functions?\n"
   ]
  },
  {
   "cell_type": "markdown",
   "metadata": {},
   "source": [
    "### Example of Polarization\n",
    "\n",
    "**&#9989; Do this** \n",
    "\n",
    "Put a metal sphere of radius $a$ in a uniform electric field $\\vec{E} = E_0 \\hat{z}$. \n",
    "\n",
    "![Sphere in a uniform electric field](https://d2vlcm61l7u1fs.cloudfront.net/media%2F2f6%2F2f6e4bc3-0070-470f-9451-6376a4eceddc%2Fphpl2HMKa.png)\n",
    "\n",
    "What is the potential inside and outside the sphere?\n",
    "\n",
    "1. Draw the picture and write down the boundary conditions. What is the potential everywhere on a metal?\n",
    "2. What general solution do you need to use? How do you know?\n",
    "3. What are the boundary conditions for the radial solutions? The polar angle solutions?\n",
    "4. Match your boundary conditions to your general solution. What is the potential inside and outside the sphere?\n",
    "5. Make a heat map plot (in $x$ and $y$) of the potential inside and outside the sphere. You can set $a=1$ and $E_0=1$ if that helps.\n",
    "6. (challenge) Find the polarization charge density on the surface of the sphere. What is the total charge on the sphere?"
   ]
  },
  {
   "cell_type": "code",
   "execution_count": 2,
   "metadata": {},
   "outputs": [],
   "source": [
    "## your code here"
   ]
  },
  {
   "cell_type": "code",
   "execution_count": null,
   "metadata": {},
   "outputs": [],
   "source": []
  }
 ],
 "metadata": {
  "kernelspec": {
   "display_name": "base",
   "language": "python",
   "name": "python3"
  },
  "language_info": {
   "codemirror_mode": {
    "name": "ipython",
    "version": 3
   },
   "file_extension": ".py",
   "mimetype": "text/x-python",
   "name": "python",
   "nbconvert_exporter": "python",
   "pygments_lexer": "ipython3",
   "version": "3.9.12"
  },
  "orig_nbformat": 4
 },
 "nbformat": 4,
 "nbformat_minor": 2
}
