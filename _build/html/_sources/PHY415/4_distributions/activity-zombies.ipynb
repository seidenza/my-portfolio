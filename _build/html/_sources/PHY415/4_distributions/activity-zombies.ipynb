{
 "cells": [
  {
   "cell_type": "markdown",
   "metadata": {},
   "source": [
    "# 7 Dec 23 - Activity: Modeling\n",
    "\n",
    "While this course has focused on physics and physical systems, the same techniques and approaches that you have developed, can be used to investigate systems in other fields. In this activity, we will demonstrate an initial model, and then ask you to complicate it with the ideas you have developed. Consider the critical issue of a potential **zombie apocalypse**.\n",
    "\n",
    "While this might seem a little silly, the models and dynamics of a zombie apocalypse can be adapted from the models of disease spread. In fact, the [CDC had a page dedicated](https://www.usatoday.com/story/news/nation/2021/03/05/zombie-apocalypse-cdc-useful-advice-any-emergency-pandemic/6920614002/) to this topic. For those who might be really interested, the behavior fo zombie hoards can be modeled like flocking birds or schools of fish.\n",
    "\n",
    "## What are we doing?  \n",
    "\n",
    "Saving the world, obviously.\n",
    "\n",
    "[![Night of the Living Dead](https://markdown-videos-api.jorgenkh.no/youtube/MQ8ZKw7YIfQ?width=720&height=405)](https://inv.tux.pizza/watch?v=MQ8ZKw7YIfQ)\n",
    "\n",
    "- Non-Commercial Link: [https://inv.tux.pizza/watch?v=MQ8ZKw7YIfQ](https://inv.tux.pizza/watch?v=MQ8ZKw7YIfQ)\n",
    "- Commercial Link: [https://youtube.com/watch?v=MQ8ZKw7YIfQ](https://youtube.com/watch?v=MQ8ZKw7YIfQ)"
   ]
  },
  {
   "cell_type": "markdown",
   "metadata": {},
   "source": [
    "## Where do we start? Compartmental models\n",
    "\n",
    "The modeling of epidemics follows from a few simple considerations:\n",
    "\n",
    "* the population under consideration ca be sufficiently compartmentalized into distinct groups, and\n",
    "* there is a rate (fixed or variable) at which individuals can move between compartments.\n",
    "\n",
    "The [compartmental model](https://en.wikipedia.org/wiki/Compartmental_models_in_epidemiology) is a simple way to model the spread of a disease and where we will start.\n",
    "\n",
    "### The SIS model\n",
    "\n",
    "The Susceptible-Infected-Susceptible (SIS) model describes an epidemic in which healthy individuals (Susceptibles) can become infected with the disease in question (Infected). The infected individuals can be cured but retain no natural immunity to the disease (i.e., become susceptible again). The figure below illustrates the compartments and flux of individuals in the SIS model. Such models are suitable for bacterial infections.\n",
    "\n",
    "![The SIS model](../assets/images/sis.png)\n",
    "\n",
    "The dynamics are given by,\n",
    "\n",
    "$$\\dfrac{dS}{dt} = -\\beta S I + \\gamma I$$\n",
    "$$\\dfrac{dI}{dt} = \\beta S I - \\gamma I$$\n",
    "\n",
    "The rate at which susceptibles are infected is related to the contact rate ($\\beta$). The recovery rate ($\\gamma$) describes how quickly individuals are cured. The rate equations that govern this model are two ordinary non-linear differential equations. Here we have neglected the birth and death rates of the populations by making the approximation the epidemic occurs very quickly. If we assume there's a total number of people $N$, then we can write these equations as:\n",
    "\n",
    "$$\\dfrac{dS}{dt} = -\\beta S I + \\gamma (N - S)$$\n",
    "$$I(t) = N - S(t)$$\n",
    "\n",
    "For given values of $\\beta$ and $\\gamma$, we can solve these equations numerically.\n",
    "\n",
    "### The SIR model\n",
    "\n",
    "The Susceptible-Infected-Recovered (SIR) model describes an epidemic in which healthy individuals (Susceptibles) can become infected with the disease in question (Infected). The infected individuals can be cured and retain a natural immunity to the disease (Recovered). The figure below illustrates the compartments and flux of individuals in the SIR model. Such models are suitable for viral infections. We can modify this model for the zombies.\n",
    "\n",
    "![The SIR model](../assets/images/sir.png)\n",
    "\n",
    "The transfer rates can be defined for the SIR model as was for the SIS model. The rate equations that govern this model are three ordinary non-linear differential equations. Again, we have neglected the birth and death rates of the populations by making the approximation the epidemic occurs very quickly.\n",
    "\n",
    "$$\\dfrac{dS}{dt} = -\\beta S I$$\n",
    "$$\\dfrac{dI}{dt} = \\beta S I - \\gamma I$$\n",
    "$$\\dfrac{dR}{dt} = \\gamma I$$\n",
    "\n",
    "Again, for given values of $\\beta$ and $\\gamma$, we can solve these equations numerically.\n",
    "\n",
    "### The SZR model\n",
    "\n",
    "This SZR model treats the population as compartmentalized into the 3 groups: Susceptible (S), Zombie (Z), and Removed (R). Movement between these groups is illustrated below.\n",
    "\n",
    "![The SZR model](../assets/images/szr.png)\n",
    "\n",
    "Susceptibles can become zombies through an encounter with a zombie. Zombies can move to the removed compartment by being destroyed in classic manners (e.g., Dawn of the Dead). Susceptibles can move to the removed compartment through death by a non-zombie encounter. Finally, removed individuals can become zombies through typical resurrection techniques (e.g., Live and Let Die).\n",
    "\n",
    "\n",
    "The deterministic model includes transfer rates we have seen before, but we include the rates of transfer from susceptible to removed ($\\delta$) and removed to zombie ($\\xi$).\n",
    "\n",
    "$$\\dfrac{dS}{dt} = - \\beta S Z - \\delta S$$\n",
    "$$\\dfrac{dZ}{dt} = \\beta S Z + \\xi R - \\gamma S Z$$\n",
    "$$\\dfrac{dR}{dt} = \\delta S +\\gamma SZ - \\xi R$$\n",
    "\n",
    "For given values of values of $\\beta$, $\\gamma$, $\\delta$, and $\\xi$, we can solve these equations numerically."
   ]
  },
  {
   "cell_type": "markdown",
   "metadata": {},
   "source": [
    "### Tasks for today\n",
    "\n",
    "**&#9989; Do this** \n",
    "\n",
    "1. Work with your group to model the SIS and SIR systems. Choose values or non-dimensionalize the equations to reduce the number of parameters.\n",
    "2. Consider the many tools we have used to investigate ODEs. What more information can you extract from these models? What are the limitations of these models?\n",
    "3. Do the same for the SZR model. What are the limitations of this model? What are the advantages of this model?"
   ]
  },
  {
   "cell_type": "code",
   "execution_count": 3,
   "metadata": {},
   "outputs": [],
   "source": [
    "## your code here"
   ]
  },
  {
   "cell_type": "markdown",
   "metadata": {},
   "source": [
    "### Challenges\n",
    "\n",
    "**&#9989; Do this** \n",
    "\n",
    "4. **Challenge**: Build an SZQR model where the CDC quarantines some number of susecptibles and zombies (at different rates). How does this change the dynamics of the system?\n",
    "5. **Challenge**: Introduce stochasticity into the model. What happened if instead there were a probability of infection or death? How does this change the dynamics of the system? If you are interested in this, look at [this paper](../assets/papers/z-epidemic.pdf)."
   ]
  },
  {
   "cell_type": "code",
   "execution_count": 4,
   "metadata": {},
   "outputs": [],
   "source": [
    "## your code here"
   ]
  },
  {
   "cell_type": "code",
   "execution_count": null,
   "metadata": {},
   "outputs": [],
   "source": []
  }
 ],
 "metadata": {
  "kernelspec": {
   "display_name": "base",
   "language": "python",
   "name": "python3"
  },
  "language_info": {
   "codemirror_mode": {
    "name": "ipython",
    "version": 3
   },
   "file_extension": ".py",
   "mimetype": "text/x-python",
   "name": "python",
   "nbconvert_exporter": "python",
   "pygments_lexer": "ipython3",
   "version": "3.9.12"
  }
 },
 "nbformat": 4,
 "nbformat_minor": 2
}
