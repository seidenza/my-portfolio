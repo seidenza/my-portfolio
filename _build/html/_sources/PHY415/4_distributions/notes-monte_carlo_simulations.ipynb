{
 "cells": [
  {
   "cell_type": "markdown",
   "metadata": {},
   "source": [
    "# 27 Nov 23 - Notes: Monte Carlo Simulations\n",
    "\n",
    "**Monte Carlo Simulations** are a class of computational algorithms that rely on repeated random sampling to obtain numerical results. The method is named after the Monte Carlo Casino in Monaco, reflecting its foundational principle of randomness and chance. Initially developed as part of the Manhattan Project during World War II, Monte Carlo simulations have since evolved into a crucial tool in both physics and a myriad of other fields.\n",
    "\n",
    "## Overview of Monte Carlo Simulations\n",
    "\n",
    "At its core, a [Monte Carlo simulation](https://en.wikipedia.org/wiki/Monte_Carlo_method) involves using randomness to solve problems that might be deterministic in principle. It's particularly useful for systems with a large number of variables, where traditional analytical methods become impractical.\n",
    "\n",
    "In physics, Monte Carlo methods are indispensable for studying complex systems where analytical solutions are unattainable. They are widely used in statistical physics, quantum mechanics, and astrophysics, among other areas. For instance, as we will show they can help model the behavior of gases, liquids, and solids at the atomic level, and simulate the evolution of stars and galaxies. In mathematics, these methods offer a way to approximate solutions to complex integrals and differential equations. While our primary focus here is on physics and astronomy, it's worth noting that Monte Carlo methods have been successfully applied in numerous other domains. For instance, in finance, they are used to model and predict stock market behaviors and in risk analysis. In engineering, they help in reliability analysis and optimization problems. Even in healthcare, they assist in radiation therapy planning and epidemiological studies."
   ]
  },
  {
   "cell_type": "markdown",
   "metadata": {},
   "source": [
    "## How Monte Carlo Simulations Work\n",
    "\n",
    "*We will go into this later in detail*\n",
    "\n",
    "Monte Carlo simulations are grounded in the principle of random sampling and uses the power of statistical analysis to solve problems that, to be honest, the have no business working for. MC sims use randomness to explore a large set of possible solutions to a problem, where direct computation would be impractical or impossible. They then find the most likely outcomes and use them to approximate the true solution.\n",
    "\n",
    "A key concept for this work is the use of [probability distributions](https://en.wikipedia.org/wiki/Probability_distribution). In many physical problems, certain outcomes are more likely than others, and these probabilities can be used to guide the random sampling process. As westarted to see with microstates and macrostates -- at thermal equilibrium the most probable macrostate is easily determined. \n",
    "\n",
    "### Boltzmann Distribution\n",
    "\n",
    "For example, in thermal physics, the distribution of particle energies can often be described by the [Boltzmann distribution](https://en.wikipedia.org/wiki/Boltzmann_distribution). This distribution tells us that the probability of a particle having a certain energy is proportional to the exponential of the negative of that energy divided by the temperature. This distribution is used in Monte Carlo simulations to determine the probability of a particle having a certain energy. The Boltzmann distribution is given by:\n",
    "\n",
    "$$P(E) = \\frac{e^{-E/kT}}{Z},$$\n",
    "\n",
    "where $E$ is the energy state, $k$ is the Boltzmann constant, $T$ is the temperature, and $Z$ is the [partition function](https://en.wikipedia.org/wiki/Partition_function_(statistical_mechanics)).\n",
    "\n",
    "### Lecture Video \n",
    "\n",
    "This introduction aims to provide a foundational understanding of Monte Carlo methods; we will delve deeper into the workings, applications, and mathematical aspects of these simulations.\n",
    "\n",
    "[![Monte Carlo Simulations](https://markdown-videos-api.jorgenkh.no/youtube/7ESK5SaP-bc?width=720&height=405)](https://inv.tux.pizza/watch?v=7ESK5SaP-bc)\n",
    "\n",
    "- Non-Commercial Link: [https://inv.tux.pizza/watch?v=7ESK5SaP-bc](https://inv.tux.pizza/watch?v=7ESK5SaP-bc)\n",
    "- Commercial Link: [https://youtube.com/watch?v=7ESK5SaP-bc](https://youtube.com/watch?v=7ESK5SaP-bc)\n",
    "\n",
    "### Basic Components of a Monte Carlo Simulation\n",
    "\n",
    "The basic elements of any Monte Carlo Simulation are as follows:\n",
    "\n",
    "1. **Random Number Generators (RNGs)**: These are algorithms that generate sequences of numbers that approximate the properties of random numbers. RNGs are the backbone of any Monte Carlo simulation. They are used to generate random samples from probability distributions, which are then used to approximate the solution to a problem.\n",
    "2. **Simulation Algorithms**: An example is the [**Metropolis-Hastings algorithm**](https://en.wikipedia.org/wiki/Metropolis-Hastings_algorithm), widely used in statistical physics. This algorithm decides whether to accept or reject a new state based on a probability criterion, allowing for a detailed exploration of the state space of a system. \n",
    "\n",
    "In the Metropolis-Hastings algorithm, the probability of moving from a state $i$ to a state $j$ is given by:\n",
    "\n",
    "$$P(i \\rightarrow j) = \\min\\left(1, \\frac{e^{-E_j/kT}}{e^{-E_i/kT}}\\right),$$ \n",
    "\n",
    "where $E_i$ and $E_j$ are the energies of states $i$ and $j$ respectively."
   ]
  },
  {
   "cell_type": "markdown",
   "metadata": {},
   "source": [
    "\n",
    "## Applications in Physics and Astronomy\n",
    "\n",
    "Monte Carlo simulations are widely used in physics and astronomy, where they help in modeling complex systems and phenomena. Here are some examples:\n",
    "\n",
    "### Statistical Physics\n",
    "\n",
    "- **Phase Transitions and Critical Phenomena**: Monte Carlo simulations are instrumental in studying phase transitions, like the transition from a ferromagnetic to a paramagnetic state, by allowing for the exploration of large lattice systems.\n",
    "- **Ising Model of Ferromagnetism**: This model uses a lattice where each site has a spin that interacts with its neighbors. Monte Carlo methods help in simulating and understanding the magnetic properties of materials.\n",
    "\n",
    "### Quantum Mechanics\n",
    "\n",
    "- **Quantum Monte Carlo Methods**: These are used to study systems of many interacting quantum particles, providing insights into the ground state and excited state properties.\n",
    "- **Applications in Atomic and Molecular Physics**: Monte Carlo methods help in calculating the properties of atoms and molecules, which are otherwise difficult due to the complexity of quantum interactions.\n",
    "\n",
    "### Astronomy and Astrophysics\n",
    "\n",
    "- **Stellar Evolution Simulations**: By simulating the life cycles of stars, Monte Carlo methods help in understanding phenomena like supernovae, neutron stars, and black hole formation.\n",
    "- **Galactic Dynamics and Dark Matter Modeling**: They are used to simulate galaxy formation and the distribution of dark matter in the universe.\n",
    "\n",
    "### Cross-disciplinary Examples\n",
    "\n",
    "- **Climate Modeling**: Monte Carlo simulations are used to predict climate change by accounting for the numerous variables and uncertainties in climate systems.\n",
    "- **Biological Systems**: In biology, they assist in modeling complex systems like protein folding and the spread of diseases."
   ]
  },
  {
   "cell_type": "markdown",
   "metadata": {},
   "source": [
    "## A Common Example: Estimating Pi\n",
    "\n",
    "The two most common examples of Monte Carlo are:\n",
    "\n",
    "- **Estimating Pi**: A simple application of Monte Carlo is the estimation of $\\pi$ by randomly placing points in a square and counting how many fall inside a quarter circle.\n",
    "- **Roulette Simulations**: A basic gambling game like roulette can be simulated to understand probabilities and expected outcomes in games of chance.\n",
    "\n",
    "To illustrate the basic principles of Monte Carlo simulations, let's look at estimating the value of $\\pi$. The code below drops dots on a plane and determines if the dots are inside or outside a circle. The ratio of dots inside the circle to the total number of dots is then used to approximate the value of $\\pi$. The sliders on the widget demonstrate how the accuracy of the approximation improves with the number of dots."
   ]
  },
  {
   "cell_type": "code",
   "execution_count": 6,
   "metadata": {},
   "outputs": [],
   "source": [
    "import matplotlib.pyplot as plt\n",
    "import numpy as np\n",
    "import ipywidgets as widgets\n",
    "from IPython.display import display"
   ]
  },
  {
   "cell_type": "code",
   "execution_count": 7,
   "metadata": {},
   "outputs": [],
   "source": [
    "def monte_carlo_pi_plot(num_samples):\n",
    "    inside_circle = []\n",
    "    outside_circle = []\n",
    "\n",
    "    for _ in range(num_samples):\n",
    "        x, y = np.random.uniform(-1, 1), np.random.uniform(-1, 1)\n",
    "        if x**2 + y**2 <= 1:\n",
    "            inside_circle.append((x, y))\n",
    "        else:\n",
    "            outside_circle.append((x, y))\n",
    "\n",
    "    estimated_pi = 4 * len(inside_circle) / num_samples\n",
    "\n",
    "    # Plotting\n",
    "    fig, ax = plt.subplots()\n",
    "    circle = plt.Circle((0, 0), 1, color='black', fill=False)\n",
    "    ax.add_artist(circle)\n",
    "    ax.set_xlim(-1, 1)\n",
    "    ax.set_ylim(-1, 1)\n",
    "    ax.set_aspect('equal', adjustable='box')\n",
    "    ax.scatter(*zip(*inside_circle), color='blue', s=1)\n",
    "    ax.scatter(*zip(*outside_circle), color='red', s=1)\n",
    "    ax.set_title(f\"Monte Carlo Estimation of Pi: {estimated_pi:.4f} (Samples: {num_samples})\")\n",
    "    plt.show()"
   ]
  },
  {
   "cell_type": "code",
   "execution_count": 9,
   "metadata": {
    "tags": [
     "hide-input"
    ]
   },
   "outputs": [
    {
     "data": {
      "application/vnd.jupyter.widget-view+json": {
       "model_id": "1069db9616324693bca7218465549e43",
       "version_major": 2,
       "version_minor": 0
      },
      "text/plain": [
       "interactive(children=(IntSlider(value=100, continuous_update=False, description='Samples:', max=10000, min=100…"
      ]
     },
     "execution_count": 9,
     "metadata": {},
     "output_type": "execute_result"
    }
   ],
   "source": [
    "# Create a slider to control the number of samples\n",
    "slider = widgets.IntSlider(\n",
    "    value=100,\n",
    "    min=100,\n",
    "    max=10000,\n",
    "    step=100,\n",
    "    description='Samples:',\n",
    "    continuous_update=False\n",
    ")\n",
    "\n",
    "# Create an interactive widget\n",
    "widgets.interactive(monte_carlo_pi_plot, num_samples=slider)"
   ]
  },
  {
   "cell_type": "markdown",
   "metadata": {},
   "source": [
    "## Additional Resoures\n",
    "\n",
    "### Lecture Video\n",
    "\n",
    "If you want to see more about how Monte Carlo simulations can work, in particular, with respect to data science, check out this video.\n",
    "\n",
    "[![Monte Carlo Simulations in Data Science](https://markdown-videos-api.jorgenkh.no/youtube/EaR3C4e600k?width=720&height=405)](https://inv.tux.pizza/watch?v=EaR3C4e600k)\n",
    "\n",
    "- Non-Commercial Link: [https://inv.tux.pizza/watch?v=EaR3C4e600k](https://inv.tux.pizza/watch?v=EaR3C4e600k)\n",
    "- Commercial Link: [https://youtube.com/watch?v=EaR3C4e600k](https://youtube.com/watch?v=EaR3C4e600k)"
   ]
  },
  {
   "cell_type": "markdown",
   "metadata": {},
   "source": []
  }
 ],
 "metadata": {
  "kernelspec": {
   "display_name": "base",
   "language": "python",
   "name": "python3"
  },
  "language_info": {
   "codemirror_mode": {
    "name": "ipython",
    "version": 3
   },
   "file_extension": ".py",
   "mimetype": "text/x-python",
   "name": "python",
   "nbconvert_exporter": "python",
   "pygments_lexer": "ipython3",
   "version": "3.9.12"
  },
  "orig_nbformat": 4
 },
 "nbformat": 4,
 "nbformat_minor": 2
}
