{
 "cells": [
  {
   "cell_type": "markdown",
   "metadata": {},
   "source": [
    "# 28 Nov 23 - Activity: Model of Two Bodies in Thermal Contact\n",
    "\n",
    "We've developed an equation for the number of ways we can arrange a small amount of quanta on a small number of oscillators. The formula we developed for arranging $q$ on $N$ oscillators is given below:\n",
    "\n",
    "$$\\Omega = \\dfrac{(q+N-1)!}{q!(N-1)!}$$\n",
    "\n",
    "These calculations are only tractable with pencil and paper when the number of quanta and oscillators is low. For even a few hundred oscillators and quanta the calculations can only be done on a computer. In fact, we will see with this model how we can easily blow out our computational tools as well.\n",
    "\n",
    "## Microstates and Macrostates\n",
    "\n",
    "Remember that a particular arrangement of quanta on oscillators is a microstate. That is, atom 1 has 3 oscillators with 1 quanta each on oscillator 1 and oscillator 2. But another microstate with quanta each on oscillator 2 and 3 would be the same energy macrostate for atom 1. We typically use energy for our marker for macrostates, but this doesn't have to be the case because micro and macrostate ideas apply well beyond thermal physics to information theory, data science, networks, and general probability theory.\n",
    "\n",
    "## The setup\n",
    "\n",
    "Consider two blocks of material made of simple atomic oscillators that can take on quanta of energy. One block has 200 such atoms, and the other block has 300 such atoms. There are 400 quanta of energy that can be distributed between the two. \n",
    "\n",
    "Before we computed the number of ways for a pair of systems, showing that multiplying the ways was how to find the total number. Here we consider the number of total atoms as given, so the number of ways is a function of the number of energy quanta distributed on atom 1 ($q_1$) and the total available ($q_{tot}$).\n",
    "\n",
    "$$\\Omega_T(q_{tot},q_1) = \\Omega_1(q_1)*\\Omega_2(q_{tot}-q_1)$$\n",
    "\n",
    "Your goal is to compute the number of total ways to distribute $q_1$ quanta given $q_{tot}$ available and plotting the distribution $\\Omega_T$ as a function of $q_1$."
   ]
  },
  {
   "cell_type": "markdown",
   "metadata": {},
   "source": [
    "Some steps:\n",
    "\n",
    "* Write a function that computes the number of ways given a $q$ and $N$\n",
    "* Test that function on small $q$ and $N$ that we've used\n",
    "* Write a function that calls the above one but sweeps through the number of quanta $q$\n",
    "* Show you can reproduce the small distribution that we did by hand\n",
    "* Plot the distribution of number of ways for the 200/300 oscillator setup with 400 quanta\n",
    "* Try to break your code by increasing these numbers."
   ]
  },
  {
   "cell_type": "code",
   "execution_count": 1,
   "metadata": {},
   "outputs": [],
   "source": [
    "## your code here\n",
    "import numpy as np\n",
    "import matplotlib.pyplot as plt"
   ]
  }
 ],
 "metadata": {
  "kernelspec": {
   "display_name": "base",
   "language": "python",
   "name": "python3"
  },
  "language_info": {
   "codemirror_mode": {
    "name": "ipython",
    "version": 3
   },
   "file_extension": ".py",
   "mimetype": "text/x-python",
   "name": "python",
   "nbconvert_exporter": "python",
   "pygments_lexer": "ipython3",
   "version": "3.9.12"
  }
 },
 "nbformat": 4,
 "nbformat_minor": 4
}
