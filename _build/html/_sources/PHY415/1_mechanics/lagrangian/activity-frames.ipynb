{
 "cells": [
  {
   "cell_type": "markdown",
   "metadata": {},
   "source": [
    "# 31 Aug 23 - Activity: Frames and Coordinates"
   ]
  },
  {
   "cell_type": "markdown",
   "metadata": {},
   "source": [
    "\n",
    "## Forces in different frames \n",
    "\n",
    "One of the critical things that we must note is that the natural world changes and we observe it. The models (or laws) that we use to describe nature must accurately describe our observations. This is challenging when observers use different frames (or even different coordinates in the same frame) to show we have the same observations. Moving between coordinate systems and frames is a critical skill in physics.\n"
   ]
  },
  {
   "cell_type": "markdown",
   "metadata": {},
   "source": [
    "## Polar coordinates\n",
    "\n",
    "Many problems in physics require the use of non-Cartesian coordinates, such as the Hydrogen atom or the two-body problem. One such coordinate system is **plane-polar coordinates**. In this coordinate system, any vector $\\mathbf{r}\\in \\mathbb{R}^2$ is described by a distance $r$ and angle $\\phi$ instead of Cartesian coordinates $x$ and $y$. The following four equations show how points transform in these coordinate systems.\n",
    "\n",
    "$$\n",
    "x = r\\cos \\phi \\hspace{1in} y = r\\sin \\phi\n",
    "$$\n",
    "\n",
    "$$\n",
    "r = \\sqrt{x^2 + y^2} \\hspace{1in} \\phi = \\arctan(y / x)\n",
    "$$\n"
   ]
  },
  {
   "cell_type": "markdown",
   "metadata": {},
   "source": [
    "### Getting Oriented\n",
    "\n",
    "**&#9989; Do this** \n",
    "\n",
    "Borrowed from [CU Boulder Physics](https://physicscourses.colorado.edu/EducationIssues/ClassicalMechanics/)\n",
    "\n",
    "A particle moves in the plane. We could describe its motion in two different ways:\n",
    "\n",
    "**CARTESIAN**: I tell you $x(t)$ and $y(t)$.\n",
    "\n",
    "**POLAR**: I tell you $r(t)$ and $\\phi(t)$. (Here $r(t)$ = $|\\mathbf{r}(t)|$, it's the \"distance to the origin\")\n",
    "\n",
    "- (a) Draw a picture showing the location of the point at some arbitrary time, labeling $x, y, r, \\phi$ and also showing the unit vectors $\\hat{x}, \\hat{y}, \\hat{r},$ and $\\hat{\\phi}$, all at this one time.\n",
    "- (b) Using this picture, determine the formula for $\\hat{r}(t)$ in terms of the Cartesian unit vectors. You answer should contain $\\phi(t)$.\n",
    "- (c) Write down the analogous expression for $\\hat{\\phi}(t)$.\n",
    "- (d) We can claim the position vector in Cartesian coordinates is $\\vec{r}(t) = x(t)\\hat{x} + y(t)\\hat{y}$. Do you agree? Is this consistent with your picture above?\n",
    "- (e) We can claim the position vector in polar coordinates is just $\\vec{r}(t) = r(t)\\hat{r}$. Again, do you agree? Why isn't there a $+\\phi(t)\\hat{\\phi}$ term?"
   ]
  },
  {
   "cell_type": "markdown",
   "metadata": {},
   "source": [
    "### Getting Kinetic\n",
    "\n",
    "**&#9989; Do this** \n",
    "\n",
    "- (a) Now let's find the velocity, $\\vec{v}(t) = d\\vec{r}/dt$. In Cartesian coordinates, it's just $\\vec{v}(t) = \\dot{x}(t)\\hat{x} + \\dot{y}(t)\\hat{y}$. Explain why, in polar coordinates, the velocity can be written as $d\\vec{r}/dt = r(t)\\:d\\hat{r}/dt + dr(t)/dt\\:\\hat{r}$.\n",
    "- (b) It appears we need to figure out what $d\\hat{r}/dt$ is. Use the formula your determined in question 1b to get started -- first in terms of $\\hat{x}$ and $\\hat{y}$, and then converting to pure polar.\n",
    "- (c) Write an expression for $\\vec{v}(t)$ in polar coordinates.\n",
    "- (d) Finally, determine the acceleration $\\vec{a} = d\\vec{v}(t)/dt$. In Cartesian coordinates, it's just $\\vec{a}(t) = \\ddot{x(t)}\\hat{x} + \\ddot{y}(t)\\hat{y}$. Work it on in polar coordinates."
   ]
  },
  {
   "cell_type": "markdown",
   "metadata": {},
   "source": [
    "## Forces and acceleration in plane-polar coordinates\n",
    "\n",
    "We can show that the acceleration in plane-polar coordinates is given by:\n",
    "\n",
    "$$\\mathbf{a} = a_r\\hat{r} + a_{\\phi}\\hat{\\phi} = \\left(\\ddot{r}-r\\dot{\\phi}^2\\right)\\hat{r} + \\left(r\\ddot{\\phi}+2\\dot{r}\\dot{\\phi}\\right)\\hat{\\phi}$$\n",
    "\n",
    "Because this coordinate system is orthgonal ($\\hat{r}\\cdot\\hat{\\phi} = 0$), we can write the Newton's second law in this coordinate system as:\n",
    "\n",
    "$$\\mathbf{F}_{net} = m\\mathbf{a} = m\\left(a_r\\hat{r} + a_{\\phi}\\hat{\\phi} \\right)$$\n",
    "\n",
    "So that,\n",
    "\n",
    "$$\\mathbf{F}_r = m\\left(\\ddot{r}-r\\dot{\\phi}^2\\right)\\hat{r}$$\n",
    "\n",
    "and \n",
    "\n",
    "$$\\mathbf{F}_{\\phi} = m\\left(r\\ddot{\\phi}+2\\dot{r}\\dot{\\phi}\\right)\\hat{\\phi}$$"
   ]
  },
  {
   "cell_type": "markdown",
   "metadata": {},
   "source": [
    "### Example to Work in a Group\n",
    "\n",
    "**&#9989; Do this** \n",
    "\n",
    "Borrowed from [Taylor's Classical Mechanics](https://bookshop.org/p/books/classical-mechanics-john-r-taylor/17213436?ean=9781891389221)\n",
    "\n",
    "Consider a \"half-pipe\" that has a circular cross section of radius $R$. If we release the skateboard near the bottom of the \"half-pipe\" approximately how long does it take to get to the bottom?\n",
    "\n",
    "* Make sure you draw a picture and define your coordinate system.\n",
    "* Consider all the assumptions you need to make to solve this problem, and write them down.\n",
    "* Be careful not to make big assumptions too early; try instead to write the forces acting on the skateboard in plane-polar coordinates.\n",
    "* Do not use Lagrangian dynamics to solve this problem if you know how you, please instead use Newton's Second Law.\n",
    "\n",
    "**Hint: The equation of motion to small angle oscillation frequency pipeline is real.**"
   ]
  },
  {
   "cell_type": "markdown",
   "metadata": {},
   "source": [
    "- [Notes on Newton's Second Law in Plane Polar Coordinates](../../assets/notes/Notes-Newton_2nd_Plane_polar.pdf)"
   ]
  },
  {
   "cell_type": "markdown",
   "metadata": {},
   "source": []
  }
 ],
 "metadata": {
  "kernelspec": {
   "display_name": "base",
   "language": "python",
   "name": "python3"
  },
  "language_info": {
   "name": "python",
   "version": "3.9.12"
  },
  "orig_nbformat": 4
 },
 "nbformat": 4,
 "nbformat_minor": 2
}
