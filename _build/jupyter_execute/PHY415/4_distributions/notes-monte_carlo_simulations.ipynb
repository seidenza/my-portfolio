{
 "cells": [
  {
   "cell_type": "markdown",
   "metadata": {},
   "source": [
    "# 27 Nov 23 - Notes: Monte Carlo Simulations\n",
    "\n",
    "**Monte Carlo Simulations** are a class of computational algorithms that rely on repeated random sampling to obtain numerical results. The method is named after the Monte Carlo Casino in Monaco, reflecting its foundational principle of randomness and chance. Initially developed as part of the Manhattan Project during World War II, Monte Carlo simulations have since evolved into a crucial tool in both physics and a myriad of other fields.\n",
    "\n",
    "## Overview of Monte Carlo Simulations\n",
    "\n",
    "At its core, a [Monte Carlo simulation](https://en.wikipedia.org/wiki/Monte_Carlo_method) involves using randomness to solve problems that might be deterministic in principle. It's particularly useful for systems with a large number of variables, where traditional analytical methods become impractical.\n",
    "\n",
    "In physics, Monte Carlo methods are indispensable for studying complex systems where analytical solutions are unattainable. They are widely used in statistical physics, quantum mechanics, and astrophysics, among other areas. For instance, as we will show they can help model the behavior of gases, liquids, and solids at the atomic level, and simulate the evolution of stars and galaxies. In mathematics, these methods offer a way to approximate solutions to complex integrals and differential equations. While our primary focus here is on physics and astronomy, it's worth noting that Monte Carlo methods have been successfully applied in numerous other domains. For instance, in finance, they are used to model and predict stock market behaviors and in risk analysis. In engineering, they help in reliability analysis and optimization problems. Even in healthcare, they assist in radiation therapy planning and epidemiological studies."
   ]
  },
  {
   "cell_type": "markdown",
   "metadata": {},
   "source": [
    "## How Monte Carlo Simulations Work\n",
    "\n",
    "*We will go into this later in detail*\n",
    "\n",
    "Monte Carlo simulations are grounded in the principle of random sampling and uses the power of statistical analysis to solve problems that, to be honest, the have no business working for. MC sims use randomness to explore a large set of possible solutions to a problem, where direct computation would be impractical or impossible. They then find the most likely outcomes and use them to approximate the true solution.\n",
    "\n",
    "A key concept for this work is the use of [probability distributions](https://en.wikipedia.org/wiki/Probability_distribution). In many physical problems, certain outcomes are more likely than others, and these probabilities can be used to guide the random sampling process. As westarted to see with microstates and macrostates -- at thermal equilibrium the most probable macrostate is easily determined. \n",
    "\n",
    "### Boltzmann Distribution\n",
    "\n",
    "For example, in thermal physics, the distribution of particle energies can often be described by the [Boltzmann distribution](https://en.wikipedia.org/wiki/Boltzmann_distribution). This distribution tells us that the probability of a particle having a certain energy is proportional to the exponential of the negative of that energy divided by the temperature. This distribution is used in Monte Carlo simulations to determine the probability of a particle having a certain energy. The Boltzmann distribution is given by:\n",
    "\n",
    "$$P(E) = \\frac{e^{-E/kT}}{Z},$$\n",
    "\n",
    "where $E$ is the energy state, $k$ is the Boltzmann constant, $T$ is the temperature, and $Z$ is the [partition function](https://en.wikipedia.org/wiki/Partition_function_(statistical_mechanics)).\n",
    "\n",
    "### Lecture Video \n",
    "\n",
    "This introduction aims to provide a foundational understanding of Monte Carlo methods; we will delve deeper into the workings, applications, and mathematical aspects of these simulations.\n",
    "\n",
    "[![Monte Carlo Simulations](https://markdown-videos-api.jorgenkh.no/youtube/7ESK5SaP-bc?width=720&height=405)](https://inv.tux.pizza/watch?v=7ESK5SaP-bc)\n",
    "\n",
    "- Non-Commercial Link: [https://inv.tux.pizza/watch?v=7ESK5SaP-bc](https://inv.tux.pizza/watch?v=7ESK5SaP-bc)\n",
    "- Commercial Link: [https://youtube.com/watch?v=7ESK5SaP-bc](https://youtube.com/watch?v=7ESK5SaP-bc)\n",
    "\n",
    "### Basic Components of a Monte Carlo Simulation\n",
    "\n",
    "The basic elements of any Monte Carlo Simulation are as follows:\n",
    "\n",
    "1. **Random Number Generators (RNGs)**: These are algorithms that generate sequences of numbers that approximate the properties of random numbers. RNGs are the backbone of any Monte Carlo simulation. They are used to generate random samples from probability distributions, which are then used to approximate the solution to a problem.\n",
    "2. **Simulation Algorithms**: An example is the [**Metropolis-Hastings algorithm**](https://en.wikipedia.org/wiki/Metropolis-Hastings_algorithm), widely used in statistical physics. This algorithm decides whether to accept or reject a new state based on a probability criterion, allowing for a detailed exploration of the state space of a system. \n",
    "\n",
    "In the Metropolis-Hastings algorithm, the probability of moving from a state $i$ to a state $j$ is given by:\n",
    "\n",
    "$$P(i \\rightarrow j) = \\min\\left(1, \\frac{e^{-E_j/kT}}{e^{-E_i/kT}}\\right),$$ \n",
    "\n",
    "where $E_i$ and $E_j$ are the energies of states $i$ and $j$ respectively."
   ]
  },
  {
   "cell_type": "markdown",
   "metadata": {},
   "source": [
    "\n",
    "## Applications in Physics and Astronomy\n",
    "\n",
    "Monte Carlo simulations are widely used in physics and astronomy, where they help in modeling complex systems and phenomena. Here are some examples:\n",
    "\n",
    "### Statistical Physics\n",
    "\n",
    "- **Phase Transitions and Critical Phenomena**: Monte Carlo simulations are instrumental in studying phase transitions, like the transition from a ferromagnetic to a paramagnetic state, by allowing for the exploration of large lattice systems.\n",
    "- **Ising Model of Ferromagnetism**: This model uses a lattice where each site has a spin that interacts with its neighbors. Monte Carlo methods help in simulating and understanding the magnetic properties of materials.\n",
    "\n",
    "### Quantum Mechanics\n",
    "\n",
    "- **Quantum Monte Carlo Methods**: These are used to study systems of many interacting quantum particles, providing insights into the ground state and excited state properties.\n",
    "- **Applications in Atomic and Molecular Physics**: Monte Carlo methods help in calculating the properties of atoms and molecules, which are otherwise difficult due to the complexity of quantum interactions.\n",
    "\n",
    "### Astronomy and Astrophysics\n",
    "\n",
    "- **Stellar Evolution Simulations**: By simulating the life cycles of stars, Monte Carlo methods help in understanding phenomena like supernovae, neutron stars, and black hole formation.\n",
    "- **Galactic Dynamics and Dark Matter Modeling**: They are used to simulate galaxy formation and the distribution of dark matter in the universe.\n",
    "\n",
    "### Cross-disciplinary Examples\n",
    "\n",
    "- **Climate Modeling**: Monte Carlo simulations are used to predict climate change by accounting for the numerous variables and uncertainties in climate systems.\n",
    "- **Biological Systems**: In biology, they assist in modeling complex systems like protein folding and the spread of diseases."
   ]
  },
  {
   "cell_type": "markdown",
   "metadata": {},
   "source": [
    "## A Common Example: Estimating Pi\n",
    "\n",
    "The two most common examples of Monte Carlo are:\n",
    "\n",
    "- **Estimating Pi**: A simple application of Monte Carlo is the estimation of $\\pi$ by randomly placing points in a square and counting how many fall inside a quarter circle.\n",
    "- **Roulette Simulations**: A basic gambling game like roulette can be simulated to understand probabilities and expected outcomes in games of chance.\n",
    "\n",
    "To illustrate the basic principles of Monte Carlo simulations, let's look at estimating the value of $\\pi$. The code below drops dots on a plane and determines if the dots are inside or outside a circle. The ratio of dots inside the circle to the total number of dots is then used to approximate the value of $\\pi$. The sliders on the widget demonstrate how the accuracy of the approximation improves with the number of dots."
   ]
  },
  {
   "cell_type": "code",
   "execution_count": 1,
   "metadata": {},
   "outputs": [],
   "source": [
    "import matplotlib.pyplot as plt\n",
    "import numpy as np\n",
    "import ipywidgets as widgets\n",
    "from IPython.display import display"
   ]
  },
  {
   "cell_type": "code",
   "execution_count": 2,
   "metadata": {},
   "outputs": [],
   "source": [
    "def monte_carlo_pi_plot(num_samples):\n",
    "    inside_circle = []\n",
    "    outside_circle = []\n",
    "\n",
    "    for _ in range(num_samples):\n",
    "        x, y = np.random.uniform(-1, 1), np.random.uniform(-1, 1)\n",
    "        if x**2 + y**2 <= 1:\n",
    "            inside_circle.append((x, y))\n",
    "        else:\n",
    "            outside_circle.append((x, y))\n",
    "\n",
    "    estimated_pi = 4 * len(inside_circle) / num_samples\n",
    "\n",
    "    # Plotting\n",
    "    fig, ax = plt.subplots()\n",
    "    circle = plt.Circle((0, 0), 1, color='black', fill=False)\n",
    "    ax.add_artist(circle)\n",
    "    ax.set_xlim(-1, 1)\n",
    "    ax.set_ylim(-1, 1)\n",
    "    ax.set_aspect('equal', adjustable='box')\n",
    "    ax.scatter(*zip(*inside_circle), color='blue', s=1)\n",
    "    ax.scatter(*zip(*outside_circle), color='red', s=1)\n",
    "    ax.set_title(f\"Monte Carlo Estimation of Pi: {estimated_pi:.4f} (Samples: {num_samples})\")\n",
    "    plt.show()"
   ]
  },
  {
   "cell_type": "code",
   "execution_count": 3,
   "metadata": {
    "tags": [
     "hide-input"
    ]
   },
   "outputs": [
    {
     "data": {
      "application/vnd.jupyter.widget-view+json": {
       "model_id": "ec72566f35384ab7a6e1e87d4cbcf85e",
       "version_major": 2,
       "version_minor": 0
      },
      "text/plain": [
       "interactive(children=(IntSlider(value=100, continuous_update=False, description='Samples:', max=10000, min=100…"
      ]
     },
     "metadata": {},
     "output_type": "display_data"
    }
   ],
   "source": [
    "# Create a slider to control the number of samples\n",
    "slider = widgets.IntSlider(\n",
    "    value=100,\n",
    "    min=100,\n",
    "    max=10000,\n",
    "    step=100,\n",
    "    description='Samples:',\n",
    "    continuous_update=False\n",
    ")\n",
    "\n",
    "# Create an interactive widget\n",
    "widgets.interactive(monte_carlo_pi_plot, num_samples=slider)"
   ]
  },
  {
   "cell_type": "markdown",
   "metadata": {},
   "source": [
    "## Additional Resoures\n",
    "\n",
    "### Lecture Video\n",
    "\n",
    "If you want to see more about how Monte Carlo simulations can work, in particular, with respect to data science, check out this video.\n",
    "\n",
    "[![Monte Carlo Simulations in Data Science](https://markdown-videos-api.jorgenkh.no/youtube/EaR3C4e600k?width=720&height=405)](https://inv.tux.pizza/watch?v=EaR3C4e600k)\n",
    "\n",
    "- Non-Commercial Link: [https://inv.tux.pizza/watch?v=EaR3C4e600k](https://inv.tux.pizza/watch?v=EaR3C4e600k)\n",
    "- Commercial Link: [https://youtube.com/watch?v=EaR3C4e600k](https://youtube.com/watch?v=EaR3C4e600k)"
   ]
  },
  {
   "cell_type": "markdown",
   "metadata": {},
   "source": []
  }
 ],
 "metadata": {
  "kernelspec": {
   "display_name": "base",
   "language": "python",
   "name": "python3"
  },
  "language_info": {
   "codemirror_mode": {
    "name": "ipython",
    "version": 3
   },
   "file_extension": ".py",
   "mimetype": "text/x-python",
   "name": "python",
   "nbconvert_exporter": "python",
   "pygments_lexer": "ipython3",
   "version": "3.9.12"
  },
  "widgets": {
   "application/vnd.jupyter.widget-state+json": {
    "state": {
     "6f963843b7644a5eaec51cef311ad36b": {
      "model_module": "@jupyter-widgets/controls",
      "model_module_version": "1.5.0",
      "model_name": "SliderStyleModel",
      "state": {
       "_model_module": "@jupyter-widgets/controls",
       "_model_module_version": "1.5.0",
       "_model_name": "SliderStyleModel",
       "_view_count": null,
       "_view_module": "@jupyter-widgets/base",
       "_view_module_version": "1.2.0",
       "_view_name": "StyleView",
       "description_width": "",
       "handle_color": null
      }
     },
     "a76a2c7b73b049948a9775bb2fb3c9bb": {
      "model_module": "@jupyter-widgets/base",
      "model_module_version": "1.2.0",
      "model_name": "LayoutModel",
      "state": {
       "_model_module": "@jupyter-widgets/base",
       "_model_module_version": "1.2.0",
       "_model_name": "LayoutModel",
       "_view_count": null,
       "_view_module": "@jupyter-widgets/base",
       "_view_module_version": "1.2.0",
       "_view_name": "LayoutView",
       "align_content": null,
       "align_items": null,
       "align_self": null,
       "border": null,
       "bottom": null,
       "display": null,
       "flex": null,
       "flex_flow": null,
       "grid_area": null,
       "grid_auto_columns": null,
       "grid_auto_flow": null,
       "grid_auto_rows": null,
       "grid_column": null,
       "grid_gap": null,
       "grid_row": null,
       "grid_template_areas": null,
       "grid_template_columns": null,
       "grid_template_rows": null,
       "height": null,
       "justify_content": null,
       "justify_items": null,
       "left": null,
       "margin": null,
       "max_height": null,
       "max_width": null,
       "min_height": null,
       "min_width": null,
       "object_fit": null,
       "object_position": null,
       "order": null,
       "overflow": null,
       "overflow_x": null,
       "overflow_y": null,
       "padding": null,
       "right": null,
       "top": null,
       "visibility": null,
       "width": null
      }
     },
     "be9dcc7a766549aea4bd0b91e0fe1172": {
      "model_module": "@jupyter-widgets/base",
      "model_module_version": "1.2.0",
      "model_name": "LayoutModel",
      "state": {
       "_model_module": "@jupyter-widgets/base",
       "_model_module_version": "1.2.0",
       "_model_name": "LayoutModel",
       "_view_count": null,
       "_view_module": "@jupyter-widgets/base",
       "_view_module_version": "1.2.0",
       "_view_name": "LayoutView",
       "align_content": null,
       "align_items": null,
       "align_self": null,
       "border": null,
       "bottom": null,
       "display": null,
       "flex": null,
       "flex_flow": null,
       "grid_area": null,
       "grid_auto_columns": null,
       "grid_auto_flow": null,
       "grid_auto_rows": null,
       "grid_column": null,
       "grid_gap": null,
       "grid_row": null,
       "grid_template_areas": null,
       "grid_template_columns": null,
       "grid_template_rows": null,
       "height": null,
       "justify_content": null,
       "justify_items": null,
       "left": null,
       "margin": null,
       "max_height": null,
       "max_width": null,
       "min_height": null,
       "min_width": null,
       "object_fit": null,
       "object_position": null,
       "order": null,
       "overflow": null,
       "overflow_x": null,
       "overflow_y": null,
       "padding": null,
       "right": null,
       "top": null,
       "visibility": null,
       "width": null
      }
     },
     "cbd7135878ca40df985b84f561c2822e": {
      "model_module": "@jupyter-widgets/controls",
      "model_module_version": "1.5.0",
      "model_name": "IntSliderModel",
      "state": {
       "_dom_classes": [],
       "_model_module": "@jupyter-widgets/controls",
       "_model_module_version": "1.5.0",
       "_model_name": "IntSliderModel",
       "_view_count": null,
       "_view_module": "@jupyter-widgets/controls",
       "_view_module_version": "1.5.0",
       "_view_name": "IntSliderView",
       "continuous_update": false,
       "description": "Samples:",
       "description_tooltip": null,
       "disabled": false,
       "layout": "IPY_MODEL_be9dcc7a766549aea4bd0b91e0fe1172",
       "max": 10000,
       "min": 100,
       "orientation": "horizontal",
       "readout": true,
       "readout_format": "d",
       "step": 100,
       "style": "IPY_MODEL_6f963843b7644a5eaec51cef311ad36b",
       "value": 100
      }
     },
     "ec72566f35384ab7a6e1e87d4cbcf85e": {
      "model_module": "@jupyter-widgets/controls",
      "model_module_version": "1.5.0",
      "model_name": "VBoxModel",
      "state": {
       "_dom_classes": [
        "widget-interact"
       ],
       "_model_module": "@jupyter-widgets/controls",
       "_model_module_version": "1.5.0",
       "_model_name": "VBoxModel",
       "_view_count": null,
       "_view_module": "@jupyter-widgets/controls",
       "_view_module_version": "1.5.0",
       "_view_name": "VBoxView",
       "box_style": "",
       "children": [
        "IPY_MODEL_cbd7135878ca40df985b84f561c2822e",
        "IPY_MODEL_fcfa41aae5964714bd68b98ba1569e18"
       ],
       "layout": "IPY_MODEL_f0561eae2c884597886b790cfef42bb7"
      }
     },
     "f0561eae2c884597886b790cfef42bb7": {
      "model_module": "@jupyter-widgets/base",
      "model_module_version": "1.2.0",
      "model_name": "LayoutModel",
      "state": {
       "_model_module": "@jupyter-widgets/base",
       "_model_module_version": "1.2.0",
       "_model_name": "LayoutModel",
       "_view_count": null,
       "_view_module": "@jupyter-widgets/base",
       "_view_module_version": "1.2.0",
       "_view_name": "LayoutView",
       "align_content": null,
       "align_items": null,
       "align_self": null,
       "border": null,
       "bottom": null,
       "display": null,
       "flex": null,
       "flex_flow": null,
       "grid_area": null,
       "grid_auto_columns": null,
       "grid_auto_flow": null,
       "grid_auto_rows": null,
       "grid_column": null,
       "grid_gap": null,
       "grid_row": null,
       "grid_template_areas": null,
       "grid_template_columns": null,
       "grid_template_rows": null,
       "height": null,
       "justify_content": null,
       "justify_items": null,
       "left": null,
       "margin": null,
       "max_height": null,
       "max_width": null,
       "min_height": null,
       "min_width": null,
       "object_fit": null,
       "object_position": null,
       "order": null,
       "overflow": null,
       "overflow_x": null,
       "overflow_y": null,
       "padding": null,
       "right": null,
       "top": null,
       "visibility": null,
       "width": null
      }
     },
     "fcfa41aae5964714bd68b98ba1569e18": {
      "model_module": "@jupyter-widgets/output",
      "model_module_version": "1.0.0",
      "model_name": "OutputModel",
      "state": {
       "_dom_classes": [],
       "_model_module": "@jupyter-widgets/output",
       "_model_module_version": "1.0.0",
       "_model_name": "OutputModel",
       "_view_count": null,
       "_view_module": "@jupyter-widgets/output",
       "_view_module_version": "1.0.0",
       "_view_name": "OutputView",
       "layout": "IPY_MODEL_a76a2c7b73b049948a9775bb2fb3c9bb",
       "msg_id": "",
       "outputs": [
        {
         "data": {
          "image/png": "iVBORw0KGgoAAAANSUhEUgAAAUkAAAEICAYAAADSjgZhAAAAOXRFWHRTb2Z0d2FyZQBNYXRwbG90bGliIHZlcnNpb24zLjguMCwgaHR0cHM6Ly9tYXRwbG90bGliLm9yZy81sbWrAAAACXBIWXMAAAsTAAALEwEAmpwYAAA9EklEQVR4nO2deXgUVdq37wcIIIuyigkBjBJWUSABVFSGRUCE4AyoiMwAgzKKvjPf6Kgwjo6g8Gr0G0dHwA0FUVDHzyUIIouyyKIksm8CLmyRHdkhIc/3R1Vi06Q73Ul3V3f1ua+rrq7lVJ3n1PLr5+yiqhgMBoOheMo5bYDBYDBEM0YkDQaDwQ9GJA0Gg8EPRiQNBoPBD0YkDQaDwQ9GJA0Gg8EPRiR9ICI/ikg3h234TEQGRyiuO0VkTiTi8oq3o4hsEZFjInJLkOceE5HLwmRaVCAiLUQkW0TEaVs8EZEnRORtp+0oLSLyjYi0DCRsiSJpi8UZEanjtX+liKiIXFpKOz2vtUBE7irjNXqIyCIROSoi+0RkoYhklNW2UtgxRETO2h+w55JUwnnnvXSqepOqTgmDjZfaz66CR1zvqGr3UMcVAGOAl1S1mqp+7H3Qfv9O2vdwj4hMFpFqAPY53wcSiYhkisgOETkiIj+JyN9LCD/QDndcRD4WkVrFhEkVkVPez83fuSJSS0Q+so/9JCIDSzD9SeA5tRs0i8h1IrJURH4RkYMiskRE2gVyD2INEblCRD4Xkf0icl6D7pLuZQnP8Dmsd69EAvUkfwDu8Ii8FVAlwHPDjoj0B/4LvAUkA/WAx4E+pbhWhZJDlcgy+wP2XHaH4LpupBGwvoQwfVS1GtAWSAf+UYp4JgHNVPVC4FrgThH5XXEBbQ/jFeD3WO/SCWBCMUHHAyuCPHc8cMY+dicw0ZdHIyKJQGfgY3v7QuBT4D9ALaA+MBo47TflsUse8D4wzMdxn/cygOeQBXQWkUtKtEJV/S7Aj1gv5QqPfc8BjwIKXGrvuwhLpPYBP9nnlLOPDQG+ss87hCW6N9nHxgJngVPAMSyvAqAZMBc4CGwGbvNhnwDbgYf8pOFy4AvgALAfeAeo4ZXGR4A1WC9cBXtfN/t4JeDfwG57+TdQyUdcQ4Cv/NjyCLALOGqnqyvQE+th59n3YLUddgFwl8d1lwDPA4eB77E+9iHADmAvMNgjnpuBlcAR+/gTHse228/umL1c4223fe0VwC/277UexxZgeThL7HTMAer4SfPdwFb7WWYBSfb+bUABcNK247x76vkc7O1ngU/tdQUal/QOF3PN+sBa4GEfx8cB07zenzNAdY99A7A+4CeAtwM5F6hqrzfxOD4VeNqHHX8A5nlspwOHy/ieP4T1nh/H+uOoB3xmP8d5QE077KX2/R2O9c7nAn/zuJZ3uq8GlmK9m6uB33h9E9/bcfwA3Bnk82oMqNc+v/cywGc4F49vxmf8ARj4I9AN64NuDpQHdmJ5AJ4i+Rbwif0yXAp8BwzzuEl5WB9LeeBe+8aLtxh43IAdwFAswWpjP/QWxdjXzLYjpYSbfCOW2NUFFgH/9krjKqABcIH3x4nlli8HLrbPXwo86SOuIfgQSaCpna5CkbgUuLy4l877vtjXzbfvSXngKSyxG2+nq7v9Elazw/8GaIWVW7gS2APc4vUBVCjObiwv5RDWv3AFrFzEIaC2h13bgCbABfa2rw+9i/3s2tp2/gdY5P1+lfT+2esNsLzOJ+3tIpEEBgJrSniXR2KJsWJ9tMk+wn0CPOK17xiQZq9fiPV+J3s/N3/nYr3HJ7yO/Q2Y4cOOZ4HxHtsXYgngFOAmbEEL8j1fjiWM9bH+WL+17aqMJbD/9HpHpmN9j62wHKDCZ1GUbvtaB4BeWO/bjfZ2XfvcI0BTO2wi0NJeb4glqg1LeG7FiaTfe1nSM7S3XwT+VZIGBlNxMxXrn+1GYCOWNwSAiJTH+mcdpapHVfVH4P9ifWSF/KSqr6nqWayHnGg/rOLoDfyoqm+qar6qrgT+H3BrMWFr27+5vgxX1a2qOldVT6vqPuBfQCevYC+q6g5VPVnMJe4ExqjqXvv80V5p8+ZqETnssWyz95/FeoFbiEiCqv6oqtv8XMebH+x7chZ4D0s0xtjpmoP1T9nYTvMCVV2rqgWqugbrZfdOsy9uBrao6lT7/k8HNnFu8cWbqvqdfb/eB1r7uNadwBuq+q2qngZGAdcEWZb9sYgcxsqNLMTyEs5BVaep6pX+LqKqT2P9ibfFep9/8RG0WjHHfrHPBcuLnqSqO4M8txqWYPi6rjc1sP74Cu0/AlyHJV6vAftEJEtE6tnHA3nP/6Oqe1R1F7AY+FpVV6rqKeAjLPHxZLSqHlfVtcCbeBS7eTAImKWqs+z3bS6QjSWaYOUWrhCRC1Q1V1XX2/ZuV9UaqrrdR/r9UdK9LOkZgnVva5QUUbAiORDL43jL61gdIAErm13IT1j/MIX8XLiiqifs1Wo+4moEdPAUGqyPrbjygwP2b6Ivw0Wknoi8KyK7ROQI8LZtsyc7fJ0PJHF+2vxVxCy3H37hcjlYLzHwf7D+hffaNvmt0PFij8f6Sfua3vuqAYhIBxH50q7E+gW4h/PT7Avv9IKf54lV3uPrWZ5zLVU9hvXM6vsIXxy32PexkaqO8PFHFhBqsRLrXo32EewYltfmyYXAURFpjZWzej7Yc0s4VhyH8BJQVd2oqkNUNRm4Auv+/hsCfs+935di3x8PPL8LX+99I+BWr+/1OiBRVY8Dt2O9f7kiMlNEmvlIbzCUdC8DudfVsTxZvwQskqr6E1Z5Qi/gQ6/D+7Gy04089jXEw9ss6fJe2zuAhV5CU01V7y3m3M12+H5+rj/OjqOVWgX3g7DKMv3Z4Mluzk9bqSpibI/nOn4trngmgPhLwzSs8r8GqnoR8DK/prmkuLzTC8E9T5/XEpGqWN5/aa4VSipglVMVx3rgqsINsZoZVcLKYv8GKyu6XUR+xsri9RORbwM49zuggoikesR1Fb4rrtZgFWkUi6puAiZjiSUE9p4HSwOPdV/v/Q5gqtf3WtX23FHVz1X1RixHZhOWF1xWSrqX/p5DIc2xyk/9Emw7yWFAF/vfoQg7+/c+MFZEqotII+ABrH+yQNgDeLZ3+xRoIiK/F5EEe2knIs29T1SrcOEB4DERGSoiF4pIObupxKt2sOpY/yy/iEh9rMLrYJgO/ENE6orVFOrxINJWhIg0FZEuIlIJq6LqJFZWBKx7cKmIhKrtanXgoKqeEpH2WLmAQvbZ8fpqYzgL6/4PFJEKInI70ALruQTLdGCoiLS20z0OK4v3YymuVSrs9+FPIlJTLNoD9wHzfZzyDtBHRK63RX0M8KGqHgVexRLX1vbyMjAT6FHSufZ38yEwRkSqikhHoC9WLq045gJtRaSynY5mIvKgiCTb2w2wsr/L7fBlfc+L4zERqWLXFg/FKubx5m07zT1EpLyIVBaR34hIsu3d9rXvxWnbvoJirnEe9rOqDFS0tyvb7xAB3Et/zxD7umlY99gvQX2QqrpNVbN9HP4frBqz77HKjqYBbwR46ReA/iJySERetBPSHaucczdW1u4ZrH+C4uz6AMul/6Mdfg9WxcYndpDRWOVQv2C90N6ecEk8hVXGsgarVvRbe58vrpHz20m2s+1/Gsvz/hmrImiUfc5/7d8DHl5JWRiB9QIdxRL19wsP2MUdY4Eldvboas8TVfUAVrnwg1hZ44eB3qq6P1gjVHUe8BhWmXIulsAMKFWK/CBWY3h/TYl+i1XZdBTro/6PvRSef0xErrdtXo+VPXwHq3KjOtb9RFVPqOrPhQvWR3/KLgP0e67NCKzKrr1YfyD3FpbReWMXpXyB9fFj294B+FpEjmOJ4zqs5wRlf8+LYyFWy4T5WO01z+twoKo7bBv/jvUHvANLoMvZywNY3+VBrDLSewFEpKF93xv6iLsRliNReH9OYuUcC/F5LwN4Dn2ABRpA07zC2mWDwRCFiEgLrIrO9hrBj9WuWPsBSFDV/EjFGylE5Gus1jfrSgxrRNJgMHjjdpEMhoj33RaRN0Rkr4gUq+B2OcSLIrJVRNaISFuPY4PF6ue7RSLUp9lgMMQ3EfckReQGrHKct1T1imKO98Iq3+yFVf7ygqp2EKvfZTZWrwMFcrAahh6KmPEGgyHuiLgnqaqLsApwfdEXS0BVVZcDNcTqw9oDmKuqB21hnIvVnc9gMBjCRigGcwg19Tm3AetOe5+v/echIsOx+pxStWrVtGbNQtF21RAIqkp+fj55eXnk5eVx5syZonXvpVy5cojIOYvndTyXgoICEhISil0qVqxYtF6hQoVzrmMIPzk5OftVta7TdoSLaBTJMqOqr2K1ZyM9PV2zs321WjKUhZMnT7JmzRpycnKKlo0bN1KzZk0SExNJSUkhMTGRpKSkc34TExOpV68eFStWDDiuvLw89uzZw+7du8nNzSU3N7do3XPfwYMHadq0Kenp6aSlpZGWlsZVV13FBRdcEMY7ESD798Obb8LQoVAn0M5P0Y+IePfOchXRKJK7OLeVf7K9bxdWbwfP/QsiZlWcc/LkSVavXn2OIG7ZsqVIkNq1a8c999xDq1atqFy5csjjT0hIIDk5meTkZL/hTp8+zdq1a4tsnDRpEps2baJx48ZFolkonFWqRHi0vzffhIcfttYfCkU7b0MkcKQJkN284FMfFTc3A/fza8XNi6ra3q64ycFqLAtWg+40VfVXvmk8yVKiqmzYsIGsrCyysrJYvXo1zZo1O0dowiWIocZbOAs93latWpGRkUFGRgZXXHFF+LPp7vUkc1Q13Wk7woUTtdvTsTzCOlg9Y/6JNTgGqvqyWG/qS1iVMieAoYW9fETkj1it+gHGquqbJcWXnpys2atWueqlDBd5eXksXry4SBgLCgro06cPGRkZXH/99TEhiIFy+vRpvvrqq6K0AmRkZNCnTx9uuOGGoIoC4h0jkjFOuohmZ2aa7I0PDh8+zOzZs8nKymL27Nk0bty4yLtq1apVXFSCqCrr1q1jxowZZGVlsXnzZnr06EFGRgY33XQTNWvWdNrEqMaIZIxjPEkP7Oze2T/8gZlff83LL7/MV199RadOncjIyODmm28mKSmYkdvcSW5uLjNnziQrK4sFCxZwzTXXcO+999K7d28qVIjGYnxncbtI+h2R1w1LWlqaGiyOPPaYKujYGjX06quv1rfeekuPHTtWdHzfPtXMTOvXYHH8+HGdOnWqXnvttZqcnKxPPvmk5ubmOm2WfyL8IIFsjYJvPVyL4waEe4mISEaxuhQUFOhXX32lAwcO1MsuvFDfb9dOV82bV2zYzEzrjcjMjLCRMcLKlSv17rvv1ho1auiAAQN00aJFWlBQ4LRZ5xPhB2lEMsaXiIhkFKrL0aNH9eWXX9Yrr7xSU1NT9fnnn9eDBw/6PSeKtT6qOHTokL7wwgvatGlTveKKK3TChAl65MgRp836FeNJGpEMZomYJ/nPf1qLwwpz4MABffjhh7VmzZr629/+VufOnatnz5511Ca3UlBQoPPnz9d+/fppzZo19cEHH9T9+/c7bVbEcbtIRrzvtiupUweqVoXRo612cA5w4sQJnn76aZo2bcrhw4dZtWoVH374Id26daNcOfOYw4GI0KVLFz744APWrFnD8ePHadq0KWPHjuX48eMlX8AQE5ivJ1QMHQqZmdZvBMnLy+OVV14hNTWVnJwcvvrqK1555RUaNvQ12LMhHCQnJzNx4kSWLVvG2rVrSU1NZcKECeTl5Tlj0P798Oyz1q+hbDjtyoZ7cUXtdjFlTGfPntX33ntPU1NTtUuXLvrNN984aKDBm+zsbO3evbtefvnlOm3atMgXeUSwnByXZ7cdNyDciytE0uuFnzt3rqalpWnbtm11zpw5Dhtn8Mf8+fO1Xbt22qZNG509e3bkasMjWHnjdpF0f2NyN/TdthuB/9SlC3969FG2bdvG2LFj6d+/vylvjAFUlQ8//JBHH32U5ORkXnnlFS6/3NdstrGH2xuTmy8sBiioVYuJ1aqR1qMHnTt3ZsOGDdx2221GIGMEEaFfv36sW7eOXr160aFDB/7zn/9QUBDQzKoGhzFfWZTzww8/0K1bNyZPnszixYt55JFHSEhIcNosQymoUKECDzzwAEuWLOHdd9+lS5cubNu2LTKRm4qcUmNEMkopKChg4sSJtGvXjp49e7JkyRKaN2/utFmGENC0aVMWLVpERkZG5LzKwrEsHWqiFsuYMsko5IcffmDYsGEcP36cyZMnx7Q4unQIxZCxefNm/vjHP5KQkMCkSZPCV1YZxgdhyiQNESNc3qOTOS3jwPgnYl5lnTrWcIHmnyp4nK5eD/cSK02ADhw4oD169ND27dvrhg0bSgwfTAsPJ7uWm/7ggbNp0ya99tprtWvXrrovhm4YLm8CZDzJKGDDhg106NCBFi1aBOw9BuOhOdQZCDAOTDAUepXp6em0b9+edevWOW2SAYwn6TQzZszQunXr6ptvvhnUecZDczdvv/221qlTRz/++GOnTSkRXO5JRj5Ca+6azcBWYGQxx58HVtnLd8Bhj2NnPY5lBRJftIpkQUGBPv3005qUlKRLly512pyYx41/Gt98843Wr19fn3zyyegct9LG7SIZ0bHoRaQ8MB64EdgJrBCRLFXdUBhGVf/qEf5/gDYelzipqq0jZG7YOHnyJHfddRebN2/m66+/LnGaVEPJuHG21nbt2vHNN9/w29/+lrVr1/LGG29QtWpVp82KOyJdJtke2Kqq36vqGeBdoK+f8HcA0yNiWbjwqlreuXMnN9xwA6rK4sWLjUCGCCfLXctCcS0PPPclJSWxcOFCKlWqxPXXX8/27dudMzZOibRI1gd2eGzvtPedh4g0AlKALzx2VxaRbBFZLiK3hM3KUOJRw7J8+XI6dOhA//79eeedd7jgggucts41xGoFUXEVcN77KleuzJQpU7jzzju5+uqr+eqrr8JjjOmVUyzRPPXbAOADVT3rsa+Rqu4SkcuAL0Rkraqe169LRIYDwwHnx1W0XZs59eszKCODN954g969e5tG1gbgV8/X0wMubp+I8OCDD9KiRQt+97vf8dprr9G3r79MWClwY5lFKIhkAShwDfC5x/YoYJSPsCuBa/1cazLQv6Q4o6Hi5sMPP9SLL75Yly9fXrQvCqfFMcQIK1as0Hr16ul7770X2guXsvYLl1fcRFokKwDfY2WjKwKrgZbFhGsG/IjdbdLeVxOoZK/XAbYALUqK02mRnD59utarV09zcnLO2e/G2lhD5Fi1apVecskl+tZbbzltiutFMqLZbVXNF5H7gc+B8sAbqrpeRMbYNzrLDjoAeNd+AIU0B14RkQKsstSn1aNWPBqZMmUKo0aNYt68eVxxxRXnHCssQzMYSsNVV13F/Pnz6d69O6dOneLuu+922iT34rRKh3uJqCfp4R5OnTpV69evrxs3boxc/Ia447vvvtPk5GSdNGmSYzZgPElDwNgF36vXrOHh+fOZN28ezZo1c9oqg4tJTU1l3rx5dOnShcqVKzNw4ECnTXIdRiRLg6+q6aFDWb9+PQNmzuSzefNo0aKFczYa4oamTZsyZ84cunXrRqVKlejXr5/TJrkKM8BFafAxusTnOTl0njWLqZ99xlVXXeWQcYZoIZLNDlu2bMlnn33GiBEjmDlzZvgjjCOMJ1kaimnItmHDBgYNGsTHH39Merprxx81BEGkmx22bt2arKwsevfuzRdffEGrVq3CH2kcYDxJbwL5+/fq3nHw4EEyMjJ47rnn6NixY4QMNUQ7TnSV7NChAy+++CJ9+/Zlv+k5ExKMSHoT5FDa+fn53Hbbbdxyyy0MHjw4zMYZYgmnukrecccdDBgwgP79+5OXlxfZyF2IEUlvgvz7f/DBB0lISOCZZ54Js2EGQ+A89dRTVK9enb/85S9OmxLzGJH0Joi//0mTJjF79mymT59O+fLlI2Dcr3iWCphxCdxLaZ9tuXLleOedd1iwYAEvv/xyeIyLE+Kn4ibEI0osWbKEUaNGsXjxYmrUqFF2+4LEs1IAzLgEbqU0lT+/vuoXkpWVRceOHWnevDmdOnUKn6EuJn5EMoRVjdu3b+fWW29lypQpNG3aNATGBY+/0WMM7qG451wS577qjXnnnXe4/fbbWbZsGSkpKaE30uXEz7zbIfIkT5w4wXXXXcedd97Jgw8+GEJLDYbQUNyr/uKLL/L666+zdOlSqlWrFtL43D7vdvyIZIj405/+xPHjx5k6dSoiErLrGmKfaB4jVFX54x//CMCbIZ4E3e0iaSpugmDOnDl89tlnjB8/3gik4TyCbD0WUUSE//znPyxYsIBZs2Y5bU5MET9lkmXkyJEj3H333bz22mtcdNFFTptjiEJKU34YSapVq8akSZMYPHgwa9eudaTCMRYx2e0AGT58OKrKa6+9FgKrDAbnGDFiBCdPngxZtttktw3MmTOH2bNn89xzzzltisFQ5naxmZmZLFy40GS7A8SIZAmYbHZ8E40N9cta9lmtWjVef/11/vSnP3H48OGQ2uZGjEiWwN/+9je6d+9Ojx49nDbF4ADRWBkTioEzunTpQp8+ffjrX/8aOsNciqm48UNhNnvt2rVOm2JwiGisjAnV/EiZmZlceeWVzJo1i169epX9gi4l4p6kiPQUkc0islVERhZzfIiI7BORVfZyl8exwSKyxV7COuSOyWYbwLmRfCJBYW33XXeNZMyYk1FVpBBNRFQkRaQ8MB64CWgB3CEixc1x8J6qtraX1+1zawH/BDoA7YF/ikjNcNk6btw4OnfubLLZcU40lkmGks6dO9Ow4T/55z8viKoihWgi0p5ke2Crqn6vqmeAd4G+AZ7bA5irqgdV9RAwF+gZDiN37drFa6+9xlNPPRWOyxtiiGDKJGNVUCdNuo4LLvgnN96402lTopJIi2R9YIfH9k57nzf9RGSNiHwgIg2CPBcRGS4i2SKSvW/fvqCNHDNmDMOGDSM5OTnocw3uIphKkmis5AmEli3r8cADZ3nhhcecNiUqicaKmxnAdFU9LSJ/AqYAXYK5gKq+CrwKVmPyYM7dvHkzH374IZs3bw7mNINLCaaSJBoreQLloYceIjU1lfXr19OyZUunzYkqIu1J7gIaeGwn2/uKUNUDqnra3nwdSAv03FDw2GOP8eCDD1KrVq1QX9rgcmK5kueiiy7ikUce4dFHH/UfMFbLFMpApEVyBZAqIikiUhEYAGR5BhCRRI/NDGCjvf450F1EatoVNt3tfSEjOzubJUuW8Oc//zmUlzUYYoL77ruPb7/9lqVLl/oOFKtlCmUgotltVc0XkfuxxK088IaqrheRMUC2qmYBfxaRDCAfOAgMsc89KCJPYgktwBhVPRhK+0aNGsXjjz9OlSpVQnlZgyEmqFy5MqNHj2bkyJEsXLiw+JGuYrlMoZSYAS5s5s2bx4gRI1i/fj2//JIQteMCGgzhJD8/nyuvvJLnnnsu4AbmZoCLOKCgoICRI0cyduxYEhIS4jFHYTAAUKFCBcaNG8eoUaMoKChw2pyowIgkkJVlFYv269cPcGZSeYMhWujbty8XXHABH3zwgdOmRAVGJIGXXnqJv/3tb5QrZ92OWK6lNEQGN1fyiggPPfQQ48ePd9qUqCDuRXLTpk2sW7eO3/3ud06bYogQoRA4txfJZGRksHXrVtatW+e0KY4T9yL58ssvM2zYMCpWrOi0Ka4imj2tUAic24tkEhISuPvuu5k4caLTpjiPqrp6SUtLU18cO3ZMa9WqpT/++KPPMIbSkZmpCtbvvn2//kYD0WZPtLJz506tWbOmHjlyxG84rOZ7jn/r4Vri2pOcPn061113HY0aNXLaFNfh6WlFW9bUiTJnJzzrssZZv359unTpwttvvx1aw2INp1U63IsvT7KgoEBbt26ts2fPLva4IXQYz+1czzqW4pw/f762bNlSCwoKfIbB5Z5kNA5wERGWL1/O0aNHufHGG502xfWEaiTtWMaJjiqhiLNz587k5+ezePFibrjhhtAYFmPEbXZ7woQJ3HvvvUXNfgyGcOJEFj8UcYoII0aMYMKECaEzLMaIy26J+/btIzU1lW3btlG7dm2HLDMYYoPDhw+TkpLCxo0bueSSS847brolupBp06aRkZEREYGM5qYwBkMg1KhRg9/97ndxW4ETlyKZlZVV1AUx3ERbza7BUBr69etX1H033og7kTx06BArVqygW7duEYnP7Y2ODfFBly5dWL16NfsLs0RxlEWKO5GcPXs2nTp1omrVqqU6P9h3w/QDN7iBypUr07VrV2bNmmXtiKMsUtyJZFZWFhkZGaU+P47eDUOMEi4nLyMj49csdxxlkeKqdjsvL4969eqxfv16EhMTSzizePbvxwzIa4hqnn3W+iPPzAxt+9S9e/fSpEkT9uzZQ6VKlYr2m9ptF7F48WIaN25caoEEk312O24oaguXk3fxxRfTsmVLFixYENoLRzkRF0kR6Skim0Vkq4iMLOb4AyKywZ53e76INPI4dlZEVtlL0FVtZc1qxzpuEIBw41mcEqv3K5x/5OdkueOFSPaBxJr8axtwGVARWA208ArTGahir98LvOdx7FiwcRb23S4oKNCUlBRdvXq1jx6o7seJ/sOxhmc/c3O/zmfDhg2anJx8Tl9uTN/tkNIe2Kqq3wOIyLtAX2BDYQBV/dIj/HJgUCgiXr9+PQUFBbRq1SoUl4tJ4nCiu6Dx7Gdu7tf5NGvWjMqVK7Nq1SratGnjtDkRIdLZ7frADo/tnfY+XwwDPvPYriwi2SKyXERu8XWSiAy3w2Xv27cPgFmzZtG7d+/ip8mME0x5anCY+3U+IkLv3r1/bQoUB0RtxY2IDALSgWc9djdSqxZtIPBvEbm8uHNV9VVVTVfV9Lp16wLwzTffcM0114TbbIMhZgm0DPbaa6/lm2++iYxRUUCkRXIX0MBjO9nedw4i0g14FMhQ1dOF+1V1l/37PbAACNjfz8nJIT3dta0UDIYyE2gb4LS0NHJyciJjVBQQ6TLJFUCqiKRgieMALK+wCBFpA7wC9FTVvR77awInVPW0iNQBOgKZgUR64MABDhw4QGpqaoiSYTC4j0DLYFNSUjhx4gR79uyhXr164TfMYSLqSapqPnA/8DmwEXhfVdeLyBgRKWyb8yxQDfivV1Of5kC2iKwGvgSeVtUNBMC3335LmzZtzNiRBoMfAi2DFRHatm0bN95kxEcmV9VZwCyvfY97rBc78oSqLgVKVTWdk5NDWlpaaU41GAzFkJ6eTnZ2Nr169XLalLATF65Vdna2EUmDIYTEU7lkXIik8SQNELs9aKIRI5IuIj8/nwMHDtCkSROnTTE4jBnBKXR4Vt64HdfPlnjixAlTaWMATA+aUCIiceNNul45Tpw4EfGstsnWRSemB01oSUtLw3uSPTfiepE8ffo0zZo1i2icJltniAeaN2/O1q1bnTYj7LheJM+cOUNSUlLIrheIlxhHgzaXCeNxxzaJiYns3r3baTPCjutFMi8vr0yD7HoTiJdosnWBYTzu2CYxMZHc3FynzQg7rq+4ycvLC6knaQr/Q4e5l7FNUlJSXIik6+e4ERHNz8+nfPnyTptiMLgKVaVy5cqcOXPGzHETyyQkJBiBNBjCgIiEtCgrWokLkTQYDOHBiKQLMCJpMISPUJb3RytGJA0GQ6kxnqQLMCJpMIQPI5IuwIikwRA+jEi6ADOwhbswvXSiiypVqjhtQthxvYLE8xSybsT00okuKlRwfX+UyIukiPQUkc0islVERhZzvJKIvGcf/1pELvU4Nsrev1lEegQYXwitDz3GMwoO0y8+ujAiGWJEpDwwHrgJaAHcISItvIINAw6pamPgeeAZ+9wWWLMrtgR6AhPs65UUZ+gSEAaMZxQcpl98dBEPZf6R/htoD2y1581GRN4F+gKesx72BZ6w1z8AXhJL6foC79rzcP8gIlvt6y3zF2G0i6Tpv2yIZYwnGXrqAzs8tnfa+4oNY09B+wtQO8BzARCR4SKSLSLZv/zyS4hMDw/GMzI4SVmLe6LdCQkFrqy4UdVXVTVdVdMvvPBCp80xGKKWshb35OXlhdagKCTSvvIuoIHHdrK9r7gwO0WkAnARcCDAc8/D7aMcGQxloazFPfn5+aEzJkqJtCe5AkgVkRQRqYhVEZPlFSYLGGyv9we+UEvpsoABdu13CpAKfFNShEYkDQbflLW4Jx5EMqKepKrmi8j9wOdAeeANVV0vImOAbFXNAiYBU+2KmYNYQood7n2sSp584D5VPRtAnGFKjcFgMNntMKCqs4BZXvse91g/Bdzq49yxwNhg4isoKCiFlQaDIRBOnz7ttAlhx5UVN57EQ3bAYHCKn3/+2WkTwo7rRTIesgMGg1PEwxw3RiQNBkOpMSLpAs6cOeO0CQaDazHzbrsAt3qSZmAMQzRgPEkXkJ+fX1TD7SZhMQNjGCKFr+9GVY0n6QbKlSvHgQMHAHcJixuGDHPTn5bThPNe+vpujhw5EhfTNbt+CI+EhARyc3OpW7euq0bcKewpEcsUfnwQ+2kJhP37rTQPHRr6AU3CeS99fTe5ubkkJSXx3XffhTbCKCMuRHL37t1ceeWVrhAWN+GmP61AcELIQoGv72b37t0kJiYakYx1KlasGNHC5XB6C24j3v60nBCycFLoSbod15dJVqxYkS1btkQsvmgu9zRlgOfjeU/CfX/cNnboli1buPTSS502I+y43pOsWrUqOTk5EYsvmrOQ8VYGGAie9wTM/QmGnJwchgwZ4rQZYcf1IlmlShVycnJQ1YiMolynjiWQ0ZjljmYBd4ri7om5P4GRk5PDSy+95LQZYUfcPpRYenq67tq1i+XLl9OoUaOIxPnss5ZHkplpPBKDOymsDN23bx/lypXLUdV0p20KF673JAHS0tLIzs6OmEgaj83gdnJyckhLSzNz3LiFtLS0iJZLuq2A3mDwplAk44G4EMn09PSIiqTB4HaMSLqMQk/S7eWvBkOkyM7OJj3dtcWQ5xAxkRSRWiIyV0S22L81iwnTWkSWich6EVkjIrd7HJssIj+IyCp7aR1o3ElJSSQkJLB9+/YQpcYQDZh2n86we/du8vLyaNiwodOmRIRIepIjgfmqmgrMt7e9OQH8QVVbAj2Bf4tIDY/jD6lqa3tZFUzk4SiXjPeP1On0F7ZxfOml+H4OkSaeKm0gsiLZF5hir08BbvEOoKrfqeoWe303sBeoG4rI27Vrx/Lly0NxqSKiuXdNJHA6/YUjIUF8P4dI8/XXX8dNVhuwxoSLxAIc9lgXz20f4dsDG4Fy9vZkYDOwBngeqOTn3OFANpDdsGFDVVVdtmyZtmzZUkPJvn2qmZnWbzwSLemPFjvihdatW+uiRYuKtrGmg46YlkR6CWljchGZB1xSzKFHgSmqWsMj7CFVPa9c0j6WCCwABqvqco99PwMVgVeBbao6piSb0tPTNTs7m4KCApKSkli6dCmXXXZZkCkzGAwA27dvp23btvz8889UqGA1sxYRVzcmD2l2W1W7qeoVxSyfAHtsoSsUvL3FXUNELgRmAo8WCqR97Vz7j+s08CaWpxkw5cqV4+abb2bGjBmlTZ7BEPd8+umn9OrVq0gg44FIlklmAYPt9cHAJ94BRKQi8BHwlqp+4HWsUGAFqzxzXbAGZGRkkJWVFexpBoPBJisri4yMDKfNiCiRFMmngRtFZAvQzd5GRNJF5HU7zG3ADcCQYpr6vCMia4G1QB3gqWAN6NatGytWrODQoUNlTIrBEHuUtTXCkSNHWLJkCT169AitYVFOxERSVQ+oaldVTbWz5Qft/dmqepe9/raqJuivzXyKmvqoahdVbWVn3wep6rFgbahatSqdOnVi9uzZIU2bP5xuJmOIbzzfv7K2RpgzZw4dO3akevXqoTUyyomfggWbwiz3HXfcEZH4Cl/M48ehatXoGz7N4G48x8ss68Ar8ZjVhjgZKi07O7toOzc3lxYtWrB3714SEhLCHn/hP/jx4zB6tBk+zRBZQjWdSH5+PpdccgkrV66kQYMG5xxze+123HmSiYmJNGnShMWLF9OlS5ewx1c4ItD+/b96kgZDpAjV3DfLli2jYcOG5wlkPBAXA1x4k5GRwUcffRTROM3waf4xZbfRzUcffUSfPn2cNsMR4lIkBw4cyPTp0zlx4oTTphhsnO7iaPDNqVOnePvttxk0aJDTpjhCXIpkSkoKV199Ne+++67TpkSEWPDSCvthm+KI6OO///0vbdq0ITU11WlTHCEuRRJgxIgRjB8/3u8Yk7EgLoEQC16aKY6IXiZMmMCIESOcNsMx4lYke/TowaFDh1ixYoXPMLEgLoFgvDRDafn222/ZtWsXN998s9OmOEbc1W4XUr58ee69914mTJhA+/bFdwN3y4ReoarhNMQfEydO5J577omrvtrexF07SU/2799PamoqW7dupXbt2hG2zBAthKotods4fPgwKSkpbNq0iXr16vkM5/Z2knGb3QaoU6cOGRkZvBnr+WlDmXBLsUqomTJlCjfddJNfgYwH4lokwarAmThxIgUFBU6bYnAIU2Z7Pqoa9xU2hcS9SLZv354aNWowZ84cp00xOISpWT+fL774gkqVKtGxY0enTXGcuBdJEeG+++7j+eefd9oUgyFq+Pe//82IESPiZrIvf8S9SAIMGjSIrVu3smDBAqdNMRgcZ8mSJaxZs4YhQ4Y4bUpUYEQSqFixIk8++SQjR47027jcYHA7qsrIkSMZPXo0lStXdtqcqMCIpM2AAQM4deoUH3/8sdOmGKIMt/S8CoSZM2dy8OBBfv/73zttStRgRNKmXLly/O///i9///vfyc/Pd9ocQxQRL02Ezp49y6hRoxg3bhzly5d32pyoIWIiKSK1RGSuiGyxf31NJ3vWY36bLI/9KSLytYhsFZH37EnDQkrPnj2pV68eb731VqgvXSbiyZOJRuKlidC0adO48MILfx193Lx4FpGa4BvIBEba6yOBZ3yEO+Zj//vAAHv9ZeDeQOJNS0vTYFi2bJk2aNBAT5w4EdR54SQzUxWsX4MhHJw6dUovvfRSXbRo0a87A3zxgGyNkI44sUQyu90XmGKvT8GaFjYg7GlkuwCF08wGdX4wXH311aSlpTF+/PhwXL5UxIsnY3COV155hRYtWnD99df/utO8eEAE+26LyGFVrWGvC3CocNsrXD6wCsgHnlbVj0WkDrBcVRvbYRoAn6nqFT7iGg4MB2jYsGHaTz/9FJStGzdupFOnTnz33XfUqHGeiQaDqzh69CipqanMmTOHK6+8MujzTd/tIBCReSKyrpilr2c420X3pc6N7Bs+EPi3iFwerB2q+qqqpqtqet26dYNOR/PmzenTpw9PP/100OcaDLHGc889x4033lgqgYwHQjr+kap283VMRPaISKKq5opIIrDXxzV22b/fi8gCoA3w/4AaIlJBVfOBZGBXKG335sknn6R169YMGDCA1q1bhzMqg8Ex1q1bx4QJE8jJyXHalKglkmWSWcBge30w8Il3ABGpKSKV7PU6QEdgg+15fgn093d+KElKSiIzM5MhQ4Zw5syZcEZlMDhCfn4+Q4YMYdy4cTRs2NBpc6KWSIrk08CNIrIF6GZvIyLpIvK6HaY5kC0iq7FE8WlV3WAfewR4QES2ArWBSeE2ePDgwSQnJzNu3LhwR2UwRJzMzExq167NXXfd5bQpUU1cD7pbhJ9RV3ft2kXr1q2ZO3euyXYbXMO6devo3LkzOTk5ZfYiTcVNPOCnS0X9+vV59tlnTbbb4Bry8vJMNjsIjEhCie3BTLbb4CZMNjs4THY7QEy22+AGQpnNLsRktw2AyXYbYh+TzS4dRiSDoDDbPXr0aKdNMRiCZuzYsSabXQridzLdUiAiTJo0ifbt29OmTRv69+9f8kkGQxTwySefMGnSJL7++mszJUOQGJEMknr16vHRRx/Ro0cPGjdubMonDVHPunXruPvuu5k5cyZJSUlOmxNzmOx2KWjbti0vvfQSt9xyC3v3Ftu70mCICg4cOEDfvn15/vnnadeundPmxCRGJEvJ7bffzqBBg+jfv7+pyDFEJXl5edx6663079+fO++802lzYhYjkmVgzJgx1KpVi/vvv99MIGaIOh544AEuuOAC0763jBiRLAPlypVj6tSpLF26lAkTJjhtjsFQxGuvvca8efOYNm2ama+mjJiKmzJSvXp1PvnkEzp27Ejz5s3p0qWL0yYZ4pzFixfzj3/8g8WLF3PRRReFN7L9+0mCeuGNxFmMJxkCLr/8cqZNm8bAgQPZunWr0+YY4pgff/yR22+/nalTp9KkSZPwR/jmmyRa47u6FiOSIaJLly6MGTOGG2+8ke3btzttjiEO2bVrF926dePRRx+le/fukYl06FByYWdkInMGI5IhZPjw4fz5z3+ma9eu7N6922lzQoaZWTT62bNnD127dmX48OHcd999kYu4Th12w57IRRh5TJlkiPnrX//KqVOn6Nq1KwsXLuTiiy922qQyUziSHMBDDzlri+F89u/fT7du3Rg4cCAPFz4oQ8iIP08yAm7RqFGjuO222+jWrRv7XeB+FY4kl5FhPMpo4+DBg3Tv3p3evXvz2GOPOW2OK4k/kfQzwG4oeeKJJ+jTpw+/+c1v2LMntnMjdepYHmRWVkRuXdwT6P/4vn376Ny5M127dmXcuHGmT3aYiFh2W0RqAe8BlwI/Arep6iGvMJ2B5z12NQMG2HNvTwY6Ab/Yx4ao6qqgDSkcWDfME66LCE899RSVK1emU6dOzJ8/n/r164c1znAToVsXFvzM0BF1BFK8kZubS9euXenXrx9jxowxAhlOVDUiC5AJjLTXRwLPlBC+FnAQqGJvTwb6BxtvWlqaOs0zzzyjl112mf74449OmxK3ZGaqgvUb7ezbZ9m5b1/xx7dv366pqan61FNPRdYwHwDZGiEdcWKJZMVNX+A39voUYAHWDIi+6A98pqonwmtW+Hn44YepXLkyN9xwAzNmzDCTwDtALHnBhcUbxbF+/Xp69+7N//zP//DAAw9E1rB4JVJqDBz2WBfPbR/hvwB6e2xPBjYDa7Cy5JUCibfUnmRJf+elYNq0aVqnTh398MMPQ3ZNQ/yQlZWlderU0SlTpjhtyjngck8y1EI4D1hXzNLXWxSBQ36ukwjsAxK89glQCcsTfdzP+cOBbCC7YcOGgT1pb8KUP1uxYoUmJyfr6NGj9ezZsyG9tiE4wvA/GBYKCgp07NixWr9+fV2+fLnT5pyHEcnQCehmIFF/FbzNfsL+BXjVz/HfAJ8GEm80eZKF7N69W6+++mrt37+/Hjt2LOTXDzWxIibBEgvllMePH9fbb79d27Vrpzt37nTanGJxu0hGsglQFjDYXh8MfOIn7B3AdM8dIpJo/wpwC5aHGj4KC4bCUBWamJjIl19+SbVq1ejYsSM//fRTyOPwRWmaiUao1VTEKWEmYcfZsWMH119/PRUqVGDhwoUx3zoiZomUGgO1gfnAFqxseS17fzrwuke4S4FdQDmv878A1mKJ49tAtUDijYbabV8UFBTov/71L73kkkt00aJFEYmzNN6TWz3JaGbp0qWalJSkzzzzjBYUFDhtjl9wuSfpuAHhXqJZJAuZPXu21q1bV1999dXzjoVaoGJV8GLV7tLwxhtvaN26dXXmzJlOmxIQRiRjfIkFkVRV3bx5szZr1kzvvPNOPXDgQNH+WCg3iwTxcB8OHTqkQ4YM0dTUVN2wYYPT5gSM20Uy/rolRilNmjQhOzub2rVr06pVK7KysoDoLzeLFG6/D7NmzaJVq1ZUqVKFb7/9lubNmzttkqEQp1U63EuseJKeLFy4UC+//HIdNGjQOV5lvBBPWetC7zElJUW/+OILp80pFRhP0hBpbrjhBlavXk3NmjXP8SrjBbfWpnvj6T2uWbOGzp07O22SoTicVulwL7HoSXqyYMECveyyy+LKq3S7J1noPV566aU6f/58a2cMJxrjSRqcpFOnTqxZsyauvMowNlF1HE/vce3atb9OHBcv7nMs4rRKh3uJdU/SkwULFmjjxo21Z8+eunLlSqfNMQTBmjVrtHfv3pqSkvKr9+iJ8SSjdjGeZAzRqVMn1q9fz80330zPnj0ZOHAg27Ztc9osgx9++OEH/vCHP9CtWze6devGxo0bi5922M3uc4xjRDLGqFixIvfffz9btmyhWbNmtG/fnvvvvz/mRz93G3v37uUvf/kL6enppKSksGXLFv7yl79QqVIlp00zBIkRyRilevXqPP7442zatImEhARatGjBY489xi+//FLyyYawcfToUZ544gmaN2+OqrJx40ZGjx7NhRde6LRphlJiRDLGqVu3Ls8//zzffvstO3bsoEmTJvzrX//i1KlTZbqumUY2OE6fPs0LL7xAamoq27ZtIzs7mxdffNEVs2XGO0YkXUKjRo2YPHky8+fPZ+HChTRq1Ii///3vpR5hyFS2Bsb27dv5xz/+QaNGjZg7dy5z5sxh6tSppKSkOG2aIUQYkXQZV1xxBZ988gmLFi3i5MmTtG3bloyMDGbPnk1BQUHA13F7N8CyUFBQwJw5c7jlllto06YNR48e5csvv+TTTz81U3O4ELFq8N1Lenq6ZmdnO22GYxw/fpx3332X8ePHc+TIEe655x6GDh1K7dq1nTYt5jh06BCTJ09m4sSJVKlShfvuu4877riDatWqOW2ao4hIjqqmO21HuDCepMupWrUqw4YNIycnh3feeYe1a9fSuHFjhg4dyooVK5w2LybIyclh2LBhXHbZZeTk5DB58mRWrlzJ3XffHfcCGQ9EcrZEg4OICB06dKBDhw7s37+fN954g9tvv52EhAQyMjLIyMjgmmuuoUIF80qcPXuWZcuWkZWVxYwZMzh58iT33HMPmzdvNhUxcYjJbscxqsrKlSvJysoiKyuL7du306tXLzIyMujRowfVq1d32sSIcfToUebMmcOMGTOYOXMm9evXL/rzaNu2LeXKmUyXL9ye3TYiaShix44dfPrpp2RlZbFkyRKuueYaMjIy6NOnDw0bNnTavJCzc+dOZsyYcV56e/fuTaNGjZw1bv9+q2nB0KFR3wvHiGSMY0SydHh7VjVr1iQ9PZ20tDTS0tJo27ZtTDWQPnLkCCtXriQnJ6do2b9/f5Hn3L179+hKz7PPWm2wMjOt7opRjBHJUEUkcivwBNAcaK+qxSqXiPQEXgDKY00Q9rS9PwV4F2tCsRzg96p6pqR4jUiWnbNnz7Jx40ays7OLBGbNmjUkJSWRlpZWJJ5t2rThoosuctrccwSx0OadO3dy5ZVXFol8WloaLVq0iN4yWONJRg2RFMnmQAHwCvC34kRSRMoD3wE3AjuBFcAdqrpBRN4HPlTVd0XkZWC1qk4sKV4jkuEhPz+fTZs2neOZrV69mnr16tGgQQMSExNJSkoq9rd69epYMwMHz9GjR9m9eze5ubnn/ebm5rJjxw5yc3O56qqrzhHE5s2bR68gxjhGJEMdocgCfIvkNcATqtrD3h5lH3oa2Adcoqr53uH8YUQycuTn57Nt2zZ27dp1nnh5CpqqkpSURM2aNUlISKBChQpFv+XLl+fs2bPk5+eTn59PXl4e+fn5HDx4kNzc3KJzfYlwUlISjRs3NoIYQdwuktH2JtUHdnhs7wQ6YGWxD6tqvsd+nzO1i8hwYLi9eVpE1oXBVqepA8Rsz+qtW7f6O+w3bVu3bi3p/Gglpp+ZH5o6bUA4CalIisg84JJiDj2qqp+EMi5/qOqrwKu2Tdlu/Jdza7rAvWlzc7qctiGchFQkVbVbGS+xC2jgsZ1s7zsA1BCRCrY3WbjfYDAYwkq0tZBdAaSKSIqIVAQGAFn2EPFfAv3tcIOBiHmmBoMhfomYSIrIb0VkJ3ANMFNEPrf3J4nILADbS7wf+BzYCLyvquvtSzwCPCAiW7HKKCcFGPWrIUxGNOHWdIF702bSFYO4vjG5wWAwlIVoy24bDAZDVGFE0mAwGPzgOpEUkVtFZL2IFIiIz+YWItJTRDaLyFYRGRlJG0uDiNQSkbkissX+rekj3FkRWWUvWZG2M1BKuv8iUklE3rOPfy0ilzpgZqkIIG1DRGSfx3O6ywk7g0FE3hCRvb7aHIvFi3aa14hI20jbGDacnvg71AtW3/CmwAIg3UeY8sA24DKgIrAaaOG07SWkKxMYaa+PBJ7xEe6Y07YGkJYS7z8wAnjZXh8AvOe03SFM2xDgJadtDTJdNwBtgXU+jvcCPgMEuBr42mmbQ7W4zpNU1Y2qurmEYO2Brar6vVqDZLwL9A2/dWWiLzDFXp8C3OKcKWUmkPvvmd4PgK5S2g7fkSUW360SUdVFwEE/QfoCb6nFcqx2zYmRsS68uE4kA6S47o8+uzlGCfVUNdde/xmo5yNcZRHJFpHlInJLZEwLmkDuf1EYtZqG/YLV9CvaCfTd6mdnSz8QkQbFHI81YvGbCoho67sdENHS/THU+EuX54aqqoj4arvVSFV3ichlwBcislZVt4XaVkOZmAFMV9XTIvInLI+5i8M2GXwQkyKp4ev+6Cj+0iUie0QkUVVz7WzMXh/X2GX/fm+PuNQGq4wsmgjk/heG2SkiFYCLsLqnRjslpk1VPdPxOlZ5c6wTld9UKIjX7Hax3R8dtqkksrC6Y4KPbpkiUlNEKtnrdYCOwIaIWRg4gdx/z/T2B75Qu4YgyikxbV5ldRlYvctinSzgD3Yt99XALx7FQ7GN0zVHoV6A32KVh5wG9gCf2/uTgFke4XphDfC7DSub7rjtJaSrNjAf2ALMA2rZ+9OxRnAHuBZYi1WjuhYY5rTdftJz3v0HxgAZ9npl4L/AVuAb4DKnbQ5h2v4XWG8/py+BZk7bHECapgO5QJ79fQ0D7gHusY8LMN5O81p8tCyJxcV0SzQYDAY/xGt222AwGALCiKTBYDD4wYikwWAw+MGIpMFgMPjBiKTBYDD4wYikwWAw+MGIpMFgMPjh/wNmN0DC70HRwwAAAABJRU5ErkJggg==\n",
          "text/plain": "<Figure size 432x288 with 1 Axes>"
         },
         "metadata": {
          "needs_background": "light"
         },
         "output_type": "display_data"
        }
       ]
      }
     }
    },
    "version_major": 2,
    "version_minor": 0
   }
  }
 },
 "nbformat": 4,
 "nbformat_minor": 2
}