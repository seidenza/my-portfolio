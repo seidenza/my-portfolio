{
 "cells": [
  {
   "attachments": {},
   "cell_type": "markdown",
   "metadata": {},
   "source": [
    "# 7 Dec 23 - Activity: The Ising Model\n",
    "\n",
    "$$E = -J\\left(\\vec{S}_i\\cdot\\vec{S}_j\\right)$$"
   ]
  },
  {
   "cell_type": "code",
   "execution_count": 1,
   "metadata": {},
   "outputs": [
    {
     "ename": "ModuleNotFoundError",
     "evalue": "No module named 'numpy'",
     "output_type": "error",
     "traceback": [
      "\u001b[0;31m---------------------------------------------------------------------------\u001b[0m",
      "\u001b[0;31mModuleNotFoundError\u001b[0m                       Traceback (most recent call last)",
      "\u001b[1;32m/Users/caballero/repos/teaching/phy415fall23/content/4_distributions/activity-ising_model.ipynb Cell 2\u001b[0m line \u001b[0;36m1\n\u001b[0;32m----> <a href='vscode-notebook-cell:/Users/caballero/repos/teaching/phy415fall23/content/4_distributions/activity-ising_model.ipynb#W1sZmlsZQ%3D%3D?line=0'>1</a>\u001b[0m \u001b[39mimport\u001b[39;00m \u001b[39mnumpy\u001b[39;00m \u001b[39mas\u001b[39;00m \u001b[39mnp\u001b[39;00m\n\u001b[1;32m      <a href='vscode-notebook-cell:/Users/caballero/repos/teaching/phy415fall23/content/4_distributions/activity-ising_model.ipynb#W1sZmlsZQ%3D%3D?line=1'>2</a>\u001b[0m \u001b[39mimport\u001b[39;00m \u001b[39mmatplotlib\u001b[39;00m\u001b[39m.\u001b[39;00m\u001b[39mpyplot\u001b[39;00m \u001b[39mas\u001b[39;00m \u001b[39mplt\u001b[39;00m\n\u001b[1;32m      <a href='vscode-notebook-cell:/Users/caballero/repos/teaching/phy415fall23/content/4_distributions/activity-ising_model.ipynb#W1sZmlsZQ%3D%3D?line=2'>3</a>\u001b[0m \u001b[39mimport\u001b[39;00m \u001b[39mrandom\u001b[39;00m \u001b[39mas\u001b[39;00m \u001b[39mrandom\u001b[39;00m\n",
      "\u001b[0;31mModuleNotFoundError\u001b[0m: No module named 'numpy'"
     ]
    }
   ],
   "source": [
    "import numpy as np\n",
    "import matplotlib.pyplot as plt\n",
    "import random as random"
   ]
  },
  {
   "cell_type": "code",
   "execution_count": 2,
   "metadata": {},
   "outputs": [
    {
     "ename": "NameError",
     "evalue": "name 'np' is not defined",
     "output_type": "error",
     "traceback": [
      "\u001b[0;31m---------------------------------------------------------------------------\u001b[0m",
      "\u001b[0;31mNameError\u001b[0m                                 Traceback (most recent call last)",
      "\u001b[1;32m/Users/caballero/repos/teaching/phy415fall23/content/4_distributions/activity-ising_model.ipynb Cell 3\u001b[0m line \u001b[0;36m1\n\u001b[1;32m     <a href='vscode-notebook-cell:/Users/caballero/repos/teaching/phy415fall23/content/4_distributions/activity-ising_model.ipynb#W2sZmlsZQ%3D%3D?line=14'>15</a>\u001b[0m     \u001b[39mreturn\u001b[39;00m \u001b[39m-\u001b[39mcouplingConstant\u001b[39m*\u001b[39mtotalInteractionEnergy\n\u001b[1;32m     <a href='vscode-notebook-cell:/Users/caballero/repos/teaching/phy415fall23/content/4_distributions/activity-ising_model.ipynb#W2sZmlsZQ%3D%3D?line=16'>17</a>\u001b[0m \u001b[39m## Create an empty square array\u001b[39;00m\n\u001b[0;32m---> <a href='vscode-notebook-cell:/Users/caballero/repos/teaching/phy415fall23/content/4_distributions/activity-ising_model.ipynb#W2sZmlsZQ%3D%3D?line=17'>18</a>\u001b[0m spinArray \u001b[39m=\u001b[39m np\u001b[39m.\u001b[39mempty([cellLength,cellLength], \u001b[39mint\u001b[39m)\n\u001b[1;32m     <a href='vscode-notebook-cell:/Users/caballero/repos/teaching/phy415fall23/content/4_distributions/activity-ising_model.ipynb#W2sZmlsZQ%3D%3D?line=19'>20</a>\u001b[0m \u001b[39m## Populate it with random spins\u001b[39;00m\n\u001b[1;32m     <a href='vscode-notebook-cell:/Users/caballero/repos/teaching/phy415fall23/content/4_distributions/activity-ising_model.ipynb#W2sZmlsZQ%3D%3D?line=20'>21</a>\u001b[0m \u001b[39mfor\u001b[39;00m row \u001b[39min\u001b[39;00m \u001b[39mrange\u001b[39m(cellLength):\n",
      "\u001b[0;31mNameError\u001b[0m: name 'np' is not defined"
     ]
    }
   ],
   "source": [
    "cellLength = 20\n",
    "simulationSteps = 1000000\n",
    "couplingConstant = 1.0 ## J\n",
    "temperature = 1.0\n",
    "\n",
    "def calculateEnergy(spinArray):\n",
    "    '''Calculate all the pairwise energy interactions and sum them up\n",
    "    Do rows and columns separately and add them up.'''\n",
    "    \n",
    "    rowNeighborInteractionEnergy = np.sum(spinArray[0:cellLength-1,:]*spinArray[1:cellLength,:])\n",
    "    columnNeighborInteractionEnergy = np.sum(spinArray[:,0:cellLength-1]*spinArray[:,1:cellLength])\n",
    "    \n",
    "    totalInteractionEnergy = rowNeighborInteractionEnergy+columnNeighborInteractionEnergy\n",
    "    \n",
    "    return -couplingConstant*totalInteractionEnergy\n",
    "\n",
    "## Create an empty square array\n",
    "spinArray = np.empty([cellLength,cellLength], int)\n",
    "\n",
    "## Populate it with random spins\n",
    "for row in range(cellLength):\n",
    "    for column in range(cellLength):\n",
    "        if random.random()<0.5:\n",
    "            spinArray[row,column] = +1\n",
    "        else:\n",
    "            spinArray[row,column] = -1\n",
    "\n",
    "# Calculate the initial energy and magnetization        \n",
    "energyAtStep = calculateEnergy(spinArray)\n",
    "magnetizationAtStep = np.sum(spinArray)\n",
    "\n",
    "## Show the spin array \n",
    "## Black is spin up and white is spin down\n",
    "plt.figure(figsize=(8,8))\n",
    "c = plt.pcolor(spinArray, cmap='Greys')\n",
    "plt.axis('square')"
   ]
  },
  {
   "cell_type": "code",
   "execution_count": 3,
   "metadata": {},
   "outputs": [
    {
     "ename": "NameError",
     "evalue": "name 'np' is not defined",
     "output_type": "error",
     "traceback": [
      "\u001b[0;31m---------------------------------------------------------------------------\u001b[0m",
      "\u001b[0;31mNameError\u001b[0m                                 Traceback (most recent call last)",
      "\u001b[1;32m/Users/caballero/repos/teaching/phy415fall23/content/4_distributions/activity-ising_model.ipynb Cell 4\u001b[0m line \u001b[0;36m3\n\u001b[1;32m      <a href='vscode-notebook-cell:/Users/caballero/repos/teaching/phy415fall23/content/4_distributions/activity-ising_model.ipynb#W3sZmlsZQ%3D%3D?line=0'>1</a>\u001b[0m \u001b[39m## Hold onto the values of the magnetization \u001b[39;00m\n\u001b[1;32m      <a href='vscode-notebook-cell:/Users/caballero/repos/teaching/phy415fall23/content/4_distributions/activity-ising_model.ipynb#W3sZmlsZQ%3D%3D?line=1'>2</a>\u001b[0m \u001b[39m## for each step in the simulation\u001b[39;00m\n\u001b[0;32m----> <a href='vscode-notebook-cell:/Users/caballero/repos/teaching/phy415fall23/content/4_distributions/activity-ising_model.ipynb#W3sZmlsZQ%3D%3D?line=2'>3</a>\u001b[0m magnetizationArray \u001b[39m=\u001b[39m np\u001b[39m.\u001b[39mzeros(simulationSteps)\n\u001b[1;32m      <a href='vscode-notebook-cell:/Users/caballero/repos/teaching/phy415fall23/content/4_distributions/activity-ising_model.ipynb#W3sZmlsZQ%3D%3D?line=4'>5</a>\u001b[0m \u001b[39m## Monte Carlo Loop\u001b[39;00m\n\u001b[1;32m      <a href='vscode-notebook-cell:/Users/caballero/repos/teaching/phy415fall23/content/4_distributions/activity-ising_model.ipynb#W3sZmlsZQ%3D%3D?line=5'>6</a>\u001b[0m \u001b[39mfor\u001b[39;00m step \u001b[39min\u001b[39;00m \u001b[39mrange\u001b[39m(simulationSteps):\n\u001b[1;32m      <a href='vscode-notebook-cell:/Users/caballero/repos/teaching/phy415fall23/content/4_distributions/activity-ising_model.ipynb#W3sZmlsZQ%3D%3D?line=6'>7</a>\u001b[0m     \n\u001b[1;32m      <a href='vscode-notebook-cell:/Users/caballero/repos/teaching/phy415fall23/content/4_distributions/activity-ising_model.ipynb#W3sZmlsZQ%3D%3D?line=7'>8</a>\u001b[0m     \u001b[39m## Store the magnetization at this step\u001b[39;00m\n",
      "\u001b[0;31mNameError\u001b[0m: name 'np' is not defined"
     ]
    }
   ],
   "source": [
    "## Hold onto the values of the magnetization \n",
    "## for each step in the simulation\n",
    "magnetizationArray = np.zeros(simulationSteps)\n",
    "\n",
    "## Monte Carlo Loop\n",
    "for step in range(simulationSteps):\n",
    "    \n",
    "    ## Store the magnetization at this step\n",
    "    magnetizationArray[step] = magnetizationAtStep\n",
    "    \n",
    "    ## Store the energy before swapping the spin randomly\n",
    "    oldEnergy = energyAtStep\n",
    "    \n",
    "    ## Select a spin from the cell\n",
    "    ithSpin = random.randrange(cellLength)\n",
    "    jthSpin = random.randrange(cellLength)\n",
    "    \n",
    "    ## Flip the spin of that one site\n",
    "    spinArray[ithSpin,jthSpin] = -spinArray[ithSpin,jthSpin]\n",
    "    \n",
    "    ## Calculate the energy after that change\n",
    "    energyAtStep = calculateEnergy(spinArray)\n",
    "    deltaE = energyAtStep - oldEnergy\n",
    "    \n",
    "    ## If the change resulted in an increase in the total energy,\n",
    "    ## evaluate whether to accept the value or not\n",
    "    if deltaE > 0.0:\n",
    "        \n",
    "        probabilityOfFlip = np.exp(-deltaE/temperature)\n",
    "        \n",
    "        ## If the the random value is lower than the probability,\n",
    "        ## reverse the change to the spin, and recalculate the energy\n",
    "        if random.random()>probabilityOfFlip:\n",
    "            \n",
    "            spinArray[ithSpin,jthSpin] = -spinArray[ithSpin,jthSpin]\n",
    "            energyAtStep = oldEnergy\n",
    "            continue\n",
    "        \n",
    "    magnetizationAtStep = np.sum(spinArray)"
   ]
  },
  {
   "cell_type": "code",
   "execution_count": 4,
   "metadata": {},
   "outputs": [
    {
     "ename": "NameError",
     "evalue": "name 'plt' is not defined",
     "output_type": "error",
     "traceback": [
      "\u001b[0;31m---------------------------------------------------------------------------\u001b[0m",
      "\u001b[0;31mNameError\u001b[0m                                 Traceback (most recent call last)",
      "\u001b[1;32m/Users/caballero/repos/teaching/phy415fall23/content/4_distributions/activity-ising_model.ipynb Cell 5\u001b[0m line \u001b[0;36m1\n\u001b[0;32m----> <a href='vscode-notebook-cell:/Users/caballero/repos/teaching/phy415fall23/content/4_distributions/activity-ising_model.ipynb#W4sZmlsZQ%3D%3D?line=0'>1</a>\u001b[0m plt\u001b[39m.\u001b[39mfigure(figsize\u001b[39m=\u001b[39m(\u001b[39m8\u001b[39m,\u001b[39m8\u001b[39m));\n\u001b[1;32m      <a href='vscode-notebook-cell:/Users/caballero/repos/teaching/phy415fall23/content/4_distributions/activity-ising_model.ipynb#W4sZmlsZQ%3D%3D?line=1'>2</a>\u001b[0m c \u001b[39m=\u001b[39m plt\u001b[39m.\u001b[39mpcolor(spinArray, cmap\u001b[39m=\u001b[39m\u001b[39m'\u001b[39m\u001b[39mGreys\u001b[39m\u001b[39m'\u001b[39m);\n\u001b[1;32m      <a href='vscode-notebook-cell:/Users/caballero/repos/teaching/phy415fall23/content/4_distributions/activity-ising_model.ipynb#W4sZmlsZQ%3D%3D?line=2'>3</a>\u001b[0m plt\u001b[39m.\u001b[39maxis(\u001b[39m'\u001b[39m\u001b[39msquare\u001b[39m\u001b[39m'\u001b[39m);\n",
      "\u001b[0;31mNameError\u001b[0m: name 'plt' is not defined"
     ]
    }
   ],
   "source": [
    "plt.figure(figsize=(8,8));\n",
    "c = plt.pcolor(spinArray, cmap='Greys');\n",
    "plt.axis('square');"
   ]
  },
  {
   "cell_type": "code",
   "execution_count": null,
   "metadata": {},
   "outputs": [],
   "source": []
  },
  {
   "cell_type": "markdown",
   "metadata": {},
   "source": [
    "plt.figure(figsize=(8,6))\n",
    "\n",
    "plt.plot(magnetizationArray)\n",
    "plt.ylabel('Magnetization')\n",
    "plt.xlabel('Simulation Steps')"
   ]
  },
  {
   "cell_type": "code",
   "execution_count": null,
   "metadata": {},
   "outputs": [],
   "source": []
  }
 ],
 "metadata": {
  "kernelspec": {
   "display_name": "base",
   "language": "python",
   "name": "python3"
  },
  "language_info": {
   "codemirror_mode": {
    "name": "ipython",
    "version": 3
   },
   "file_extension": ".py",
   "mimetype": "text/x-python",
   "name": "python",
   "nbconvert_exporter": "python",
   "pygments_lexer": "ipython3",
   "version": "3.9.12"
  }
 },
 "nbformat": 4,
 "nbformat_minor": 2
}