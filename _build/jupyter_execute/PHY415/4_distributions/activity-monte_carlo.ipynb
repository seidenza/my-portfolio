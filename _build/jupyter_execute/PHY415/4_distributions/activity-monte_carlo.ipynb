{
 "cells": [
  {
   "cell_type": "markdown",
   "metadata": {},
   "source": [
    "# 7 Dec 23 - Activity: Modeling\n",
    "\n",
    "While this course has focused on physics and physical systems, the same techniques and approaches that you have developed, can be used to investigate systems in other fields. In this activity, we will demonstrate an initial model, and then ask you to complicate it with the ideas you have developed. Consider the critical issue of a potential **zombie apocalypse**.\n",
    "\n",
    "While this might seem a little silly, the models and dynamics of a zombie apocalypse can be adapted from the models of disease spread. In fact, the [CDC had a page dedicated](https://www.usatoday.com/story/news/nation/2021/03/05/zombie-apocalypse-cdc-useful-advice-any-emergency-pandemic/6920614002/) to this topic. For those who might be really interested, the behvior fo zombie hoards can be modeled like flocking birds or schools of fish.\n"
   ]
  },
  {
   "cell_type": "markdown",
   "metadata": {},
   "source": []
  }
 ],
 "metadata": {
  "kernelspec": {
   "display_name": "base",
   "language": "python",
   "name": "python3"
  },
  "language_info": {
   "name": "python",
   "version": "3.9.12"
  }
 },
 "nbformat": 4,
 "nbformat_minor": 2
}