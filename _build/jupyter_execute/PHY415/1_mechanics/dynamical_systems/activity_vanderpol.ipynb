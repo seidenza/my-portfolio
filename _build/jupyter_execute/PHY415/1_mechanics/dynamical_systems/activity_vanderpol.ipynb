{
 "cells": [
  {
   "cell_type": "markdown",
   "metadata": {},
   "source": [
    "# 14 Sept 23 - Conducting a complete analysis of an ODE\n",
    "\n",
    "We've built up all the tools that we use to investigate ODEs. Now we are going to practice with an oscillator that exhibits really interesting dynamics: the [Van der Pol oscillator](https://en.wikipedia.org/wiki/Van_der_Pol_oscillator). This equation originates from nonlinear circuits in early radios, but has now also been used in neuroscience and geology. It is given by the differential equation:\n",
    "\n",
    "$$\n",
    "\\ddot{x} = -\\mu (x^2 - 1)\\dot{x} - x\n",
    "$$\n",
    "\n",
    "or, written as two first order equations:\n",
    "\n",
    "$$\n",
    "\\dot{x} = v \\hspace{1in} \\dot{v} = -\\mu (x^2 - 1)v - x\n",
    "$$\n",
    "\n",
    "With $\\mu > 0$. Note that this equation is simply the harmonic oscillator when $\\mu = 0$. The strange $-\\mu (x^2 - 1)\\dot{x}$ represents damping, but this damping behaves strangely, because when $|x|<1$ it is negative damping, that is it boosts oscillations smaller than $1$, while still slowing down oscillations larger than $1$. \n",
    "\n",
    "Now we play the usual game of trying to figure out how this system behaves:\n",
    "\n",
    "**&#9989; Do this** \n",
    "\n",
    "1. Identify the fixed point of this system. Follow the linearization procedure to characterize it. \n",
    "2. Edit the code below to produce a phase plot for the Van der Pol oscillator. This code also numerically integrates a trajectory and plots it. Add a second trajectory and plot that as well.\n",
    "3. What happens to phase space when you change the value of $\\mu$? What if you make it negative?\n",
    "4. What behavior do you notice here that's different than you've seen before? What is attracting the trajectories?"
   ]
  },
  {
   "cell_type": "code",
   "execution_count": 1,
   "metadata": {},
   "outputs": [
    {
     "data": {
      "image/png": "[encoded data removed]",
      "text/plain": [
       "<Figure size 1000x1000 with 1 Axes>"
      ]
     },
     "metadata": {},
     "output_type": "display_data"
    }
   ],
   "source": [
    "import numpy as np\n",
    "import matplotlib.pyplot as plt\n",
    "from scipy.integrate import solve_ivp\n",
    "\n",
    "def VP_eqn(x, v, mu = 1.):\n",
    "    xdot, vdot = [0,0] ## CHANGE\n",
    "    return xdot, vdot\n",
    "\n",
    "def VP_phase(X, VX, mu):\n",
    "    xdot, vdot = np.zeros(X.shape), np.zeros(VX.shape)\n",
    "    Xlim, Ylim = X.shape\n",
    "    for i in range(Xlim):\n",
    "        for j in range(Ylim):\n",
    "            xloc = X[i, j]\n",
    "            yloc = VX[i, j]\n",
    "            xdot[i,j], vdot[i,j] = VP_eqn(xloc, yloc,mu)\n",
    "    return xdot, vdot\n",
    "\n",
    "def VP_eqn_for_solve_ivp(t,curr_vals, mu=1): # need to rephrase this to work with what solve_ivp expects\n",
    "    x, v = curr_vals \n",
    "    xdot, vdot = VP_eqn(x,v,mu)\n",
    "    return xdot,vdot\n",
    "\n",
    "# Numerical Integration\n",
    "tmax = 20\n",
    "dt = 0.05\n",
    "tspan = (0,tmax)\n",
    "t = np.arange(0,tmax,dt)\n",
    "mu = 1.\n",
    "initial_condition = [1, 1] \n",
    "solved = solve_ivp(VP_eqn_for_solve_ivp,tspan,initial_condition,t_eval = t, args = (mu,),method=\"RK45\")\n",
    "\n",
    "\n",
    "# Plotting stuff\n",
    "N = 40\n",
    "x = np.linspace(-3., 3., N)\n",
    "v = np.linspace(-3., 3., N)\n",
    "X, V = np.meshgrid(x, v)\n",
    "xdot, vdot = VP_phase(X, V,mu)\n",
    "ax = plt.figure(figsize=(10,10))\n",
    "Q = plt.streamplot(X, V, xdot, vdot, color='k',broken_streamlines = False)\n",
    "plt.plot(solved.y[0],solved.y[1],lw = 3,c = 'red') # plot trajectory from solve_ivp\n",
    "plt.grid()\n",
    "plt.xlabel('$x$')\n",
    "plt.ylabel('$v$')\n",
    "plt.show()"
   ]
  },
  {
   "cell_type": "markdown",
   "metadata": {},
   "source": [
    "**&#9989; Do this** \n",
    "\n",
    "Based on the phase space diagram, what do you expect actual trajectories to look like in $x$ vs $t$ space? Use the numerically integrated trajectories to plot that."
   ]
  },
  {
   "cell_type": "code",
   "execution_count": null,
   "metadata": {},
   "outputs": [],
   "source": []
  },
  {
   "cell_type": "markdown",
   "metadata": {},
   "source": [
    "## Limit Cycles\n",
    "\n",
    "The new behavior we've seen from this equation is what's called a **limit cycle**, where the system is attracted/reppeled from a closed curve instead of a fixed point(s). There's a lot of really great math here that's a bit beyond what we can cover in class, but it would be a great thing to look into for a project!\n",
    "\n",
    "**&#9989; Do this** \n",
    "\n",
    "Spend the rest of class investigating the Van der Pol oscillator. Here are a few investigations you could do:\n",
    "\n",
    " - When $\\mu$ changes from negative to positive, this system undergoes what is known as a **Hopf Bifurcation** Look up what bifurcations are to understand what this means and show that it is true using numerical integration. \n",
    " - Add an $A\\sin(t)$ driving force term to the differential equation and numerically integrate. What do these trajectories look like in $x$ vs $t$ and in phase space?\n",
    " - Examine the energetics of this system. Is energy conserved or does it have some interesting behavior? Why?"
   ]
  },
  {
   "cell_type": "markdown",
   "metadata": {},
   "source": []
  }
 ],
 "metadata": {
  "kernelspec": {
   "display_name": "base",
   "language": "python",
   "name": "python3"
  },
  "language_info": {
   "codemirror_mode": {
    "name": "ipython",
    "version": 3
   },
   "file_extension": ".py",
   "mimetype": "text/x-python",
   "name": "python",
   "nbconvert_exporter": "python",
   "pygments_lexer": "ipython3",
   "version": "3.9.12"
  }
 },
 "nbformat": 4,
 "nbformat_minor": 2
}