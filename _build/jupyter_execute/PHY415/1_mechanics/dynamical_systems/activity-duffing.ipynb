{
 "cells": [
  {
   "cell_type": "markdown",
   "metadata": {},
   "source": []
  },
  {
   "cell_type": "markdown",
   "metadata": {},
   "source": [
    "# 19 Sep 23 - The Duffing Oscillator\n",
    "\n",
    "We have developed a set of tools to investigate differential equations. You will now apply those skills to the [Duffing Oscillator](https://en.wikipedia.org/wiki/Duffing_equation). The Duffing Oscillator is a second order differential equation that is used to model a forced nonlinear spring. The equation is given by:\n",
    "\n",
    "$$\\frac{d^2x}{dt^2} + \\delta \\frac{dx}{dt} + \\alpha x + \\beta x^3 = \\gamma \\cos(\\omega t)$$\n",
    "\n",
    "And written in the form $\\ddot{x} = f(x, \\dot{x}, t)$, it is:\n",
    "\n",
    "$$\\ddot{x} = - \\delta \\dot{x} - \\alpha x - \\beta x^3 + \\gamma \\cos(\\omega t)$$\n",
    "\n",
    "where $x$ is the position of the oscillator, $\\delta$ is a damping term, $\\alpha$ is the stiffness of the spring, $\\beta$ is the strength of the non-linear term, $\\gamma$ is the amplitude of the driving force, and $\\omega$ is the frequency of the driving force.\n",
    "\n",
    "![Duffing Oscillator](https://upload.wikimedia.org/wikipedia/commons/f/fc/Duffing_oscillator_strange_attractor_with_color.gif)\n",
    "\n",
    "*From [Wikipedia](https://commons.wikimedia.org/wiki/File:Duffing_oscillator_strange_attractor_with_color.gif)*\n",
    "\n",
    "## Activity\n",
    "\n",
    "This is a complicated oscillator with damping, forcing, and non-linearity. We will investigate the behavior of the oscillator for different values of the parameters, and you will need to bring all the tools we have used so far to bear on this problem. We will perform this work systematically, as way of helping you recognize the steps you can take to investigate any differential equation. *You are welcome to use any of the code that we developed or presented in class.*\n",
    "\n",
    "### Organizing your analysis\n",
    "\n",
    "The Duffing Oscillator has a lot of different elements and can become complicated very quickly. To help start our analysis let's consider three models with increasing complexity:\n",
    "\n",
    "1. **Model 1** (no damping and no forcing) $\\ddot{x} = - \\alpha x - \\beta x^3$\n",
    "2. **Model 2** (no forcing) $\\ddot{x} = - \\delta \\dot{x} - \\alpha x - \\beta x^3$\n",
    "3. **Model 3** (full model) $\\ddot{x} = - \\delta \\dot{x} - \\alpha x - \\beta x^3 + \\gamma \\cos(\\omega t)$\n",
    "\n",
    "**&#9989; Do this** \n",
    "\n",
    "### Tasks to complete\n",
    "\n",
    "For each of these models, you should produce the following:\n",
    "\n",
    "1. The fixed points (if they can be found and their linear stability)\n",
    "2. A phase portrait of the system\n",
    "3. A graph of x(t) for a given set of initial conditions\n",
    "4. A graph of a trajectory in the phase portrait\n",
    "5. An approximate solution to the differential equation for a limiting case\n",
    "\n",
    "### Exploring your models\n",
    "\n",
    "As you are developing your models, you should consider the following questions:\n",
    "\n",
    "1. What kinds of motion seems possible for each model?\n",
    "2. What are the limiting cases for each model? What solutions do they represent? Think about the physical meaning of the parameters.\n",
    "3. What relationships exist between the parameters and the motion of the system? That is, what happens when you change the parameters?"
   ]
  },
  {
   "cell_type": "code",
   "execution_count": 1,
   "metadata": {},
   "outputs": [],
   "source": [
    "## Imports to get started\n",
    "\n",
    "import matplotlib.pyplot as plt\n",
    "import numpy as np\n",
    "from scipy.integrate import solve_ivp"
   ]
  },
  {
   "cell_type": "code",
   "execution_count": 2,
   "metadata": {},
   "outputs": [],
   "source": [
    "## YOUR CODE HERE"
   ]
  },
  {
   "cell_type": "markdown",
   "metadata": {},
   "source": [
    "## Routes to Chaos\n",
    "\n",
    "One important route to chaotic behavior is through [period doubling](https://en.wikipedia.org/wiki/Period-doubling_bifurcation). It is not the only way for a system to become chaotic, but it is a characteristic way that a system will tend towards chaos. \n",
    "\n",
    "**&#9989; Do this** \n",
    "\n",
    "If your code is fully working, you can use known values of the parameters to investigate this behavior. For this part of the activity, you should use the full model and the following parameters:\n",
    "\n",
    "| Parameter | Value |\n",
    "|-----------|-------|\n",
    "| $\\alpha$  |  -1   |\n",
    "| $\\beta$   |  +1   |\n",
    "| $\\delta$  |  +0.3 |\n",
    "| $\\omega$  |  +1.2  |\n",
    "| $\\gamma$  |  +0.20 to +0.65 |\n",
    "\n",
    "Here $\\gamma$ is the only parameter that we will change. Produce phase plots of $x(t)$ and $x(\\dot{x})$ for several choices of $\\gamma$ with $x(0) = 1$ and $\\dot{x}(0) = 0$.\n"
   ]
  },
  {
   "cell_type": "markdown",
   "metadata": {},
   "source": []
  }
 ],
 "metadata": {
  "kernelspec": {
   "display_name": "base",
   "language": "python",
   "name": "python3"
  },
  "language_info": {
   "codemirror_mode": {
    "name": "ipython",
    "version": 3
   },
   "file_extension": ".py",
   "mimetype": "text/x-python",
   "name": "python",
   "nbconvert_exporter": "python",
   "pygments_lexer": "ipython3",
   "version": "3.9.12"
  }
 },
 "nbformat": 4,
 "nbformat_minor": 2
}