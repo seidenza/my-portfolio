{
 "cells": [
  {
   "cell_type": "markdown",
   "metadata": {},
   "source": [
    "# 19 Sep 23 - Notes: Heading towards Chaos\n",
    "\n",
    "One of the principal motivations for our work thus far has been to get to analyze systems that show suprising and complex behavior. In mechanics, you might have heard of those kinds of behviors as chaotic or exhibiting chaos. It turns out the chaos is a specific kind of behavior that we can find. To motivate us, let's remind ourselves of how cool nature can be.\n",
    "\n",
    "[![](https://markdown-videos-api.jorgenkh.no/youtube/fDek6cYijxI?width=720&height=405)](https://inv.tux.pizza/watch?v=fDek6cYijxI)\n",
    "\n",
    "- Non-Commercial Link: [https://inv.tux.pizza/watch?v=fDek6cYijxI](https://inv.tux.pizza/watch?v=fDek6cYijxI)\n",
    "- Commercial Link: [https://youtube.com/watch?v=fDek6cYijxI](https://youtube.com/watch?v=fDek6cYijxI)\n"
   ]
  },
  {
   "cell_type": "markdown",
   "metadata": {},
   "source": [
    "## Reminders of the Large Angle Pendulum\n",
    "\n",
    "Last time we investigated the phase portrait of the large angle pendulum, we we could arrive at by re-writing the differential equation \n",
    "\n",
    "$$\n",
    "\\ddot{\\theta} = -\\dfrac{g}{L}\\sin(\\theta)\n",
    "$$\n",
    "\n",
    "as 2 first-order differential equations:\n",
    "\n",
    "$$\n",
    "\\dot{\\theta} = \\omega \\hspace{0.5in}\\text{and}\\hspace{0.5in} \\dot{\\omega} = -\\frac{g}{L}\\sin(\\theta)\n",
    "$$\n",
    "\n",
    "By setting both of these equations equal to zero simultaneously, we also argued that this system has ([countably](https://faculty.math.illinois.edu/~kapovich/417-16/card.pdf)) infinite fixed points at $(n\\pi, 0)$ for  $n\\in \\mathbb{Z}$ in $(\\theta,\\omega)$ phase space. \n",
    "\n",
    "### Linearization and the Jacobian\n",
    "\n",
    "Now we turn to the challenge of characterizing these fixed points with the linearization of the system (see the end of tuesday's activity for some more notes on this). Recall that we can do this by finding the eigenvalues of the Jacobian Matrix of the system at its fixed point. For the system $\\dot{x} = f(x,y)$, $\\dot{y} = g(x,y)$ the jacobian matrix looks like this:\n",
    "\n",
    "$$\n",
    "A = \\begin{bmatrix} \\frac{\\partial f}{\\partial x} & \\frac{\\partial f}{\\partial y} \\\\ \\frac{\\partial g}{\\partial x} & \\frac{\\partial g}{\\partial y}\\end{bmatrix}_{(x^*,y^*)}\n",
    "$$\n",
    "\n",
    "**&#9989; Try this** \n",
    "\n",
    "\n",
    "Calculate the general Jacobian matrix $A$ for this system, then calculate what it is at the fixed point $(0,0)$.\n",
    "\n",
    "We have the Jacobian at $(0,0)$ now but we still need to find its eigenvalues. Let's remind ourselves about eigenvalues and eigenvectors."
   ]
  },
  {
   "cell_type": "markdown",
   "metadata": {},
   "source": [
    "## Eigenvalues\n",
    "\n",
    "Eigenvalues and the closely related Eigenvectors are indispensible in physics, math, and computational science. These ideas for the basis (pun somewhat intened) for countless problems, from the [energy eigenvalue equation](https://phys.libretexts.org/Bookshelves/Nuclear_and_Particle_Physics/Introduction_to_Applied_Nuclear_Physics_(Cappellaro)/02%3A_Introduction_to_Quantum_Mechanics/2.04%3A_Energy_Eigenvalue_Problem) that is the foundation of quantum mechanics, to the stability of complex nonlinear systems, to Normal Modes of oscillators. *Eigenproblems* show up all over in physics. \n",
    "\n",
    "A brief tangent: Once some scientists were using an eigenvalue driven algorithm called principal component analysis to study the genes of people that live in Europe. They found that these eigenvalues/vectors reproduced a map of Europe with surprising accuracy ([link](https://www.ncbi.nlm.nih.gov/pmc/articles/PMC2735096/)). So these tools are extremely, and often unreasonably powerful.\n",
    "\n",
    "Eigenvalues are the $\\lambda$ in the equation:\n",
    "\n",
    "$$\n",
    "A\\mathbf{v} = \\lambda \\mathbf{v}\n",
    "$$\n",
    "\n",
    "Where $A$ is a linear operator of the vector space that $\\mathbf{v}$ lives in. In finite-dimensional vector spaces, rhese linear operators are always matrices. There is a bit of physical intuition behind this equation: An eigenvector of $A$ is a vector that only gets stretched or squished by $\\lambda$ when $A$ acts on $\\mathbf{v}$. \n",
    "\n",
    "### Video from 3Blue1Brown\n",
    "\n",
    "Grant Sanderson makes a lot of great videos on mathematics and statistics. This one about eigenvalues and eigenvectors is particularly good.\n",
    "\n",
    "[![](https://markdown-videos-api.jorgenkh.no/youtube/PFDu9oVAE-g?width=720&height=405)](https://inv.tux.pizza/watch?v=PFDu9oVAE-g)\n",
    "\n",
    "- Non-Commercial Link: [https://inv.tux.pizza/watch?v=PFDu9oVAE-g](https://inv.tux.pizza/watch?v=PFDu9oVAE-g)\n",
    "- Commercial Link: [https://youtube.com/watch?v=PFDu9oVAE-g](https://youtube.com/watch?v=PFDu9oVAE-g)\n",
    "\n",
    "\n",
    "### Finding Eigenvalues\n",
    "\n",
    "To actually find the eigenvalues of a matrix, you solve the **characteristic polynomial** of the matrix, which you obtain by solving the equation:\n",
    "\n",
    "$$\n",
    "|A - \\lambda I | = 0 \n",
    "$$\n",
    "\n",
    "Where the vertical bars means determinant.\n",
    "\n",
    "To find Eigenvectors, simply plug in the values you found for $\\lambda$ into the original eigenvalue equation $A\\mathbf{v} = \\lambda \\mathbf{v}$, using $\\mathbf{v} = \\begin{bmatrix}x \\\\ y\\end{bmatrix}$. You'll find some simple relationship between $x$ and $y$. Any scalar multiple of an eigenvector is also an eigenvector so we usually just choose the simplest one. Say if you found that $x = -y$. Then for a nice clean looking eigenvector you could choose $\\begin{bmatrix} -1 \\\\ 1\\end{bmatrix}$. \n",
    "\n",
    "**&#9989; Try this** \n",
    "\n",
    "Analytically, find the eigenvalues of the Jacobian matrix you calculated earlier. Use the below bullets to identify these eigenvalues with the type of the fixed point.\n",
    "\n",
    "- $\\mathrm{Re}(\\lambda) > 0 $ for both eigenvalues: Repeller/Source (unstable)\n",
    "- $\\mathrm{Re}(\\lambda) < 0 $ for both eigenvalues: Attractor/Sink  (stable)\n",
    "- One eigenvalue positive, one negative: Saddle\n",
    "- Both eigenvalues pure imaginary: Center\n",
    "\n",
    "Note: You can actually learn quite a bit more from this analysis, see Strogatz chapter 6. In fact, these eigenvalues can tell us about the nature of the local trajectories. \n"
   ]
  },
  {
   "cell_type": "markdown",
   "metadata": {},
   "source": [
    "## Additional Resources\n",
    "\n",
    "### Stability and Eigenvalues of a linearized system\n",
    "\n",
    "Steve Brunton at UW does dynamical systems research and has a great video that demonstrates how we make meaning of those eigenvalues.\n",
    "\n",
    "[![](https://markdown-videos-api.jorgenkh.no/youtube/XXjoh8L1HkE?width=720&height=405)](https://inv.tux.pizza/watch?v=XXjoh8L1HkE)\n",
    "\n",
    "- Non-Commercial Link: [https://inv.tux.pizza/watch?v=XXjoh8L1HkE](https://inv.tux.pizza/watch?v=XXjoh8L1HkE)\n",
    "- Commercial Link: [https://youtube.com/watch?v=XXjoh8L1HkE](https://youtube.com/watch?v=XXjoh8L1HkE)\n",
    "\n",
    "### Eigenvalues, Computationally \n",
    "\n",
    "We can use `np.linalg.eig()` to find the eigenvalues (and normalized eigenvectors) of a matrix which we represent as numpy array. Below is some doe that does this (note the imaginary unit is represented as $j$ in python):"
   ]
  },
  {
   "cell_type": "code",
   "execution_count": 1,
   "metadata": {},
   "outputs": [
    {
     "name": "stdout",
     "output_type": "stream",
     "text": [
      "eigenvalues: [0.+1.j 0.-1.j]\n"
     ]
    }
   ],
   "source": [
    "import numpy as np\n",
    "A = np.array([[0,1],[-1,0]])\n",
    "eigvals = np.linalg.eig(A)[0]\n",
    "eigvecs = np.linalg.eig(A)[1]\n",
    "\n",
    "print(\"eigenvalues:\", eigvals)"
   ]
  },
  {
   "cell_type": "markdown",
   "metadata": {},
   "source": [
    "This can be super handy when you just need to do some quick characterization from the eigenvalues of a matrix. However, be warned - since you only get numerical answers you can lose quite a bit of the nuance that comes from if you had calculated these. We'll see how that can be an issue later in the semester when we tackle normal modes. \n",
    "\n",
    "### Handwritten Notes\n",
    "\n",
    "- [Linearization of ODEs](../../assets/notes/Notes-Linearization_ODEs.pdf)\n",
    "- [Linearization example](../../assets/notes/Notes-Linearization_Example.pdf)"
   ]
  },
  {
   "cell_type": "markdown",
   "metadata": {},
   "source": []
  }
 ],
 "metadata": {
  "kernelspec": {
   "display_name": "base",
   "language": "python",
   "name": "python3"
  },
  "language_info": {
   "codemirror_mode": {
    "name": "ipython",
    "version": 3
   },
   "file_extension": ".py",
   "mimetype": "text/x-python",
   "name": "python",
   "nbconvert_exporter": "python",
   "pygments_lexer": "ipython3",
   "version": "3.9.12"
  }
 },
 "nbformat": 4,
 "nbformat_minor": 2
}