{
 "cells": [
  {
   "cell_type": "markdown",
   "metadata": {},
   "source": [
    "# 29 Aug 23 - Activity: What is a Model?\n",
    "\n",
    "## Notes\n",
    "- *Class Meeting:* 29 Sept 23\n",
    "- *Prior Reading:* None necessary\n",
    "\n",
    "##  What is Mathematical Modeling?\n",
    "\n",
    "Nature reveals itself to us through interactions. We can tell from observations that it is nature's interactions that lead to its evolution. How nature is changing and predicting how it will change in the future is the work of science. In this work, we observe nature and its interactions to make models of those observations. We aim to predict and explain our observations of nature through this building of models.\n",
    "\n",
    "In physics, our goals are typically to explain and predict observations of physical phenomenon. Here, we focus ourselves to those canonical things that physicists concern themselves with: motion, fields, waves, atoms, nuclei, and so on. \n",
    "\n",
    "## Models and modeling\n",
    "\n",
    "This course focuses on common physical models and how we use mathematics and computing tools to investigate these models. But, we need to agree on an mutual understanding of a model. In this activity, you will be working in a group to define aspects of a good model for the physical sciences. \n",
    "\n",
    "There are plenty of ideas on the internet, I can even [provide you a link](https://bfy.tw/TUdA) with plenty of information. But, the point of this activity is for us to define a good model now (given all your prior experiences with models and modeling), and to reflect on that definition as you develop expertise with models and modeling (through your learning in this class)."
   ]
  },
  {
   "cell_type": "markdown",
   "metadata": {},
   "source": [
    "## What is a model?\n",
    "We are going to start with this short video made by Geoscientist John Aiken when he was a graduate student at Georgia Tech.\n",
    "\n",
    "[![](https://markdown-videos-api.jorgenkh.no/youtube/dkTncoPqo5Y?width=720&height=405)](https://inv.tux.pizza/watch?v=dkTncoPqo5Y)\n",
    "- Non-Commercial Link: [https://inv.tux.pizza/watch?v=dkTncoPqo5Y](https://inv.tux.pizza/watch?v=dkTncoPqo5Y)\n",
    "- Commercial Link: [https://youtube.com/watch?v=dkTncoPqo5Y](https://youtube.com/watch?v=dkTncoPqo5Y)"
   ]
  },
  {
   "cell_type": "markdown",
   "metadata": {},
   "source": [
    "### History and Philosophy of Science\n",
    "If you would like to dive deeper into models and modeling, there's excellent work in history and philosophy of science. The field studies how science develops knowledge, practice, culture, and so on. It studies important events and provides critical information on important and, often, overlooked folks who do science. For example, historian and gender studies professor [Sharon Traweek](https://en.wikipedia.org/wiki/Sharon_Traweek) studies the high energy physics field. Her book, [Beamtimes and Lifetimes: The World of High Energy Physicists](https://en.wikipedia.org/wiki/Beamtimes_and_Lifetimes) {cite}`traweek2009beamtimes` is excellent.\n",
    "\n",
    "```{admonition} Dame Nancy Cartwright (philosopher of science)\n",
    "One of the more interesting scholars in [Dame Nancy Cartwright](https://en.wikipedia.org/wiki/Nancy_Cartwright_(philosopher)) who wrote a lot about the 'practice of science.' Her philosophical work informed many of the innovations in physics and broader science education -- including many science courses at MSU. \n",
    "\n",
    "Her writing is very interesting, but the style of writing can be a challenge to read. This is the nature of academic writing in different disciplines. Her book called \"How The Laws of Physics Lie\" {cite}`cartwright1983laws` is worth a read. Here's a link to the [first chapter](http://www.generativescience.org/papers/nature/Cartwright-_1983.pdf).\n",
    "```"
   ]
  },
  {
   "cell_type": "markdown",
   "metadata": {},
   "source": [
    "## What has been your experience with models?\n",
    "\n",
    "Take 2-3 minutes to think about your prior physics class.\n",
    "- What models have you used? What makes that a model?\n",
    "- What modeling have you done? What makes that modeling?"
   ]
  },
  {
   "cell_type": "code",
   "execution_count": 1,
   "metadata": {},
   "outputs": [],
   "source": [
    "## Take notes for yourself here\n",
    "\n",
    "# Idea 1\n",
    "# Idea 2"
   ]
  },
  {
   "cell_type": "markdown",
   "metadata": {},
   "source": [
    "After we have discussed the above questions and generated a long list of experiences, you can move onto the next set of questions below."
   ]
  },
  {
   "cell_type": "markdown",
   "metadata": {},
   "source": [
    "```{toggle}\n",
    "Take 2-3 minutes to think about your prior work with models and modeling?\n",
    "- What made a model good or not so good?\n",
    "- What kinds of things could you do to make a better model? \n",
    "```"
   ]
  },
  {
   "cell_type": "code",
   "execution_count": 2,
   "metadata": {},
   "outputs": [],
   "source": [
    "## Take notes for yourself here\n",
    "\n",
    "# Idea 1\n",
    "# Idea 2"
   ]
  },
  {
   "cell_type": "markdown",
   "metadata": {},
   "source": [
    "After we have discussed the above questions and generated a consensus list of good model features, you can move onto the next set of questions below."
   ]
  },
  {
   "cell_type": "markdown",
   "metadata": {},
   "source": [
    "```{toggle}\n",
    "Take 2-3 minutes and write down all the mathematical and/or computing models you have experienced, heard about, seen, or are otherwise familiar.\n",
    "```\n"
   ]
  },
  {
   "cell_type": "code",
   "execution_count": 3,
   "metadata": {},
   "outputs": [],
   "source": [
    "## Take notes for yourself here (use comments)\n",
    "\n",
    "# Model 1\n",
    "# Model 2"
   ]
  }
 ],
 "metadata": {
  "kernelspec": {
   "display_name": "base",
   "language": "python",
   "name": "python3"
  },
  "language_info": {
   "codemirror_mode": {
    "name": "ipython",
    "version": 3
   },
   "file_extension": ".py",
   "mimetype": "text/x-python",
   "name": "python",
   "nbconvert_exporter": "python",
   "pygments_lexer": "ipython3",
   "version": "3.9.12"
  }
 },
 "nbformat": 4,
 "nbformat_minor": 2
}