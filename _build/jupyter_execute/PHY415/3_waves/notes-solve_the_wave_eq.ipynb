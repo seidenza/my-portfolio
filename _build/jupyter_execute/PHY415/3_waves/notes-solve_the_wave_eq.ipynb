{
 "cells": [
  {
   "cell_type": "markdown",
   "metadata": {},
   "source": [
    "# 25 Oct 23 - Notes: Solutions to The Wave Equation\n",
    "\n",
    "The wave equation is a partial differential equation that describes how waves propagate (they are fundamentally a disturbance of a medium) in space and time. The general wave equations is: \n",
    "\n",
    "$$\\nabla^2 u(\\mathbf{r},t) = \\frac{1}{v^2} \\frac{\\partial^2 u(\\mathbf{r},t)}{\\partial t^2}$$\n",
    "\n",
    "where $u(\\mathbf{r},t)$ is the displacement of the wave at position $\\mathbf{r}$ and time $t$ and $v$ is the speed of the wave in the medium. Now we typically don't solve this problem in general, like most PDEs, we need a context in which to work on the problem. Moreover, that wave equation is 4 dimensional and we really are going to have a hard time with intuition if we focus on that. Let's instead consider the 1D wave equations:\n",
    "\n",
    "$$\\frac{\\partial^2 u(x,t)}{\\partial x^2} = \\frac{1}{v^2} \\frac{\\partial^2 u(x,t)}{\\partial t^2}$$\n",
    "\n",
    "where $u(x,t)$ is the displacement of the wave at position $x$ and time $t$ and $v$ is the speed of the wave in the medium. This is a much more tractable problem.\n",
    "\n",
    "It is comment to rewrite this problem using the [D'Alembert operator](https://en.wikipedia.org/wiki/D%27Alembert_operator) $\\square$:\n",
    "\n",
    "$$\\square u(x,t) = 0$$\n",
    "\n",
    "where $\\square$ is defined as:\n",
    "\n",
    "$$\\square = \\frac{\\partial^2}{\\partial x^2} - \\frac{1}{v^2} \\frac{\\partial^2}{\\partial t^2}$$\n",
    "\n",
    "## Traveling Waves\n",
    "\n",
    "Through this operator and proposed change of variables: $\\eta = x - vt$ (movement to the right) and $\\xi = x + vt$ (movement to the left) [we can show that the general solution](https://inv.tux.pizza/watch?v=Sc21aPg2RyE) to the 1D wave equation are just functions of those variables:\n",
    "\n",
    "$$u(x,t) = f(\\eta) + g(\\xi) = f(x-vt) + g(x+vt)$$\n",
    "\n",
    "where $f$ and $g$ are arbitrary functions. This is a very powerful result; the solution to the wave equation is a function of a given shape ($f(x)$ or $g(x)$) that travels to the right and/or left; if both, they superpose in space and time. We will use a special case of these solutions [sinusoidal traveling waves](https://en.wikipedia.org/wiki/Sinusoidal_plane_wave) as they demonstrate the key features of waves; but also behave nicely (in the mathematical sense) in the context of the wave equation."
   ]
  },
  {
   "cell_type": "markdown",
   "metadata": {},
   "source": [
    "## Sinusoidal Traveling Waves\n",
    "\n",
    "A sinusoidal traveling wave is a infinite wave that has a sinusoidal shape ($\\sin$ or $\\cos$). It is a solution to the wave equation (notice it is not a separable solution):\n",
    "\n",
    "$$u(x,t) = A \\sin(kx - \\omega t + \\phi)$$\n",
    "\n",
    "where $A$ is the amplitude of the wave, $k$ is the wave number, $\\omega$ is the angular frequency, and $\\phi$ is the phase. This wave exists for all space and time, so it is a model of a real wave. We often use series of these waves to build up [shorter wave packets](https://en.wikipedia.org/wiki/Wave_packet). Like below is a sum of travelling waves with different wave numbers and angular frequencies to produce a packet. It can be analyzed simply because it's a sum of sinusoidal waves.\n",
    "\n",
    "![Wave packet](https://upload.wikimedia.org/wikipedia/commons/b/b0/Wave_packet_%28dispersion%29.gif)\n",
    "\n",
    "In the traveling wave solution, the wave number and angular frequency are related to the speed of the wave in the medium:\n",
    "\n",
    "$$v = \\frac{\\omega}{k}$$\n",
    "\n",
    "Notice that this is a right traveling wave. We can also write a left traveling wave:\n",
    "\n",
    "$$u(x,t) = A \\sin(kx + \\omega t + \\phi)$$\n",
    "\n",
    "In general the 1D wave is a superposition of these two waves:\n",
    "\n",
    "$$u(x,t) = A_1 \\sin(kx - \\omega t + \\phi_1) + A_2 \\sin(kx + \\omega t + \\phi_2)$$\n",
    "\n",
    "where the amplitudes and phases are set by the problem. Below we see how this general solution satisfies the wave equation.\n",
    "\n",
    "$$\\frac{\\partial^2 u(x,t)}{\\partial x^2} = -k^2 A_1 \\sin(kx - \\omega t + \\phi_1) - k^2 A_2 \\sin(kx + \\omega t + \\phi_2)$$\n",
    "\n",
    "$$\\frac{\\partial^2 u(x,t)}{\\partial t^2} = -\\omega^2 A_1 \\sin(kx - \\omega t + \\phi_1) - \\omega^2 A_2 \\sin(kx + \\omega t + \\phi_2)$$\n",
    "\n",
    "Pop into the wave equation:\n",
    "\n",
    "$$-k^2 A_1 \\sin(kx - \\omega t + \\phi_1) - k^2 A_2 \\sin(kx + \\omega t + \\phi_2) = \\frac{1}{v^2} \\left(-\\omega^2 A_1 \\sin(kx - \\omega t + \\phi_1) - \\omega^2 A_2 \\sin(kx + \\omega t + \\phi_2)\\right)$$\n",
    "\n",
    "Collect terms and then divide by the common factor:\n",
    "\n",
    "$$-k^2\\left(A_1 \\sin(kx - \\omega t + \\phi_1) + A_2 \\sin(kx + \\omega t + \\phi_2)\\right) = -\\frac{\\omega^2}{v^2} \\left(A_1 \\sin(kx - \\omega t + \\phi_1) + A_2 \\sin(kx + \\omega t + \\phi_2)\\right)$$\n",
    "\n",
    "For nonzero solutions:\n",
    "\n",
    "$$-k^2 = -\\frac{\\omega^2}{v^2} \\rightarrow v = \\pm \\frac{\\omega}{k}$$\n",
    "\n",
    "Left or right sinusoidal traveling waves solve the wave equation as long as the speed of the wave is related to the frequency and wave number as indicated.\n",
    "\n"
   ]
  },
  {
   "cell_type": "markdown",
   "metadata": {},
   "source": [
    "## Diffraction\n",
    "\n",
    "A critical result of superposition is the interference of waves. For example two waves in a pool below interfere to produce a wave that travels outward.\n",
    "\n",
    "![Interference](https://upload.wikimedia.org/wikipedia/commons/2/2c/Two_sources_interference.gif)\n",
    "\n",
    "It turns out these kinds of interference patterns are very useful. Because with models of waves, we can predict their pattern and shape. Moreover, they can serve as instruments to investigate systems. For example, [x-ray diffraction](https://en.wikipedia.org/wiki/X-ray_crystallography) is a common and widely used tool to determine the shape and structure of matter. A number of folks have [earned Nobel prizes for their work](https://en.wikipedia.org/wiki/X-ray_crystallography#Nobel_Prizes_involving_X-ray_crystallography) on X-ray diffraction and its applications. We will develop the mathematics of diffraction later, but Parth G has a nice video on the topic of Diffraction. \n",
    "\n",
    "[![Diffraction](https://markdown-videos-api.jorgenkh.no/youtube/TqTWSSBcV_4?width=720&height=405)](https://inv.tux.pizza/watch?v=TqTWSSBcV_4)\n",
    "\n",
    "- Non-Commercial Link: [https://inv.tux.pizza/watch?v=TqTWSSBcV_4](https://inv.tux.pizza/watch?v=TqTWSSBcV_4)\n",
    "- Commercial Link: [https://youtube.com/watch?v=TqTWSSBcV_4](https://youtube.com/watch?v=TqTWSSBcV_4)"
   ]
  },
  {
   "cell_type": "markdown",
   "metadata": {},
   "source": [
    "### Single Photo Diffraction\n",
    "\n",
    "One of the most intersting things we have found in recent years is single particle diffraction. In fact, this was observed [macroscopically in pilot wave hydrodynamics](https://journals.aps.org/prl/abstract/10.1103/PhysRevLett.97.154101) by a French research group. We have found that interference patterns can build up in single photo experiments. The video below shows a set up that demonstrates this.\n",
    "\n",
    "[![Single Particle Diffraction](https://markdown-videos-api.jorgenkh.no/youtube/GzbKb59my3U?width=720&height=405)](https://inv.tux.pizza/watch?v=GzbKb59my3U)\n",
    "\n",
    "- Non-Commercial Link: [https://inv.tux.pizza/watch?v=GzbKb59my3U](https://inv.tux.pizza/watch?v=GzbKb59my3U)\n",
    "- Commercial Link: [https://youtube.com/watch?v=GzbKb59my3U](https://youtube.com/watch?v=GzbKb59my3U)"
   ]
  },
  {
   "cell_type": "markdown",
   "metadata": {},
   "source": [
    "## Resources\n",
    "\n",
    "Much of what we are discussing about waves appears in the following sets of notes:\n",
    "\n",
    "* [Introduction to Waves](../assets/notes/Notes-Introduction_to_waves.pdf)\n",
    "* [Electromagnetic Waves in Vacuum](../assets/notes/Notes-Electromagnetic_waves.pdf)\n",
    "* [The Wavefunction](../assets/notes/Notes-Wavefunctions.pdf)\n",
    "* [The 1D Infinite Square Well](../assets/notes/Notes-Infinite_Square_Well.pdf)"
   ]
  },
  {
   "cell_type": "markdown",
   "metadata": {},
   "source": []
  }
 ],
 "metadata": {
  "kernelspec": {
   "display_name": "base",
   "language": "python",
   "name": "python3"
  },
  "language_info": {
   "codemirror_mode": {
    "name": "ipython",
    "version": 3
   },
   "file_extension": ".py",
   "mimetype": "text/x-python",
   "name": "python",
   "nbconvert_exporter": "python",
   "pygments_lexer": "ipython3",
   "version": "3.9.12"
  }
 },
 "nbformat": 4,
 "nbformat_minor": 2
}