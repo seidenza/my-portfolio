{
 "cells": [
  {
   "cell_type": "markdown",
   "metadata": {},
   "source": [
    "# 19 Oct 23 - Activity: Normal Modes of N Coupled Oscillators\n",
    "\n",
    "Now that we have discussed and built some facility with Lagrangian dynamics, let's see how using it makes our study of normal modes much simpler than Newtonian mechanics. We will couple this analysis to solving an eigenvalue problem by guessing the form of the solutions. This technique is very common in theoretical physics with different guesses for the solution forms giving rise to different eigenvalue problems (e.g., [Bessel functions for 2D surface problems](https://en.wikipedia.org/wiki/Bessel_function) or [Hermite polynomials for the Quantum Harmonic Oscillator](https://en.wikipedia.org/wiki/Hermite_polynomials).\n",
    "\n",
    "## Three Coupled Oscillators\n",
    "\n",
    "Consider the setup below consisting of three masses connected by springs to each other. We intend to find the normal modes of the system by denoting each mass's displacement ($x_1$, $x_2$, and $x_3$).\n",
    "\n",
    "![3 Coupled Oscillators](../assets/images/3_coupled_osc.png)\n"
   ]
  },
  {
   "cell_type": "markdown",
   "metadata": {},
   "source": [
    "## Finding the Normal Mode Frequencies\n",
    "\n",
    "**&#9989; Do this** \n",
    "\n",
    "This is not magic as we will see, it follows from our choices of solution. Here's the steps and what you might notice about them:\n",
    "\n",
    "1. Guess what the normal modes might look like? Write your guesses down; how should the masses move? (It's ok if you are not sure about all of them, try to determine one of them)\n",
    "2. Write down the energy for the whole system, $T$ and $U$ (We have done this before, but not for this many particles)\n",
    "3. Use the Euler-Lagrange Equation to find the equations of motion for $x_1$, $x_2$, and $x_3$. (We have done this lots, so make sure it feels solid)\n",
    "4. Reformulate the equations of motion as a matrix equation $\\ddot{\\mathbf{x}} = \\mathbf{A} \\mathbf{x}$. What is $\\mathbf{A}$? (We have done this, but only quickly, so take your time)\n",
    "5. Consider solutions of the form $Ce^{i{\\omega}t}$, plug that into $x_1$, $x_2$, and $x_3$ to show you get $\\mathbf{A}\\mathbf{x} = -\\omega^2 \\mathbf{x}$. (We have not done this, we just assumed it works! It's ok if this is annoying, we only have to show it once.)\n",
    "6. Find the normal mode frequencies by taking the determinant of $\\mathbf{A} - \\mathbf{I}\\lambda$. Note that this produces the following definition: $\\lambda = -\\omega^2$ (We have not done this together and we can if it's confusing.)\n",
    "\n",
    "## Finding the Normal Modes Amplitudes\n",
    "\n",
    "Ok, now we need to find the normal mode amplitudes. That is we assumed sinusoidal oscillations, but at what amplitudes? We will show how to do this with one frequency ($\\omega_1$), and then break up the work of the the other two. These frequencies are:\n",
    "\n",
    "$$\\omega^2_A = 2\\dfrac{k}{m}; \\qquad \\omega^2_B = \\left(2-\\sqrt{2}\\right)\\dfrac{k}{m}; \\qquad \\omega^2_C = \\left(2+\\sqrt{2}\\right)\\dfrac{k}{m}\\qquad$$\n",
    "\n",
    "**&#9989; Do this** \n",
    "\n",
    "After we do the first one, pick another frequencies and repeat. Answer the follow questions:\n",
    "\n",
    "1. What does this motion physically look like? What are the masses doing?\n",
    "2. How does the frequency of oscillation make sense? Why is it higher or lower than $\\omega_A$?"
   ]
  },
  {
   "cell_type": "markdown",
   "metadata": {},
   "source": [
    "## Finding the Eigenvalues and Eigenvectors using Numerical Approaches \n",
    "Now that we have developed solutions for the 3 coupled oscillators, let's try to reproduce that work numerically and plots the modes to make sense of what they are doing for us.\n",
    "\n",
    "We can then apply these tools to $N$ identically coupled 1D oscillators."
   ]
  },
  {
   "cell_type": "code",
   "execution_count": 1,
   "metadata": {},
   "outputs": [],
   "source": [
    "import numpy as np\n",
    "import matplotlib.pyplot as plt\n",
    "import numpy.linalg as la ## For the numerical eigenvalue methods\n",
    "from sympy import * ## For symbolic eigenvalue methods\n",
    "init_printing(use_unicode=True)  ## display nice math"
   ]
  },
  {
   "cell_type": "markdown",
   "metadata": {},
   "source": [
    "We reduced our normal mode problem to the following:\n",
    "\n",
    "$$\\mathbf{A}\\mathbf{x} = -\\omega^2\\mathbf{x}$$\n",
    "\n",
    "And earlier we found these eigenvalues and eigenvectors for the 3 Oscillator model:\n",
    "\n",
    "$$\\omega_A = 2\\dfrac{k}{m}; \\qquad \\omega_B = \\left(2-\\sqrt{2}\\right)\\dfrac{k}{m}; \\qquad \\omega_C = \\left(2+\\sqrt{2}\\right)\\dfrac{k}{m}\\qquad$$\n",
    "\n",
    "Python has two main libraries for helping us find these numerically. One is `numpy.linalg`, which is a powerful set of linear algebra tools that are used widely. The other is `sympy`, which is a symbolic calculator like Mathematica. Both will help you find eigenvalues and eigenvectors, but do so in entirely different ways. \n",
    "\n",
    "* `numpy.linalg` will use the common numerical tools that decompose matrices. For example, [LU decomposition](https://en.wikipedia.org/wiki/LU_decomposition) is one of the most common techniques to use for symmetric and Hermitian matrices, which are the most common in physics.\n",
    "* `sympy` is a symbolic calculator, that attempts to determine a closed form solution for the eigenvalues. These methods are often proprietary (e.g., Mathematica and Matlab), but the source code for [sympy is available to review](https://github.com/sympy/sympy).\n",
    "\n",
    "At issue is that each of these methods requires a slight different input. The first method will take a `numpy` matrix, but the second requires a `sympy` matrix, which can we easily constructed from our `numpy` matrix. \n",
    "\n",
    "Below, we form both matrices.\n"
   ]
  },
  {
   "cell_type": "code",
   "execution_count": 2,
   "metadata": {},
   "outputs": [
    {
     "name": "stdout",
     "output_type": "stream",
     "text": [
      "[[-2  1  0]\n",
      " [ 1 -2  1]\n",
      " [ 0  1 -2]]\n",
      "Matrix([[-2, 1, 0], [1, -2, 1], [0, 1, -2]])\n"
     ]
    }
   ],
   "source": [
    "M = np.matrix([[-2, 1, 0], [1, -2, 1], [0, 1, -2]]) ## numpy matrix\n",
    "M2 = Matrix(M) ## Take numpy matrix and make it a sympy one\n",
    "print(M)\n",
    "print(M2)"
   ]
  },
  {
   "cell_type": "markdown",
   "metadata": {},
   "source": [
    "Finding eigenvalues with numpy.lingalg is quite simple. We just call `eigenvals, eigenvecs = la.eig(M)`. Note they are numericaly values. Also, these eigenvectors are normalized. Do you notice anything strange?\n"
   ]
  },
  {
   "cell_type": "code",
   "execution_count": 3,
   "metadata": {},
   "outputs": [
    {
     "name": "stdout",
     "output_type": "stream",
     "text": [
      "[-3.41421356 -2.         -0.58578644]\n",
      "[[ 5.00000000e-01  7.07106781e-01  5.00000000e-01]\n",
      " [-7.07106781e-01 -4.05925293e-16  7.07106781e-01]\n",
      " [ 5.00000000e-01 -7.07106781e-01  5.00000000e-01]]\n"
     ]
    }
   ],
   "source": [
    "eigenvals, eigenvecs = la.eig(M)\n",
    "print(eigenvals)\n",
    "print(eigenvecs)\n"
   ]
  },
  {
   "cell_type": "markdown",
   "metadata": {},
   "source": [
    "Finding the eigenvectors and eigenvalues with `sympy` is just as simple. Notice that these are symbolic and the eigenvectors are NOT normalized."
   ]
  },
  {
   "cell_type": "code",
   "execution_count": 4,
   "metadata": {},
   "outputs": [
    {
     "data": {
      "image/png": "[encoded data removed]",
      "text/latex": [
       "$\\displaystyle \\left[ \\left( -2, \\  1, \\  \\left[ \\left[\\begin{matrix}-1\\\\0\\\\1\\end{matrix}\\right]\\right]\\right), \\  \\left( -2 - \\sqrt{2}, \\  1, \\  \\left[ \\left[\\begin{matrix}1\\\\- \\sqrt{2}\\\\1\\end{matrix}\\right]\\right]\\right), \\  \\left( -2 + \\sqrt{2}, \\  1, \\  \\left[ \\left[\\begin{matrix}1\\\\\\sqrt{2}\\\\1\\end{matrix}\\right]\\right]\\right)\\right]$"
      ],
      "text/plain": [
       "⎡⎛       ⎡⎡-1⎤⎤⎞  ⎛            ⎡⎡ 1 ⎤⎤⎞  ⎛            ⎡⎡1 ⎤⎤⎞⎤\n",
       "⎢⎜       ⎢⎢  ⎥⎥⎟  ⎜            ⎢⎢   ⎥⎥⎟  ⎜            ⎢⎢  ⎥⎥⎟⎥\n",
       "⎢⎜-2, 1, ⎢⎢0 ⎥⎥⎟, ⎜-2 - √2, 1, ⎢⎢-√2⎥⎥⎟, ⎜-2 + √2, 1, ⎢⎢√2⎥⎥⎟⎥\n",
       "⎢⎜       ⎢⎢  ⎥⎥⎟  ⎜            ⎢⎢   ⎥⎥⎟  ⎜            ⎢⎢  ⎥⎥⎟⎥\n",
       "⎣⎝       ⎣⎣1 ⎦⎦⎠  ⎝            ⎣⎣ 1 ⎦⎦⎠  ⎝            ⎣⎣1 ⎦⎦⎠⎦"
      ]
     },
     "execution_count": 4,
     "metadata": {},
     "output_type": "execute_result"
    }
   ],
   "source": [
    "M2.eigenvects()"
   ]
  },
  {
   "cell_type": "markdown",
   "metadata": {},
   "source": [
    "## Plotting the modes\n",
    "\n",
    "Awesome. Now we have our modes, but what do they mean? Remember, in a given mode every object oscillates at the mode frequency, just with different amplitudes. That means everyone has the following form:\n",
    "\n",
    "$$A\\cos(\\omega t)$$\n",
    "\n",
    "just with different $A$'s. So plot the motion of each mass in each mode. Make sure you have the right frequencies with the right modes."
   ]
  },
  {
   "cell_type": "code",
   "execution_count": 5,
   "metadata": {},
   "outputs": [],
   "source": [
    "## Analysis and Plotting code here"
   ]
  },
  {
   "cell_type": "markdown",
   "metadata": {},
   "source": [
    "## Extending your work\n",
    "\n",
    "Given what we have done thus far, you can see that we could easily construct the matrix for a $N$ dimensional chain of 1D oscillators. So let's do that.\n",
    "\n",
    "Repeat this analysis for a set of $N$ oscillators. Your code should be able to:\n",
    "\n",
    "1. Take a value of $N$ and construct the right matrix representation\n",
    "2. Find the eigenvalues and eigenvectors for this matrix.\n",
    "3. (BONUS) plots the modes automatically\n",
    "4. (CHALLENGE) time the execution of the analysis\n",
    "\n",
    "Be careful not to pick to large of an $N$ value to work with because you could melt your CPU easily. Make sure your code can do something like $N=10$. If you get the timing working, plot time vs number of objects to see how the problem scales with more oscillators.\n"
   ]
  },
  {
   "cell_type": "code",
   "execution_count": 6,
   "metadata": {},
   "outputs": [],
   "source": [
    "## Your code here"
   ]
  },
  {
   "cell_type": "markdown",
   "metadata": {},
   "source": [
    "## Even further\n",
    "\n",
    "These models can be used with lattices (solid objects). Draw a sketch of 4 oscillators in a plane connected together in a square shape. Write down the energy equations for this system (assume the springs do not move laterally much). What do the EOMs look like?"
   ]
  },
  {
   "cell_type": "markdown",
   "metadata": {},
   "source": []
  }
 ],
 "metadata": {
  "kernelspec": {
   "display_name": "base",
   "language": "python",
   "name": "python3"
  },
  "language_info": {
   "codemirror_mode": {
    "name": "ipython",
    "version": 3
   },
   "file_extension": ".py",
   "mimetype": "text/x-python",
   "name": "python",
   "nbconvert_exporter": "python",
   "pygments_lexer": "ipython3",
   "version": "3.9.12"
  }
 },
 "nbformat": 4,
 "nbformat_minor": 2
}