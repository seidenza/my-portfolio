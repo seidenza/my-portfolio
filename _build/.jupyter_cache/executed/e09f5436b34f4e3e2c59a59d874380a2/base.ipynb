{
 "cells": [
  {
   "cell_type": "code",
   "execution_count": 1,
   "metadata": {},
   "outputs": [],
   "source": [
    "import numpy as np\n",
    "import matplotlib.pyplot as plt\n",
    "from scipy.signal import square\n",
    "\n",
    "# Compute the Fourier coefficient\n",
    "def compute_cn(v, n, T, f0):\n",
    "    \n",
    "    ## CODE HERE ##\n",
    "    \n",
    "    return cn\n",
    "\n",
    "# Fourier series expansion using complex form\n",
    "def complex_fourier_series_expansion(v, t, T, N):\n",
    "    f0 = 1 / T\n",
    "    series = np.zeros_like(t, dtype=complex)\n",
    "\n",
    "    ## CODE HERE ##\n",
    "        \n",
    "    return series.real\n",
    "\n",
    "# Define the square wave signal\n",
    "T = 2 * np.pi  # Period\n",
    "def v(t):\n",
    "    return square(t)\n"
   ]
  },
  {
   "cell_type": "code",
   "execution_count": 2,
   "metadata": {},
   "outputs": [],
   "source": [
    "### your code here"
   ]
  }
 ],
 "metadata": {
  "kernelspec": {
   "display_name": "base",
   "language": "python",
   "name": "python3"
  },
  "language_info": {
   "codemirror_mode": {
    "name": "ipython",
    "version": 3
   },
   "file_extension": ".py",
   "mimetype": "text/x-python",
   "name": "python",
   "nbconvert_exporter": "python",
   "pygments_lexer": "ipython3",
   "version": "3.9.12"
  }
 },
 "nbformat": 4,
 "nbformat_minor": 2
}