{
 "cells": [
  {
   "cell_type": "code",
   "execution_count": 1,
   "metadata": {},
   "outputs": [
    {
     "data": {
      "image/png": "[encoded data removed]",
      "text/plain": [
       "<Figure size 720x720 with 1 Axes>"
      ]
     },
     "metadata": {
      "needs_background": "light"
     },
     "output_type": "display_data"
    }
   ],
   "source": [
    "import numpy as np\n",
    "import matplotlib.pyplot as plt\n",
    "from scipy.integrate import solve_ivp\n",
    "\n",
    "def VP_eqn(x, v, mu = 1.):\n",
    "    xdot, vdot = [0,0] ## CHANGE\n",
    "    return xdot, vdot\n",
    "\n",
    "def VP_phase(X, VX, mu):\n",
    "    xdot, vdot = np.zeros(X.shape), np.zeros(VX.shape)\n",
    "    Xlim, Ylim = X.shape\n",
    "    for i in range(Xlim):\n",
    "        for j in range(Ylim):\n",
    "            xloc = X[i, j]\n",
    "            yloc = VX[i, j]\n",
    "            xdot[i,j], vdot[i,j] = VP_eqn(xloc, yloc,mu)\n",
    "    return xdot, vdot\n",
    "\n",
    "def VP_eqn_for_solve_ivp(t,curr_vals, mu=1): # need to rephrase this to work with what solve_ivp expects\n",
    "    x, v = curr_vals \n",
    "    xdot, vdot = VP_eqn(x,v,mu)\n",
    "    return xdot,vdot\n",
    "\n",
    "# Numerical Integration\n",
    "tmax = 20\n",
    "dt = 0.05\n",
    "tspan = (0,tmax)\n",
    "t = np.arange(0,tmax,dt)\n",
    "mu = 1.\n",
    "initial_condition = [1, 1] \n",
    "solved = solve_ivp(VP_eqn_for_solve_ivp,tspan,initial_condition,t_eval = t, args = (mu,),method=\"RK45\")\n",
    "\n",
    "\n",
    "# Plotting stuff\n",
    "N = 40\n",
    "x = np.linspace(-3., 3., N)\n",
    "v = np.linspace(-3., 3., N)\n",
    "X, V = np.meshgrid(x, v)\n",
    "xdot, vdot = VP_phase(X, V,mu)\n",
    "ax = plt.figure(figsize=(10,10))\n",
    "Q = plt.streamplot(X, V, xdot, vdot, color='k',broken_streamlines = False)\n",
    "plt.plot(solved.y[0],solved.y[1],lw = 3,c = 'red') # plot trajectory from solve_ivp\n",
    "plt.grid()\n",
    "plt.xlabel('$x$')\n",
    "plt.ylabel('$v$')\n",
    "plt.show()"
   ]
  },
  {
   "cell_type": "code",
   "execution_count": null,
   "metadata": {},
   "outputs": [],
   "source": []
  }
 ],
 "metadata": {
  "kernelspec": {
   "display_name": "base",
   "language": "python",
   "name": "python3"
  },
  "language_info": {
   "codemirror_mode": {
    "name": "ipython",
    "version": 3
   },
   "file_extension": ".py",
   "mimetype": "text/x-python",
   "name": "python",
   "nbconvert_exporter": "python",
   "pygments_lexer": "ipython3",
   "version": "3.9.12"
  }
 },
 "nbformat": 4,
 "nbformat_minor": 2
}