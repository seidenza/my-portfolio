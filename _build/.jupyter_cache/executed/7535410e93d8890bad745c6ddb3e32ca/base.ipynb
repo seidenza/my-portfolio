{
 "cells": [
  {
   "cell_type": "code",
   "execution_count": 1,
   "metadata": {},
   "outputs": [],
   "source": [
    "import matplotlib.pyplot as plt\n",
    "import numpy as np\n",
    "import ipywidgets as widgets\n",
    "from IPython.display import display"
   ]
  },
  {
   "cell_type": "code",
   "execution_count": 2,
   "metadata": {},
   "outputs": [],
   "source": [
    "def monte_carlo_pi_plot(num_samples):\n",
    "    inside_circle = []\n",
    "    outside_circle = []\n",
    "\n",
    "    for _ in range(num_samples):\n",
    "        x, y = np.random.uniform(-1, 1), np.random.uniform(-1, 1)\n",
    "        if x**2 + y**2 <= 1:\n",
    "            inside_circle.append((x, y))\n",
    "        else:\n",
    "            outside_circle.append((x, y))\n",
    "\n",
    "    estimated_pi = 4 * len(inside_circle) / num_samples\n",
    "\n",
    "    # Plotting\n",
    "    fig, ax = plt.subplots()\n",
    "    circle = plt.Circle((0, 0), 1, color='black', fill=False)\n",
    "    ax.add_artist(circle)\n",
    "    ax.set_xlim(-1, 1)\n",
    "    ax.set_ylim(-1, 1)\n",
    "    ax.set_aspect('equal', adjustable='box')\n",
    "    ax.scatter(*zip(*inside_circle), color='blue', s=1)\n",
    "    ax.scatter(*zip(*outside_circle), color='red', s=1)\n",
    "    ax.set_title(f\"Monte Carlo Estimation of Pi: {estimated_pi:.4f} (Samples: {num_samples})\")\n",
    "    plt.show()"
   ]
  },
  {
   "cell_type": "code",
   "execution_count": 3,
   "metadata": {
    "tags": [
     "hide-input"
    ]
   },
   "outputs": [
    {
     "data": {
      "application/vnd.jupyter.widget-view+json": {
       "model_id": "c1ed726f669b4201a44e9143d9d5f063",
       "version_major": 2,
       "version_minor": 0
      },
      "text/plain": [
       "interactive(children=(IntSlider(value=100, continuous_update=False, description='Samples:', max=10000, min=100…"
      ]
     },
     "metadata": {},
     "output_type": "display_data"
    }
   ],
   "source": [
    "# Create a slider to control the number of samples\n",
    "slider = widgets.IntSlider(\n",
    "    value=100,\n",
    "    min=100,\n",
    "    max=10000,\n",
    "    step=100,\n",
    "    description='Samples:',\n",
    "    continuous_update=False\n",
    ")\n",
    "\n",
    "# Create an interactive widget\n",
    "widgets.interactive(monte_carlo_pi_plot, num_samples=slider)"
   ]
  }
 ],
 "metadata": {
  "kernelspec": {
   "display_name": "base",
   "language": "python",
   "name": "python3"
  },
  "language_info": {
   "codemirror_mode": {
    "name": "ipython",
    "version": 3
   },
   "file_extension": ".py",
   "mimetype": "text/x-python",
   "name": "python",
   "nbconvert_exporter": "python",
   "pygments_lexer": "ipython3",
   "version": "3.9.12"
  },
  "widgets": {
   "application/vnd.jupyter.widget-state+json": {
    "state": {
     "51832ec79b954674a366a24fc0b5677d": {
      "model_module": "@jupyter-widgets/base",
      "model_module_version": "1.2.0",
      "model_name": "LayoutModel",
      "state": {
       "_model_module": "@jupyter-widgets/base",
       "_model_module_version": "1.2.0",
       "_model_name": "LayoutModel",
       "_view_count": null,
       "_view_module": "@jupyter-widgets/base",
       "_view_module_version": "1.2.0",
       "_view_name": "LayoutView",
       "align_content": null,
       "align_items": null,
       "align_self": null,
       "border": null,
       "bottom": null,
       "display": null,
       "flex": null,
       "flex_flow": null,
       "grid_area": null,
       "grid_auto_columns": null,
       "grid_auto_flow": null,
       "grid_auto_rows": null,
       "grid_column": null,
       "grid_gap": null,
       "grid_row": null,
       "grid_template_areas": null,
       "grid_template_columns": null,
       "grid_template_rows": null,
       "height": null,
       "justify_content": null,
       "justify_items": null,
       "left": null,
       "margin": null,
       "max_height": null,
       "max_width": null,
       "min_height": null,
       "min_width": null,
       "object_fit": null,
       "object_position": null,
       "order": null,
       "overflow": null,
       "overflow_x": null,
       "overflow_y": null,
       "padding": null,
       "right": null,
       "top": null,
       "visibility": null,
       "width": null
      }
     },
     "76df3aad9bc2457d859b1d487a584031": {
      "model_module": "@jupyter-widgets/output",
      "model_module_version": "1.0.0",
      "model_name": "OutputModel",
      "state": {
       "_dom_classes": [],
       "_model_module": "@jupyter-widgets/output",
       "_model_module_version": "1.0.0",
       "_model_name": "OutputModel",
       "_view_count": null,
       "_view_module": "@jupyter-widgets/output",
       "_view_module_version": "1.0.0",
       "_view_name": "OutputView",
       "layout": "IPY_MODEL_9e5c1e353d8544e380c01e5ad8febebd",
       "msg_id": "",
       "outputs": [
        {
         "data": {
          "image/png": "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\n",
          "text/plain": "<Figure size 432x288 with 1 Axes>"
         },
         "metadata": {
          "needs_background": "light"
         },
         "output_type": "display_data"
        }
       ]
      }
     },
     "9e5c1e353d8544e380c01e5ad8febebd": {
      "model_module": "@jupyter-widgets/base",
      "model_module_version": "1.2.0",
      "model_name": "LayoutModel",
      "state": {
       "_model_module": "@jupyter-widgets/base",
       "_model_module_version": "1.2.0",
       "_model_name": "LayoutModel",
       "_view_count": null,
       "_view_module": "@jupyter-widgets/base",
       "_view_module_version": "1.2.0",
       "_view_name": "LayoutView",
       "align_content": null,
       "align_items": null,
       "align_self": null,
       "border": null,
       "bottom": null,
       "display": null,
       "flex": null,
       "flex_flow": null,
       "grid_area": null,
       "grid_auto_columns": null,
       "grid_auto_flow": null,
       "grid_auto_rows": null,
       "grid_column": null,
       "grid_gap": null,
       "grid_row": null,
       "grid_template_areas": null,
       "grid_template_columns": null,
       "grid_template_rows": null,
       "height": null,
       "justify_content": null,
       "justify_items": null,
       "left": null,
       "margin": null,
       "max_height": null,
       "max_width": null,
       "min_height": null,
       "min_width": null,
       "object_fit": null,
       "object_position": null,
       "order": null,
       "overflow": null,
       "overflow_x": null,
       "overflow_y": null,
       "padding": null,
       "right": null,
       "top": null,
       "visibility": null,
       "width": null
      }
     },
     "c1ed726f669b4201a44e9143d9d5f063": {
      "model_module": "@jupyter-widgets/controls",
      "model_module_version": "1.5.0",
      "model_name": "VBoxModel",
      "state": {
       "_dom_classes": [
        "widget-interact"
       ],
       "_model_module": "@jupyter-widgets/controls",
       "_model_module_version": "1.5.0",
       "_model_name": "VBoxModel",
       "_view_count": null,
       "_view_module": "@jupyter-widgets/controls",
       "_view_module_version": "1.5.0",
       "_view_name": "VBoxView",
       "box_style": "",
       "children": [
        "IPY_MODEL_e6d91597ae41475fa19e93f26075d83d",
        "IPY_MODEL_76df3aad9bc2457d859b1d487a584031"
       ],
       "layout": "IPY_MODEL_c4528ee1ed154018bfdd12e8ddb7ec8a"
      }
     },
     "c4528ee1ed154018bfdd12e8ddb7ec8a": {
      "model_module": "@jupyter-widgets/base",
      "model_module_version": "1.2.0",
      "model_name": "LayoutModel",
      "state": {
       "_model_module": "@jupyter-widgets/base",
       "_model_module_version": "1.2.0",
       "_model_name": "LayoutModel",
       "_view_count": null,
       "_view_module": "@jupyter-widgets/base",
       "_view_module_version": "1.2.0",
       "_view_name": "LayoutView",
       "align_content": null,
       "align_items": null,
       "align_self": null,
       "border": null,
       "bottom": null,
       "display": null,
       "flex": null,
       "flex_flow": null,
       "grid_area": null,
       "grid_auto_columns": null,
       "grid_auto_flow": null,
       "grid_auto_rows": null,
       "grid_column": null,
       "grid_gap": null,
       "grid_row": null,
       "grid_template_areas": null,
       "grid_template_columns": null,
       "grid_template_rows": null,
       "height": null,
       "justify_content": null,
       "justify_items": null,
       "left": null,
       "margin": null,
       "max_height": null,
       "max_width": null,
       "min_height": null,
       "min_width": null,
       "object_fit": null,
       "object_position": null,
       "order": null,
       "overflow": null,
       "overflow_x": null,
       "overflow_y": null,
       "padding": null,
       "right": null,
       "top": null,
       "visibility": null,
       "width": null
      }
     },
     "dba71bea34514fb4ba7da24390ffa08b": {
      "model_module": "@jupyter-widgets/controls",
      "model_module_version": "1.5.0",
      "model_name": "SliderStyleModel",
      "state": {
       "_model_module": "@jupyter-widgets/controls",
       "_model_module_version": "1.5.0",
       "_model_name": "SliderStyleModel",
       "_view_count": null,
       "_view_module": "@jupyter-widgets/base",
       "_view_module_version": "1.2.0",
       "_view_name": "StyleView",
       "description_width": "",
       "handle_color": null
      }
     },
     "e6d91597ae41475fa19e93f26075d83d": {
      "model_module": "@jupyter-widgets/controls",
      "model_module_version": "1.5.0",
      "model_name": "IntSliderModel",
      "state": {
       "_dom_classes": [],
       "_model_module": "@jupyter-widgets/controls",
       "_model_module_version": "1.5.0",
       "_model_name": "IntSliderModel",
       "_view_count": null,
       "_view_module": "@jupyter-widgets/controls",
       "_view_module_version": "1.5.0",
       "_view_name": "IntSliderView",
       "continuous_update": false,
       "description": "Samples:",
       "description_tooltip": null,
       "disabled": false,
       "layout": "IPY_MODEL_51832ec79b954674a366a24fc0b5677d",
       "max": 10000,
       "min": 100,
       "orientation": "horizontal",
       "readout": true,
       "readout_format": "d",
       "step": 100,
       "style": "IPY_MODEL_dba71bea34514fb4ba7da24390ffa08b",
       "value": 100
      }
     }
    },
    "version_major": 2,
    "version_minor": 0
   }
  }
 },
 "nbformat": 4,
 "nbformat_minor": 2
}