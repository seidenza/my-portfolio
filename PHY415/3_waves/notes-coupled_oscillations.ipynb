{
 "cells": [
  {
   "cell_type": "markdown",
   "metadata": {},
   "source": [
    "# 16 Oct 23 - Notes: Coupled Oscillations\n",
    "\n",
    "Single particle dynamics like the SHO and other singular point particle motion (e.g., basic kinematics, charges in fields modeled without interactions) are helpful in building our intuition of how physics _should_ work. We can track the position, velocity, and other dynamical quantities for these singular particles. We can determine how the act on and interact with their surroundings. We can find points of stasis (stable and unstable points); we can find different families of solutions (orbits vs runaway behavior); we can predict the motion of those particles with numerical routines.\n",
    "\n",
    "But what happens when we introduce a second particle? And we let it interact with the first particle. We have substantially opened the degrees of freedom (a way to characterize the complexity of our system) that our system has. We will see how these systems become expanded and how their dynamics becomes richer and more interesting.\n",
    "\n",
    "The canonical complication is the coupled oscillators, which will form the basis of our initial study, much like the SHO formed our initial work for dynamical models using ODEs. The setup appears below:\n",
    "\n",
    "<img src='https://www.entropy.energy/static/resources/coupled-oscillators/two-coupled-gliders-diagram.png' alt='Coupled Oscillator set up. Two oscillators connected by three springs in a horizontal line.' width=800px/>\n",
    "\n",
    "We will set up this problem below, but our analysis will proceed in class. To motivate our study of coupled oscillations, watch this excellent video (20 minutes) on the phenomenon on [synchronization](https://physicstoday.scitation.org/doi/10.1063/1.1554136).\n",
    "\n",
    "\n",
    "[![Synchronization](https://markdown-videos-api.jorgenkh.no/youtube/t-_VPRCtiUg?width=720&height=405)](https://inv.tux.pizza/watch?v=t-_VPRCtiUg)\n",
    "\n",
    "- Non-Commercial Link: [https://inv.tux.pizza/watch?v=t-_VPRCtiUg](https://inv.tux.pizza/watch?v=t-_VPRCtiUg)\n",
    "- Commercial Link: [https://youtube.com/watch?v=t-_VPRCtiUg](https://youtube.com/watch?v=t-_VPRCtiUg)"
   ]
  },
  {
   "cell_type": "markdown",
   "metadata": {},
   "source": [
    "## Synchronization\n",
    "\n",
    "Nature exhibits many different kinds of behaviors that we have organized into different concepts (i.e., random, chaotic, deterministic, synchronized). THese behaviors have interesting properties and allow us to bring different and new forms of mathematics and computing to the work; this includes new areas like [machine-learning based physics models](https://inv.tux.pizza/watch?v=2Bw5f4vYL98). As we move from a single object models to multiple objects models, we begin to explore these different conceptual behaviors. [Synchronization](https://www.quantamagazine.org/physicists-discover-exotic-patterns-of-synchronization-20190404/) is one that is common and natural to consider in the context of oscillations as you saw from the above video. [Fireflies](https://inv.tux.pizza/watch?v=ZGvtnE1Wy6U), [patterns in the operation of a heart](https://inv.tux.pizza/watch?v=2LPboySOSvo), and [coupled metronomes](https://inv.tux.pizza/watch?v=5v5eBf2KwF8) all exhibit this synchronized behavior. But, how is that possible? What physics is going on here? And how can it lead in and out of synchronization like this pendulum setup below?\n",
    "\n",
    "\n",
    "[![Synchronized pendulum](https://markdown-videos-api.jorgenkh.no/youtube/yVkdfJ9PkRQ?width=720&height=405)](https://inv.tux.pizza/watch?v=yVkdfJ9PkRQ)\n",
    "\n",
    "- Non-Commercial Link: [https://inv.tux.pizza/watch?v=yVkdfJ9PkRQ](https://inv.tux.pizza/watch?v=yVkdfJ9PkRQ)\n",
    "- Commercial Link: [https://youtube.com/watch?v=yVkdfJ9PkRQ](https://youtube.com/watch?v=yVkdfJ9PkRQ)"
   ]
  },
  {
   "cell_type": "markdown",
   "metadata": {},
   "source": [
    "```{admonition} Huygen's Clocks\n",
    "Much of this early understanding of synchronization we owe to the Dutch mathematician, [Christiann Huygens](https://en.wikipedia.org/wiki/Christiaan_Huygens), who spent much of his work trying to understand periodic motion. In this work, he observed the oscillation of two pendulum clocks that would eventually oscillate in precisely opposite swings. A great writeup of this history and its implications is [here](https://www.quantamagazine.org/physicists-discover-exotic-patterns-of-synchronization-20190404/). This phenomenon was explored experimentally and theoretically by three physicists at Georgia Tech, Matt Bennet, Mike Schatz (my Phd Advisor!), and Kurt Wiesenfeld. Their paper was written in collaboration with, history and language professor emerita, Heidi Rockwood. It's a [fun read](http://engineering.nyu.edu/mechatronics/Control_Lab/bck/VKapila/Chaotic%20Ref/Hujgens.pdf).\n",
    "\n",
    "We know use this phenomenon to [entrain oscillators](https://en.wikipedia.org/wiki/Injection_locking#Entrainment); this kind of mode locking is really important to science -- especially ultra-fast science. Physicists like [Dr. Jennifer Ogilive at the University of Michigan](https://www.ogilviegroup.org/) use this phenomenon to image biological materials that undergo very fast transitions.\n",
    "```"
   ]
  },
  {
   "cell_type": "markdown",
   "metadata": {},
   "source": [
    "## Coupled Oscillations\n",
    "\n",
    "The key to why these phenomena are possible is the increase in the number of **Degrees of Freedom**. You can think of this as the [ways in which the system can move](https://en.wikipedia.org/wiki/Degrees_of_freedom_(mechanics)) -- really we should try to think of it as the [additional variables in phase space](https://en.wikipedia.org/wiki/Degrees_of_freedom_(physics_and_chemistry)) that become available by adding more particles and interactions. We will start with the canonical longitudinal oscillations of two coupled spring oscillators.\n",
    "\n",
    "<img src='https://www.entropy.energy/static/resources/coupled-oscillators/two-coupled-gliders-diagram.png' alt='Coupled Oscillator set up. Two oscillators connected by three springs in a horizontal line.' width=800px/>\n",
    "\n",
    "Our analysis will proceed with an investigation of [normal modes](https://en.wikipedia.org/wiki/Normal_mode), which is a powerful tool that lets us not only analyze systems with many degrees of freedom; it can help us conceptually think about building up solutions for continuous systems that have infinite degrees of freedom (i.e., a rope or a water wave)."
   ]
  },
  {
   "cell_type": "markdown",
   "metadata": {},
   "source": [
    "We start by writing the differential equations that describe the motion of the system, noting that the length measures are critical for establishing the right differential equation:\n",
    "\n",
    "Left mass:\n",
    "\n",
    "$$m \\ddot{x}_{1} = -k x_1 + k'(x_2-x_1)$$\n",
    "\n",
    "Right mass:\n",
    "\n",
    "$$m \\ddot{x}_{2} = - k'(x_2-x_1)-kx_2$$\n",
    "\n",
    "We can write these in the following way:\n",
    "\n",
    "$$\\ddot{x}_{1} = -\\dfrac{k}{m} x_1 + \\dfrac{k'}{m}(x_2-x_1)$$\n",
    "\n",
    "$$\\ddot{x}_{2} = - \\dfrac{k'}{m}(x_2-x_1)-\\dfrac{k}{m}x_2$$\n",
    "\n",
    "And then:\n",
    "\n",
    "$$\\ddot{x}_{1} = -\\left(\\dfrac{k}{m}+\\dfrac{k'}{m}\\right) x_1 + \\dfrac{k'}{m}x_2$$\n",
    "\n",
    "$$\\ddot{x}_{2} = \\dfrac{k'}{m}x_1 - \\left(\\dfrac{k}{m}+\\dfrac{k'}{m}\\right)x_2$$\n",
    "\n",
    "This is a linear differential equation. That means we can represent it as a vector equation:\n",
    "\n",
    "$$\\ddot{\\mathbf{x}} = \\pmb{A} \\mathbf{x}$$\n",
    "\n",
    "where $\\pmb{A}$ will represent the different coefficients in our differential equation. Below we write the matrix representation of the same equation above:\n",
    "\n",
    "$$\\begin{bmatrix}\n",
    "\\ddot{x}_1\\\\\n",
    "\\ddot{x}_2\n",
    "\\end{bmatrix} = \\begin{bmatrix}\n",
    "-\\left(\\dfrac{k}{m}+\\dfrac{k'}{m}\\right) & +\\dfrac{k'}{m}\\\\\n",
    "+\\dfrac{k'}{m} & -\\left(\\dfrac{k}{m}+\\dfrac{k'}{m}\\right)\n",
    "\\end{bmatrix}\n",
    "\\begin{bmatrix}\n",
    "{x}_1\\\\\n",
    "{x}_2\n",
    "\\end{bmatrix}\n",
    "$$\n",
    "\n",
    "When all the springs are the same $k$, you will show in class this leads to two normal modes with frequencies:\n",
    "\n",
    "$$\\omega_1^2 = \\dfrac{k}{m}$$\n",
    "$$\\omega_2^2 = \\dfrac{3k}{m}$$"
   ]
  },
  {
   "cell_type": "markdown",
   "metadata": {},
   "source": [
    "## Additional Resources\n",
    "\n",
    "This reading is useful preparation for our normal modes discussion.\n",
    "\n",
    "### Crawford's Waves book - Secs. 1.1-1.5\n",
    "\n",
    "This book is a great resource for learning about oscillations and waves. Unfortunately, it is out of print. We will discuss a lot of these examples in class.\n",
    "- [Ch 1.1-1.3 - A nice intro to waves, with examples and terminology defined](../assets/scans/Crawford-Waves-Secs_1.1-1.3.pdf)\n",
    "- [Ch 1.4-1.5 - Normal modes and beats](../assets/scans/Crawford-Waves-Secs_1.4-1.5.pdf)\n",
    "\n",
    "These readings will introduce the concept of normal modes, which we will discuss with a short lecture and example that you will work. And it will show a phenomenon that we can explore: [Beats](https://en.wikipedia.org/wiki/Beat_(acoustics))\n",
    "\n",
    "### Handwritten Notes\n",
    "\n",
    "Here are my handwritten notes on coupled oscillations and normal modes.\n",
    "\n",
    "* [Coupled Oscillations](../assets/notes/Notes-Coupled_Oscillations.pdf)\n",
    "* [Three coupled oscillator example](../assets/notes/Notes-Three_Coupled_Oscillators.pdf)\n",
    "\n",
    "### Video Resources\n",
    "\n",
    "If you are a feeling that you would like a little more on oscillations, beats, and matrices before we have class. Check out this video.\n",
    "\n",
    "[![Coupled Oscillator Lecture](https://markdown-videos-api.jorgenkh.no/youtube/I0YACDaY-ww?width=720&height=405)](https://inv.tux.pizza/watch?v=I0YACDaY-ww)\n",
    "\n",
    "- Non-Commercial Link: [https://inv.tux.pizza/watch?v=I0YACDaY-ww](https://inv.tux.pizza/watch?v=I0YACDaY-ww)\n",
    "- Commercial Link: [https://youtube.com/watch?v=I0YACDaY-ww](https://youtube.com/watch?v=I0YACDaY-ww)"
   ]
  },
  {
   "cell_type": "markdown",
   "metadata": {},
   "source": []
  }
 ],
 "metadata": {
  "kernelspec": {
   "display_name": "base",
   "language": "python",
   "name": "python3"
  },
  "language_info": {
   "name": "python",
   "version": "3.9.12"
  },
  "orig_nbformat": 4
 },
 "nbformat": 4,
 "nbformat_minor": 2
}
