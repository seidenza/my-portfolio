{
 "cells": [
  {
   "cell_type": "markdown",
   "metadata": {},
   "source": [
    "# 31 Oct 23 - Activity: Signal Deconstruction\n",
    "\n",
    "We have started to show that we can take waves of any periodicity and add them together to get new signals. But more common is for us to receive a signal and want to know what waves are in it. This is the process of signal deconstruction. We will be using $V(t)$ to describe this signal because pretty much everything is a voltage. But now we introduce the toolkit that can help us do this. \n",
    "\n",
    "We can build up this idea by starting with a given $V(t)$ with some base periodicity ($w_0$ or $T_0$), really the longest period or lowest frequency in the signal. We can use a Fourier Series to decompose those signals in terms of harmonics ($n\\;\\omega_0$) of the base frequency. The model of this decomposition is given by the [infinite series](https://en.wikipedia.org/wiki/Fourier_series#Sine-cosine_form):\n",
    "\n",
    "$f(t) = \\dfrac{a_0}{2} + \\sum_{n=1}^{\\infty} a_n \\cos(n\\omega_0t) + b_n \\sin(n\\omega_0t)$\n",
    "\n",
    "Or\n",
    "\n",
    "$f(t) = \\dfrac{a_0}{2} + \\sum_{n=1}^{\\infty} a_n \\cos\\left(\\dfrac{2n\\pi}{T_0}t\\right) + b_n \\sin\\left(\\dfrac{2n\\pi}{T_0}t\\right)$\n",
    "\n",
    "By using the [orthogonal nature](https://en.wikipedia.org/wiki/Orthogonal_functions) of $\\sin$ and $\\cos$ over one period, we can find the unknown coefficients for a given signal $V(t)$. \n",
    "\n",
    "## DC Offset\n",
    "\n",
    "The first term in the sum is just related to the DC offset, that is the average of the signal over one period. That's because $sin$ and $cos$ don't shift the average (they have a time average of zero, remember?)\n",
    "\n",
    "$\\dfrac{a_0}{2} = \\dfrac{1}{T_0}\\int_{T_0} f(t) dt$\n",
    "\n",
    "## Periodic Models\n",
    "\n",
    "For the periodicity, we use \"Fourier's Trick\" to determine the value of the coefficients. *Note that you need the signal $V(t)$ to complete this work.* And this isn't a trick, it's a well-established method.\n",
    "\n",
    "$a_n = \\dfrac{2}{T_0}\\int_{T_0}V(t)\\cos(n\\omega_0t)\\qquad n\\neq0$\n",
    "\n",
    "$b_n = \\dfrac{2}{T_0}\\int_{T_0}V(t)\\sin(n\\omega_0t)\\qquad n\\neq0$\n",
    "\n",
    "Given this, our approximate $V(t)$ is given up to the $N$ term is,\n",
    "\n",
    "$V(t) \\approx \\dfrac{a_0}{2} + \\sum_{n=1}^{N} a_n \\cos(n\\omega_0t) + b_n \\sin(n\\omega_0t)$"
   ]
  },
  {
   "cell_type": "markdown",
   "metadata": {},
   "source": [
    "## Example: The Duty Cycle\n",
    "\n",
    "There are many signals we could analyze, but one of the common (and more mathematically tractable) ones is the [Duty Cycle](https://en.wikipedia.org/wiki/Duty_cycle). In fact, this signal is in wide use across electrical devices for timed on and off states. Moreover, the behaviors of some neurons and muscle fibers have been shown to approximate duty cycle firing. Synthesizers and electronic music are similar heavy users of [pulse width modulation](https://en.wikipedia.org/wiki/Pulse-width_modulation), which stems from this signal.\n",
    "\n",
    "The half-wave (square wave) duty cycle is given by,\n",
    "\n",
    "$V(t) = \\begin{cases} 0 & 0 \\leq t < \\dfrac{T_0}{2} \\\\ V_0 & \\dfrac{T_0}{2} \\leq t < T_0 \\end{cases}$\n",
    "\n",
    "**&#9989; Do this** \n",
    "1. Identify which integrals you have to do (consider the orthogonality of the functions).\n",
    "2. Construct the integrals you need to do (over what cycle are you integrating?).\n",
    "3. Perform the integrals (consider using `sympy`). \n",
    "4. Determine the coefficients $a_n$'s and $b_n$'s.\n",
    "5. Write the function $V(t)$ in terms of the $a_n$'s and $b_n$'s."
   ]
  },
  {
   "cell_type": "markdown",
   "metadata": {},
   "source": [
    "### Visualizing the Duty Cycle\n",
    "\n",
    "It's great that we can produce a solution to this problem,\n",
    "\n",
    "$$V(t) = \\dfrac{V_0}{2} + \\sum_{n=1}^{\\infty} \\dfrac{V_0}{n\\pi}\\left[\\cos(n\\pi)-1\\right]\\sin\\left(\\dfrac{2n\\pi}{T_0}t\\right)$$\n",
    "\n",
    "but what does it look like?\n",
    "\n",
    "**&#9989; Do this** \n",
    "1. Write the relevant functions to compute the coefficients $a_n$'s and $b_n$'s.\n",
    "2. Write the relevant functions to compute the $V(t)$.\n",
    "3. Plot the $V(t)$ along with the square wave (look into the `scipy.signal.square` function)."
   ]
  },
  {
   "cell_type": "code",
   "execution_count": 3,
   "metadata": {},
   "outputs": [],
   "source": [
    "import numpy as np\n",
    "import matplotlib.pyplot as plt\n",
    "import scipy.signal as sig\n",
    "%matplotlib inline"
   ]
  },
  {
   "cell_type": "code",
   "execution_count": null,
   "metadata": {},
   "outputs": [],
   "source": [
    "## your code here"
   ]
  },
  {
   "cell_type": "markdown",
   "metadata": {},
   "source": [
    "## Complex Numbers\n",
    "\n",
    "One the most useful approaches to representing periodic signals is to use complex numbers. This is because the [Euler's Formula](https://en.wikipedia.org/wiki/Euler%27s_formula) allows us to represent the trigonometric functions as complex exponentials. Euler's formula is given by,\n",
    "\n",
    "$e^{i\\theta} = \\cos(\\theta) + i\\sin(\\theta)$\n",
    "\n",
    "where $i$ is the imaginary number. But what are the properties of [complex numbers](https://en.wikipedia.org/wiki/Complex_number)? There are a larger class of numbers than the reals, and they have interesting properties. The generic form of a complex number is given by,\n",
    "\n",
    "$$z = a + ib$$\n",
    "\n",
    "where $a$ and $b$ are real numbers and $i$ is the square root of negative one. We can also write this in terms of the magnitude and phase,\n",
    "\n",
    "$$z = r e^{i\\theta}$$\n",
    "\n",
    "where $r$ is the magnitude and $\\theta$ is the phase and both are real numbers. These two representations are compatible if we think of a complex number represented in the complex plane where the reals appears on the $x$ and the imaginaries on the $y$.\n",
    "\n",
    "![Complex Plane](https://upload.wikimedia.org/wikipedia/commons/d/d6/Argandgaussplane.png)\n",
    "\n",
    "The basic properties of complex numbers are below for two numbers $z_1 = a_1 + ib_1$ and $z_2 = a_2 + ib_2$:\n",
    "\n",
    "* Addition: $z_1 + z_2 = (a_1 + a_2) + i(b_1 + b_2)$\n",
    "* Subtraction: $z_1 - z_2 = (a_1 - a_2) + i(b_1 - b_2)$\n",
    "* Multiplication: $z_1 z_2 = (a_1 a_2 - b_1 b_2) + i(a_1 b_2 + a_2 b_1)$\n",
    "* Division: $\\dfrac{z_1}{z_2} = \\dfrac{a_1 a_2 + b_1 b_2}{a_2^2 + b_2^2} + i\\dfrac{a_2 b_1 - a_1 b_2}{a_2^2 + b_2^2}$\n",
    "\n",
    "Some of these operations are simpler in the polar form. For example, multiplication is just the product of the magnitudes and the sum of the phases. Division is the ratio of the magnitudes and the difference of the phases. For two complex numbers $z_1 = r_1 e^{i\\theta_1}$ and $z_2 = r_2 e^{i\\theta_2}$:\n",
    "\n",
    "* Multiplication: $z_1 z_2 = r_1 r_2 e^{i(\\theta_1 + \\theta_2)}$\n",
    "* Division: $\\dfrac{z_1}{z_2} = \\dfrac{r_1}{r_2} e^{i(\\theta_1 - \\theta_2)}$\n",
    "\n",
    "Other operations are best represented in the polar form:\n",
    "\n",
    "* Powers: $z^n = r^n e^{in\\theta}$\n",
    "* Roots: $z^{1/n} = r^{1/n} e^{i\\theta/n}$\n",
    "\n",
    "### Representing Trigonometric Functions\n",
    "\n",
    "We can use Euler's formula to represent the trigonometric functions as complex exponentials. For example,\n",
    "\n",
    "$$\\cos(\\theta) = \\dfrac{e^{i\\theta} + e^{-i\\theta}}{2}$$\n",
    "$$\\sin(\\theta) = \\dfrac{e^{i\\theta} - e^{-i\\theta}}{2i}$$"
   ]
  },
  {
   "cell_type": "markdown",
   "metadata": {},
   "source": [
    "Take the square wave function from above:\n",
    "\n",
    "$$V(t) = \\begin{cases} 0 & 0 \\leq t < \\dfrac{T_0}{2} \\\\ V_0 & \\dfrac{T_0}{2} \\leq t < T_0 \\end{cases}$$\n",
    "\n",
    "and compute the complex coefficients $c_n$'s,\n",
    "\n",
    "$$c_n = \\dfrac{1}{T_0}\\int_{T_0}V(t)e^{-in\\omega_0t}dt$$\n",
    "\n",
    "where our new model is,\n",
    "\n",
    "$$V(t) = a_0 + \\sum_{n=-\\infty}^{\\infty} c_n e^{in\\omega_0t}$$\n",
    "\n",
    "**&#9989; Do this**\n",
    "\n",
    "1. Take the signal $V(t)$ and determine which integrals you have to do.\n",
    "2. Construct the integrals you need to do (over what cycle are you integrating?).\n",
    "3. Perform the integrals (consider using `sympy`) and find the coefficients $c_n$'s.\n",
    "4. Write the function $V(t)$ in terms of the $c_n$'s. (What about the imaginary part?)"
   ]
  },
  {
   "cell_type": "markdown",
   "metadata": {},
   "source": []
  }
 ],
 "metadata": {
  "kernelspec": {
   "display_name": "base",
   "language": "python",
   "name": "python3"
  },
  "language_info": {
   "codemirror_mode": {
    "name": "ipython",
    "version": 3
   },
   "file_extension": ".py",
   "mimetype": "text/x-python",
   "name": "python",
   "nbconvert_exporter": "python",
   "pygments_lexer": "ipython3",
   "version": "3.9.12"
  },
  "orig_nbformat": 4
 },
 "nbformat": 4,
 "nbformat_minor": 2
}
